{
 "cells": [
  {
   "cell_type": "code",
   "execution_count": 1,
   "metadata": {},
   "outputs": [
    {
     "data": {
      "text/html": [
       "<div>\n",
       "<style scoped>\n",
       "    .dataframe tbody tr th:only-of-type {\n",
       "        vertical-align: middle;\n",
       "    }\n",
       "\n",
       "    .dataframe tbody tr th {\n",
       "        vertical-align: top;\n",
       "    }\n",
       "\n",
       "    .dataframe thead th {\n",
       "        text-align: right;\n",
       "    }\n",
       "</style>\n",
       "<table border=\"1\" class=\"dataframe\">\n",
       "  <thead>\n",
       "    <tr style=\"text-align: right;\">\n",
       "      <th></th>\n",
       "      <th>Name of Covered Entity</th>\n",
       "      <th>State</th>\n",
       "      <th>Covered Entity Type</th>\n",
       "      <th>Individuals Affected</th>\n",
       "      <th>Breach Submission Date</th>\n",
       "      <th>2009</th>\n",
       "      <th>2010</th>\n",
       "      <th>2011</th>\n",
       "      <th>2012</th>\n",
       "      <th>2013</th>\n",
       "      <th>2014</th>\n",
       "      <th>2015</th>\n",
       "      <th>2016</th>\n",
       "      <th>Type of Breach</th>\n",
       "      <th>Location of Breached Information</th>\n",
       "      <th>Business Associate Present</th>\n",
       "      <th>Web Description</th>\n",
       "    </tr>\n",
       "  </thead>\n",
       "  <tbody>\n",
       "    <tr>\n",
       "      <th>0</th>\n",
       "      <td>Advantage Consolidated LLC</td>\n",
       "      <td>OR</td>\n",
       "      <td>Healthcare Provider</td>\n",
       "      <td>151626</td>\n",
       "      <td>2015-03-18</td>\n",
       "      <td>NaN</td>\n",
       "      <td>NaN</td>\n",
       "      <td>NaN</td>\n",
       "      <td>NaN</td>\n",
       "      <td>NaN</td>\n",
       "      <td>NaN</td>\n",
       "      <td>1.0</td>\n",
       "      <td>NaN</td>\n",
       "      <td>Hacking/IT Incident</td>\n",
       "      <td>Other</td>\n",
       "      <td>No</td>\n",
       "      <td>NaN</td>\n",
       "    </tr>\n",
       "    <tr>\n",
       "      <th>1</th>\n",
       "      <td>Doctors First Choice Billings, Inc.</td>\n",
       "      <td>FL</td>\n",
       "      <td>Business Associate</td>\n",
       "      <td>1831</td>\n",
       "      <td>2014-06-12</td>\n",
       "      <td>NaN</td>\n",
       "      <td>NaN</td>\n",
       "      <td>NaN</td>\n",
       "      <td>NaN</td>\n",
       "      <td>NaN</td>\n",
       "      <td>1.0</td>\n",
       "      <td>NaN</td>\n",
       "      <td>NaN</td>\n",
       "      <td>Hacking/IT Incident</td>\n",
       "      <td>Other</td>\n",
       "      <td>Yes</td>\n",
       "      <td>\\N</td>\n",
       "    </tr>\n",
       "    <tr>\n",
       "      <th>2</th>\n",
       "      <td>Goshen Health System, Inc.</td>\n",
       "      <td>IN</td>\n",
       "      <td>Healthcare Provider</td>\n",
       "      <td>660</td>\n",
       "      <td>2012-02-14</td>\n",
       "      <td>NaN</td>\n",
       "      <td>NaN</td>\n",
       "      <td>NaN</td>\n",
       "      <td>1.0</td>\n",
       "      <td>NaN</td>\n",
       "      <td>NaN</td>\n",
       "      <td>NaN</td>\n",
       "      <td>NaN</td>\n",
       "      <td>Hacking/IT Incident</td>\n",
       "      <td>Other</td>\n",
       "      <td>No</td>\n",
       "      <td>Computer servers of Goshen Health System's bus...</td>\n",
       "    </tr>\n",
       "    <tr>\n",
       "      <th>3</th>\n",
       "      <td>Group Life Hospital and Medical Program</td>\n",
       "      <td>CT</td>\n",
       "      <td>Health Plan</td>\n",
       "      <td>3000</td>\n",
       "      <td>2016-02-29</td>\n",
       "      <td>NaN</td>\n",
       "      <td>NaN</td>\n",
       "      <td>NaN</td>\n",
       "      <td>NaN</td>\n",
       "      <td>NaN</td>\n",
       "      <td>NaN</td>\n",
       "      <td>NaN</td>\n",
       "      <td>1.0</td>\n",
       "      <td>Hacking/IT Incident</td>\n",
       "      <td>Other</td>\n",
       "      <td>No</td>\n",
       "      <td>NaN</td>\n",
       "    </tr>\n",
       "    <tr>\n",
       "      <th>4</th>\n",
       "      <td>Health Incent, LLC</td>\n",
       "      <td>TN</td>\n",
       "      <td>Healthcare Provider</td>\n",
       "      <td>1100</td>\n",
       "      <td>2016-07-11</td>\n",
       "      <td>NaN</td>\n",
       "      <td>NaN</td>\n",
       "      <td>NaN</td>\n",
       "      <td>NaN</td>\n",
       "      <td>NaN</td>\n",
       "      <td>NaN</td>\n",
       "      <td>NaN</td>\n",
       "      <td>1.0</td>\n",
       "      <td>Hacking/IT Incident</td>\n",
       "      <td>Other</td>\n",
       "      <td>No</td>\n",
       "      <td>NaN</td>\n",
       "    </tr>\n",
       "    <tr>\n",
       "      <th>...</th>\n",
       "      <td>...</td>\n",
       "      <td>...</td>\n",
       "      <td>...</td>\n",
       "      <td>...</td>\n",
       "      <td>...</td>\n",
       "      <td>...</td>\n",
       "      <td>...</td>\n",
       "      <td>...</td>\n",
       "      <td>...</td>\n",
       "      <td>...</td>\n",
       "      <td>...</td>\n",
       "      <td>...</td>\n",
       "      <td>...</td>\n",
       "      <td>...</td>\n",
       "      <td>...</td>\n",
       "      <td>...</td>\n",
       "      <td>...</td>\n",
       "    </tr>\n",
       "    <tr>\n",
       "      <th>1695</th>\n",
       "      <td>M&amp;C Children's Clinic PA</td>\n",
       "      <td>TX</td>\n",
       "      <td>NaN</td>\n",
       "      <td>NaN</td>\n",
       "      <td>2013-03-19</td>\n",
       "      <td>NaN</td>\n",
       "      <td>NaN</td>\n",
       "      <td>NaN</td>\n",
       "      <td>NaN</td>\n",
       "      <td>1.0</td>\n",
       "      <td>NaN</td>\n",
       "      <td>NaN</td>\n",
       "      <td>NaN</td>\n",
       "      <td>NaN</td>\n",
       "      <td>NaN</td>\n",
       "      <td>No</td>\n",
       "      <td>On March 19, 2013, the covered entity (CE), M ...</td>\n",
       "    </tr>\n",
       "    <tr>\n",
       "      <th>1696</th>\n",
       "      <td>Memorial Health Systems</td>\n",
       "      <td>CO</td>\n",
       "      <td>NaN</td>\n",
       "      <td>NaN</td>\n",
       "      <td>2011-07-15</td>\n",
       "      <td>NaN</td>\n",
       "      <td>NaN</td>\n",
       "      <td>1.0</td>\n",
       "      <td>NaN</td>\n",
       "      <td>NaN</td>\n",
       "      <td>NaN</td>\n",
       "      <td>NaN</td>\n",
       "      <td>NaN</td>\n",
       "      <td>NaN</td>\n",
       "      <td>NaN</td>\n",
       "      <td>No</td>\n",
       "      <td>NaN</td>\n",
       "    </tr>\n",
       "    <tr>\n",
       "      <th>1697</th>\n",
       "      <td>Northwestern Memorial HealthCare</td>\n",
       "      <td>IL</td>\n",
       "      <td>NaN</td>\n",
       "      <td>NaN</td>\n",
       "      <td>2014-12-23</td>\n",
       "      <td>NaN</td>\n",
       "      <td>NaN</td>\n",
       "      <td>NaN</td>\n",
       "      <td>NaN</td>\n",
       "      <td>NaN</td>\n",
       "      <td>NaN</td>\n",
       "      <td>NaN</td>\n",
       "      <td>NaN</td>\n",
       "      <td>NaN</td>\n",
       "      <td>NaN</td>\n",
       "      <td>No</td>\n",
       "      <td>NaN</td>\n",
       "    </tr>\n",
       "    <tr>\n",
       "      <th>1698</th>\n",
       "      <td>St. Joseph Health System</td>\n",
       "      <td>CA</td>\n",
       "      <td>NaN</td>\n",
       "      <td>NaN</td>\n",
       "      <td>2012-02-15</td>\n",
       "      <td>NaN</td>\n",
       "      <td>NaN</td>\n",
       "      <td>NaN</td>\n",
       "      <td>NaN</td>\n",
       "      <td>NaN</td>\n",
       "      <td>NaN</td>\n",
       "      <td>NaN</td>\n",
       "      <td>NaN</td>\n",
       "      <td>NaN</td>\n",
       "      <td>NaN</td>\n",
       "      <td>No</td>\n",
       "      <td>NaN</td>\n",
       "    </tr>\n",
       "    <tr>\n",
       "      <th>1699</th>\n",
       "      <td>StandfordSchoolMedicine&amp; LP Children Hosp, Pri...</td>\n",
       "      <td>CA</td>\n",
       "      <td>NaN</td>\n",
       "      <td>NaN</td>\n",
       "      <td>2013-01-23</td>\n",
       "      <td>NaN</td>\n",
       "      <td>NaN</td>\n",
       "      <td>NaN</td>\n",
       "      <td>NaN</td>\n",
       "      <td>NaN</td>\n",
       "      <td>NaN</td>\n",
       "      <td>NaN</td>\n",
       "      <td>NaN</td>\n",
       "      <td>NaN</td>\n",
       "      <td>NaN</td>\n",
       "      <td>No</td>\n",
       "      <td>NaN</td>\n",
       "    </tr>\n",
       "  </tbody>\n",
       "</table>\n",
       "<p>1700 rows × 17 columns</p>\n",
       "</div>"
      ],
      "text/plain": [
       "                                 Name of Covered Entity State  \\\n",
       "0                            Advantage Consolidated LLC    OR   \n",
       "1                   Doctors First Choice Billings, Inc.    FL   \n",
       "2                            Goshen Health System, Inc.    IN   \n",
       "3               Group Life Hospital and Medical Program    CT   \n",
       "4                                    Health Incent, LLC    TN   \n",
       "...                                                 ...   ...   \n",
       "1695                           M&C Children's Clinic PA    TX   \n",
       "1696                            Memorial Health Systems    CO   \n",
       "1697                   Northwestern Memorial HealthCare    IL   \n",
       "1698                           St. Joseph Health System    CA   \n",
       "1699  StandfordSchoolMedicine& LP Children Hosp, Pri...    CA   \n",
       "\n",
       "      Covered Entity Type Individuals Affected Breach Submission Date  2009  \\\n",
       "0     Healthcare Provider               151626             2015-03-18   NaN   \n",
       "1      Business Associate                 1831             2014-06-12   NaN   \n",
       "2     Healthcare Provider                  660             2012-02-14   NaN   \n",
       "3             Health Plan                 3000             2016-02-29   NaN   \n",
       "4     Healthcare Provider                 1100             2016-07-11   NaN   \n",
       "...                   ...                  ...                    ...   ...   \n",
       "1695                  NaN                  NaN             2013-03-19   NaN   \n",
       "1696                  NaN                  NaN             2011-07-15   NaN   \n",
       "1697                  NaN                  NaN             2014-12-23   NaN   \n",
       "1698                  NaN                  NaN             2012-02-15   NaN   \n",
       "1699                  NaN                  NaN             2013-01-23   NaN   \n",
       "\n",
       "      2010  2011  2012  2013  2014  2015  2016       Type of Breach  \\\n",
       "0      NaN   NaN   NaN   NaN   NaN   1.0   NaN  Hacking/IT Incident   \n",
       "1      NaN   NaN   NaN   NaN   1.0   NaN   NaN  Hacking/IT Incident   \n",
       "2      NaN   NaN   1.0   NaN   NaN   NaN   NaN  Hacking/IT Incident   \n",
       "3      NaN   NaN   NaN   NaN   NaN   NaN   1.0  Hacking/IT Incident   \n",
       "4      NaN   NaN   NaN   NaN   NaN   NaN   1.0  Hacking/IT Incident   \n",
       "...    ...   ...   ...   ...   ...   ...   ...                  ...   \n",
       "1695   NaN   NaN   NaN   1.0   NaN   NaN   NaN                  NaN   \n",
       "1696   NaN   1.0   NaN   NaN   NaN   NaN   NaN                  NaN   \n",
       "1697   NaN   NaN   NaN   NaN   NaN   NaN   NaN                  NaN   \n",
       "1698   NaN   NaN   NaN   NaN   NaN   NaN   NaN                  NaN   \n",
       "1699   NaN   NaN   NaN   NaN   NaN   NaN   NaN                  NaN   \n",
       "\n",
       "     Location of Breached Information Business Associate Present  \\\n",
       "0                               Other                         No   \n",
       "1                               Other                        Yes   \n",
       "2                               Other                         No   \n",
       "3                               Other                         No   \n",
       "4                               Other                         No   \n",
       "...                               ...                        ...   \n",
       "1695                              NaN                         No   \n",
       "1696                              NaN                         No   \n",
       "1697                              NaN                         No   \n",
       "1698                              NaN                         No   \n",
       "1699                              NaN                         No   \n",
       "\n",
       "                                        Web Description  \n",
       "0                                                   NaN  \n",
       "1                                                    \\N  \n",
       "2     Computer servers of Goshen Health System's bus...  \n",
       "3                                                   NaN  \n",
       "4                                                   NaN  \n",
       "...                                                 ...  \n",
       "1695  On March 19, 2013, the covered entity (CE), M ...  \n",
       "1696                                                NaN  \n",
       "1697                                                NaN  \n",
       "1698                                                NaN  \n",
       "1699                                                NaN  \n",
       "\n",
       "[1700 rows x 17 columns]"
      ]
     },
     "execution_count": 1,
     "metadata": {},
     "output_type": "execute_result"
    }
   ],
   "source": [
    "import pandas as pd\n",
    "df = pd.read_excel(r'C:\\Users\\HP\\OneDrive\\Desktop\\Health Data Breaches.xlsx')\n",
    "df"
   ]
  },
  {
   "cell_type": "code",
   "execution_count": 2,
   "metadata": {},
   "outputs": [],
   "source": [
    "pd.options.display.max_rows = 999"
   ]
  },
  {
   "cell_type": "code",
   "execution_count": 3,
   "metadata": {},
   "outputs": [],
   "source": [
    "df[2009] = df[2009].replace([1],2009)\n",
    "df[2010] = df[2010].replace([1],2010)\n",
    "df[2011] = df[2011].replace([1],2011)\n",
    "df[2012] = df[2012].replace([1],2012)\n",
    "df[2013] = df[2013].replace([1],2013)\n",
    "df[2014] = df[2014].replace([1],2014)\n",
    "df[2015] = df[2015].replace([1],2015)\n",
    "df[2016] = df[2016].replace([1],2016)"
   ]
  },
  {
   "cell_type": "code",
   "execution_count": 4,
   "metadata": {},
   "outputs": [],
   "source": [
    "df['Year']=df[2009].fillna(0) + df[2010].fillna(0) + df[2011].fillna(0) + df[2012].fillna(0) + df[2013].fillna(0) + df[2014].fillna(0) + df[2015].fillna(0) + df[2016].fillna(0)"
   ]
  },
  {
   "cell_type": "code",
   "execution_count": 5,
   "metadata": {},
   "outputs": [],
   "source": [
    "df1=df.drop(columns=[2009,2010,2011,2012,2013,2014,2015,2016])"
   ]
  },
  {
   "cell_type": "code",
   "execution_count": 6,
   "metadata": {},
   "outputs": [],
   "source": [
    "df1=df.drop(columns=['Web Description'])\n",
    "df1=df.drop(columns=['Name of Covered Entity'])\n",
    "#df1=df.drop(columns=['Individuals Affected'])\n",
    "df1=df.drop(columns=['State'])"
   ]
  },
  {
   "cell_type": "code",
   "execution_count": null,
   "metadata": {},
   "outputs": [],
   "source": []
  },
  {
   "cell_type": "code",
   "execution_count": 7,
   "metadata": {},
   "outputs": [],
   "source": [
    "df1=df[['Covered Entity Type','Individuals Affected','Breach Submission Date','Year','Type of Breach','Location of Breached Information','Business Associate Present']]"
   ]
  },
  {
   "cell_type": "code",
   "execution_count": 8,
   "metadata": {},
   "outputs": [
    {
     "data": {
      "text/html": [
       "<div>\n",
       "<style scoped>\n",
       "    .dataframe tbody tr th:only-of-type {\n",
       "        vertical-align: middle;\n",
       "    }\n",
       "\n",
       "    .dataframe tbody tr th {\n",
       "        vertical-align: top;\n",
       "    }\n",
       "\n",
       "    .dataframe thead th {\n",
       "        text-align: right;\n",
       "    }\n",
       "</style>\n",
       "<table border=\"1\" class=\"dataframe\">\n",
       "  <thead>\n",
       "    <tr style=\"text-align: right;\">\n",
       "      <th></th>\n",
       "      <th>Covered Entity Type</th>\n",
       "      <th>Individuals Affected</th>\n",
       "      <th>Breach Submission Date</th>\n",
       "      <th>Year</th>\n",
       "      <th>Type of Breach</th>\n",
       "      <th>Location of Breached Information</th>\n",
       "      <th>Business Associate Present</th>\n",
       "    </tr>\n",
       "  </thead>\n",
       "  <tbody>\n",
       "    <tr>\n",
       "      <th>40</th>\n",
       "      <td>Health Plan</td>\n",
       "      <td>1550</td>\n",
       "      <td>2016-02-26</td>\n",
       "      <td>2016.0</td>\n",
       "      <td>Hacking/IT Incident</td>\n",
       "      <td>Network Server</td>\n",
       "      <td>No</td>\n",
       "    </tr>\n",
       "    <tr>\n",
       "      <th>41</th>\n",
       "      <td>Health Plan</td>\n",
       "      <td>1550</td>\n",
       "      <td>2016-02-26</td>\n",
       "      <td>2016.0</td>\n",
       "      <td>Hacking/IT Incident</td>\n",
       "      <td>Network Server</td>\n",
       "      <td>No</td>\n",
       "    </tr>\n",
       "    <tr>\n",
       "      <th>585</th>\n",
       "      <td>Healthcare Provider</td>\n",
       "      <td>648</td>\n",
       "      <td>2016-04-20</td>\n",
       "      <td>2016.0</td>\n",
       "      <td>Theft</td>\n",
       "      <td>Paper/Films</td>\n",
       "      <td>No</td>\n",
       "    </tr>\n",
       "    <tr>\n",
       "      <th>586</th>\n",
       "      <td>Healthcare Provider</td>\n",
       "      <td>648</td>\n",
       "      <td>2016-04-20</td>\n",
       "      <td>2016.0</td>\n",
       "      <td>Theft</td>\n",
       "      <td>Paper/Films</td>\n",
       "      <td>No</td>\n",
       "    </tr>\n",
       "    <tr>\n",
       "      <th>659</th>\n",
       "      <td>Business Associate</td>\n",
       "      <td>1474</td>\n",
       "      <td>2010-09-23</td>\n",
       "      <td>2010.0</td>\n",
       "      <td>Theft</td>\n",
       "      <td>Other, Other Portable Electronic Device</td>\n",
       "      <td>Yes</td>\n",
       "    </tr>\n",
       "    <tr>\n",
       "      <th>674</th>\n",
       "      <td>Business Associate</td>\n",
       "      <td>1474</td>\n",
       "      <td>2010-09-23</td>\n",
       "      <td>2010.0</td>\n",
       "      <td>Theft</td>\n",
       "      <td>Other, Other Portable Electronic Device</td>\n",
       "      <td>Yes</td>\n",
       "    </tr>\n",
       "  </tbody>\n",
       "</table>\n",
       "</div>"
      ],
      "text/plain": [
       "     Covered Entity Type Individuals Affected Breach Submission Date    Year  \\\n",
       "40           Health Plan                 1550             2016-02-26  2016.0   \n",
       "41           Health Plan                 1550             2016-02-26  2016.0   \n",
       "585  Healthcare Provider                  648             2016-04-20  2016.0   \n",
       "586  Healthcare Provider                  648             2016-04-20  2016.0   \n",
       "659   Business Associate                 1474             2010-09-23  2010.0   \n",
       "674   Business Associate                 1474             2010-09-23  2010.0   \n",
       "\n",
       "          Type of Breach         Location of Breached Information  \\\n",
       "40   Hacking/IT Incident                           Network Server   \n",
       "41   Hacking/IT Incident                           Network Server   \n",
       "585                Theft                              Paper/Films   \n",
       "586                Theft                              Paper/Films   \n",
       "659                Theft  Other, Other Portable Electronic Device   \n",
       "674                Theft  Other, Other Portable Electronic Device   \n",
       "\n",
       "    Business Associate Present  \n",
       "40                          No  \n",
       "41                          No  \n",
       "585                         No  \n",
       "586                         No  \n",
       "659                        Yes  \n",
       "674                        Yes  "
      ]
     },
     "execution_count": 8,
     "metadata": {},
     "output_type": "execute_result"
    }
   ],
   "source": [
    "df1[df1.duplicated(keep = False)]"
   ]
  },
  {
   "cell_type": "code",
   "execution_count": 9,
   "metadata": {},
   "outputs": [
    {
     "data": {
      "text/html": [
       "<div>\n",
       "<style scoped>\n",
       "    .dataframe tbody tr th:only-of-type {\n",
       "        vertical-align: middle;\n",
       "    }\n",
       "\n",
       "    .dataframe tbody tr th {\n",
       "        vertical-align: top;\n",
       "    }\n",
       "\n",
       "    .dataframe thead th {\n",
       "        text-align: right;\n",
       "    }\n",
       "</style>\n",
       "<table border=\"1\" class=\"dataframe\">\n",
       "  <thead>\n",
       "    <tr style=\"text-align: right;\">\n",
       "      <th></th>\n",
       "      <th>Covered Entity Type</th>\n",
       "      <th>Individuals Affected</th>\n",
       "      <th>Breach Submission Date</th>\n",
       "      <th>Year</th>\n",
       "      <th>Type of Breach</th>\n",
       "      <th>Location of Breached Information</th>\n",
       "      <th>Business Associate Present</th>\n",
       "    </tr>\n",
       "  </thead>\n",
       "  <tbody>\n",
       "    <tr>\n",
       "      <th>0</th>\n",
       "      <td>Healthcare Provider</td>\n",
       "      <td>151626</td>\n",
       "      <td>2015-03-18</td>\n",
       "      <td>2015.0</td>\n",
       "      <td>Hacking/IT Incident</td>\n",
       "      <td>Other</td>\n",
       "      <td>No</td>\n",
       "    </tr>\n",
       "    <tr>\n",
       "      <th>1</th>\n",
       "      <td>Business Associate</td>\n",
       "      <td>1831</td>\n",
       "      <td>2014-06-12</td>\n",
       "      <td>2014.0</td>\n",
       "      <td>Hacking/IT Incident</td>\n",
       "      <td>Other</td>\n",
       "      <td>Yes</td>\n",
       "    </tr>\n",
       "    <tr>\n",
       "      <th>2</th>\n",
       "      <td>Healthcare Provider</td>\n",
       "      <td>660</td>\n",
       "      <td>2012-02-14</td>\n",
       "      <td>2012.0</td>\n",
       "      <td>Hacking/IT Incident</td>\n",
       "      <td>Other</td>\n",
       "      <td>No</td>\n",
       "    </tr>\n",
       "    <tr>\n",
       "      <th>3</th>\n",
       "      <td>Health Plan</td>\n",
       "      <td>3000</td>\n",
       "      <td>2016-02-29</td>\n",
       "      <td>2016.0</td>\n",
       "      <td>Hacking/IT Incident</td>\n",
       "      <td>Other</td>\n",
       "      <td>No</td>\n",
       "    </tr>\n",
       "    <tr>\n",
       "      <th>4</th>\n",
       "      <td>Healthcare Provider</td>\n",
       "      <td>1100</td>\n",
       "      <td>2016-07-11</td>\n",
       "      <td>2016.0</td>\n",
       "      <td>Hacking/IT Incident</td>\n",
       "      <td>Other</td>\n",
       "      <td>No</td>\n",
       "    </tr>\n",
       "    <tr>\n",
       "      <th>...</th>\n",
       "      <td>...</td>\n",
       "      <td>...</td>\n",
       "      <td>...</td>\n",
       "      <td>...</td>\n",
       "      <td>...</td>\n",
       "      <td>...</td>\n",
       "      <td>...</td>\n",
       "    </tr>\n",
       "    <tr>\n",
       "      <th>1695</th>\n",
       "      <td>NaN</td>\n",
       "      <td>NaN</td>\n",
       "      <td>2013-03-19</td>\n",
       "      <td>2013.0</td>\n",
       "      <td>NaN</td>\n",
       "      <td>NaN</td>\n",
       "      <td>No</td>\n",
       "    </tr>\n",
       "    <tr>\n",
       "      <th>1696</th>\n",
       "      <td>NaN</td>\n",
       "      <td>NaN</td>\n",
       "      <td>2011-07-15</td>\n",
       "      <td>2011.0</td>\n",
       "      <td>NaN</td>\n",
       "      <td>NaN</td>\n",
       "      <td>No</td>\n",
       "    </tr>\n",
       "    <tr>\n",
       "      <th>1697</th>\n",
       "      <td>NaN</td>\n",
       "      <td>NaN</td>\n",
       "      <td>2014-12-23</td>\n",
       "      <td>0.0</td>\n",
       "      <td>NaN</td>\n",
       "      <td>NaN</td>\n",
       "      <td>No</td>\n",
       "    </tr>\n",
       "    <tr>\n",
       "      <th>1698</th>\n",
       "      <td>NaN</td>\n",
       "      <td>NaN</td>\n",
       "      <td>2012-02-15</td>\n",
       "      <td>0.0</td>\n",
       "      <td>NaN</td>\n",
       "      <td>NaN</td>\n",
       "      <td>No</td>\n",
       "    </tr>\n",
       "    <tr>\n",
       "      <th>1699</th>\n",
       "      <td>NaN</td>\n",
       "      <td>NaN</td>\n",
       "      <td>2013-01-23</td>\n",
       "      <td>0.0</td>\n",
       "      <td>NaN</td>\n",
       "      <td>NaN</td>\n",
       "      <td>No</td>\n",
       "    </tr>\n",
       "  </tbody>\n",
       "</table>\n",
       "<p>1697 rows × 7 columns</p>\n",
       "</div>"
      ],
      "text/plain": [
       "      Covered Entity Type Individuals Affected Breach Submission Date    Year  \\\n",
       "0     Healthcare Provider               151626             2015-03-18  2015.0   \n",
       "1      Business Associate                 1831             2014-06-12  2014.0   \n",
       "2     Healthcare Provider                  660             2012-02-14  2012.0   \n",
       "3             Health Plan                 3000             2016-02-29  2016.0   \n",
       "4     Healthcare Provider                 1100             2016-07-11  2016.0   \n",
       "...                   ...                  ...                    ...     ...   \n",
       "1695                  NaN                  NaN             2013-03-19  2013.0   \n",
       "1696                  NaN                  NaN             2011-07-15  2011.0   \n",
       "1697                  NaN                  NaN             2014-12-23     0.0   \n",
       "1698                  NaN                  NaN             2012-02-15     0.0   \n",
       "1699                  NaN                  NaN             2013-01-23     0.0   \n",
       "\n",
       "           Type of Breach Location of Breached Information  \\\n",
       "0     Hacking/IT Incident                            Other   \n",
       "1     Hacking/IT Incident                            Other   \n",
       "2     Hacking/IT Incident                            Other   \n",
       "3     Hacking/IT Incident                            Other   \n",
       "4     Hacking/IT Incident                            Other   \n",
       "...                   ...                              ...   \n",
       "1695                  NaN                              NaN   \n",
       "1696                  NaN                              NaN   \n",
       "1697                  NaN                              NaN   \n",
       "1698                  NaN                              NaN   \n",
       "1699                  NaN                              NaN   \n",
       "\n",
       "     Business Associate Present  \n",
       "0                            No  \n",
       "1                           Yes  \n",
       "2                            No  \n",
       "3                            No  \n",
       "4                            No  \n",
       "...                         ...  \n",
       "1695                         No  \n",
       "1696                         No  \n",
       "1697                         No  \n",
       "1698                         No  \n",
       "1699                         No  \n",
       "\n",
       "[1697 rows x 7 columns]"
      ]
     },
     "execution_count": 9,
     "metadata": {},
     "output_type": "execute_result"
    }
   ],
   "source": [
    "df1=df1.drop_duplicates()\n",
    "df1"
   ]
  },
  {
   "cell_type": "code",
   "execution_count": 10,
   "metadata": {},
   "outputs": [
    {
     "data": {
      "text/html": [
       "<div>\n",
       "<style scoped>\n",
       "    .dataframe tbody tr th:only-of-type {\n",
       "        vertical-align: middle;\n",
       "    }\n",
       "\n",
       "    .dataframe tbody tr th {\n",
       "        vertical-align: top;\n",
       "    }\n",
       "\n",
       "    .dataframe thead th {\n",
       "        text-align: right;\n",
       "    }\n",
       "</style>\n",
       "<table border=\"1\" class=\"dataframe\">\n",
       "  <thead>\n",
       "    <tr style=\"text-align: right;\">\n",
       "      <th></th>\n",
       "      <th>Covered Entity Type</th>\n",
       "      <th>Individuals Affected</th>\n",
       "      <th>Breach Submission Date</th>\n",
       "      <th>Year</th>\n",
       "      <th>Type of Breach</th>\n",
       "      <th>Location of Breached Information</th>\n",
       "      <th>Business Associate Present</th>\n",
       "    </tr>\n",
       "  </thead>\n",
       "  <tbody>\n",
       "  </tbody>\n",
       "</table>\n",
       "</div>"
      ],
      "text/plain": [
       "Empty DataFrame\n",
       "Columns: [Covered Entity Type, Individuals Affected, Breach Submission Date, Year, Type of Breach, Location of Breached Information, Business Associate Present]\n",
       "Index: []"
      ]
     },
     "execution_count": 10,
     "metadata": {},
     "output_type": "execute_result"
    }
   ],
   "source": [
    "df1[df1.duplicated(keep = False)]"
   ]
  },
  {
   "cell_type": "code",
   "execution_count": 219,
   "metadata": {},
   "outputs": [
    {
     "data": {
      "text/html": [
       "<div>\n",
       "<style scoped>\n",
       "    .dataframe tbody tr th:only-of-type {\n",
       "        vertical-align: middle;\n",
       "    }\n",
       "\n",
       "    .dataframe tbody tr th {\n",
       "        vertical-align: top;\n",
       "    }\n",
       "\n",
       "    .dataframe thead th {\n",
       "        text-align: right;\n",
       "    }\n",
       "</style>\n",
       "<table border=\"1\" class=\"dataframe\">\n",
       "  <thead>\n",
       "    <tr style=\"text-align: right;\">\n",
       "      <th></th>\n",
       "      <th>Covered Entity Type</th>\n",
       "      <th>Year</th>\n",
       "      <th>Type of Breach</th>\n",
       "      <th>Location of Breached Information</th>\n",
       "      <th>Business Associate Present</th>\n",
       "    </tr>\n",
       "  </thead>\n",
       "  <tbody>\n",
       "    <tr>\n",
       "      <th>0</th>\n",
       "      <td>Healthcare Provider</td>\n",
       "      <td>2015.0</td>\n",
       "      <td>Hacking/IT Incident</td>\n",
       "      <td>Other</td>\n",
       "      <td>No</td>\n",
       "    </tr>\n",
       "    <tr>\n",
       "      <th>1</th>\n",
       "      <td>Business Associate</td>\n",
       "      <td>2014.0</td>\n",
       "      <td>Hacking/IT Incident</td>\n",
       "      <td>Other</td>\n",
       "      <td>Yes</td>\n",
       "    </tr>\n",
       "    <tr>\n",
       "      <th>2</th>\n",
       "      <td>Healthcare Provider</td>\n",
       "      <td>2012.0</td>\n",
       "      <td>Hacking/IT Incident</td>\n",
       "      <td>Other</td>\n",
       "      <td>No</td>\n",
       "    </tr>\n",
       "    <tr>\n",
       "      <th>3</th>\n",
       "      <td>Health Plan</td>\n",
       "      <td>2016.0</td>\n",
       "      <td>Hacking/IT Incident</td>\n",
       "      <td>Other</td>\n",
       "      <td>No</td>\n",
       "    </tr>\n",
       "    <tr>\n",
       "      <th>4</th>\n",
       "      <td>Healthcare Provider</td>\n",
       "      <td>2016.0</td>\n",
       "      <td>Hacking/IT Incident</td>\n",
       "      <td>Other</td>\n",
       "      <td>No</td>\n",
       "    </tr>\n",
       "    <tr>\n",
       "      <th>...</th>\n",
       "      <td>...</td>\n",
       "      <td>...</td>\n",
       "      <td>...</td>\n",
       "      <td>...</td>\n",
       "      <td>...</td>\n",
       "    </tr>\n",
       "    <tr>\n",
       "      <th>1695</th>\n",
       "      <td>0</td>\n",
       "      <td>2013.0</td>\n",
       "      <td>0</td>\n",
       "      <td>0</td>\n",
       "      <td>No</td>\n",
       "    </tr>\n",
       "    <tr>\n",
       "      <th>1696</th>\n",
       "      <td>0</td>\n",
       "      <td>2011.0</td>\n",
       "      <td>0</td>\n",
       "      <td>0</td>\n",
       "      <td>No</td>\n",
       "    </tr>\n",
       "    <tr>\n",
       "      <th>1697</th>\n",
       "      <td>0</td>\n",
       "      <td>0.0</td>\n",
       "      <td>0</td>\n",
       "      <td>0</td>\n",
       "      <td>No</td>\n",
       "    </tr>\n",
       "    <tr>\n",
       "      <th>1698</th>\n",
       "      <td>0</td>\n",
       "      <td>0.0</td>\n",
       "      <td>0</td>\n",
       "      <td>0</td>\n",
       "      <td>No</td>\n",
       "    </tr>\n",
       "    <tr>\n",
       "      <th>1699</th>\n",
       "      <td>0</td>\n",
       "      <td>0.0</td>\n",
       "      <td>0</td>\n",
       "      <td>0</td>\n",
       "      <td>No</td>\n",
       "    </tr>\n",
       "  </tbody>\n",
       "</table>\n",
       "<p>1697 rows × 5 columns</p>\n",
       "</div>"
      ],
      "text/plain": [
       "      Covered Entity Type    Year       Type of Breach  \\\n",
       "0     Healthcare Provider  2015.0  Hacking/IT Incident   \n",
       "1      Business Associate  2014.0  Hacking/IT Incident   \n",
       "2     Healthcare Provider  2012.0  Hacking/IT Incident   \n",
       "3             Health Plan  2016.0  Hacking/IT Incident   \n",
       "4     Healthcare Provider  2016.0  Hacking/IT Incident   \n",
       "...                   ...     ...                  ...   \n",
       "1695                    0  2013.0                    0   \n",
       "1696                    0  2011.0                    0   \n",
       "1697                    0     0.0                    0   \n",
       "1698                    0     0.0                    0   \n",
       "1699                    0     0.0                    0   \n",
       "\n",
       "     Location of Breached Information Business Associate Present  \n",
       "0                               Other                         No  \n",
       "1                               Other                        Yes  \n",
       "2                               Other                         No  \n",
       "3                               Other                         No  \n",
       "4                               Other                         No  \n",
       "...                               ...                        ...  \n",
       "1695                                0                         No  \n",
       "1696                                0                         No  \n",
       "1697                                0                         No  \n",
       "1698                                0                         No  \n",
       "1699                                0                         No  \n",
       "\n",
       "[1697 rows x 5 columns]"
      ]
     },
     "execution_count": 219,
     "metadata": {},
     "output_type": "execute_result"
    }
   ],
   "source": [
    "df2=df1[['Covered Entity Type','Year','Type of Breach','Location of Breached Information','Business Associate Present']]\n",
    "df2"
   ]
  },
  {
   "cell_type": "code",
   "execution_count": 220,
   "metadata": {
    "scrolled": true
   },
   "outputs": [
    {
     "name": "stdout",
     "output_type": "stream",
     "text": [
      "<class 'pandas.core.frame.DataFrame'>\n",
      "Int64Index: 1697 entries, 0 to 1699\n",
      "Data columns (total 5 columns):\n",
      " #   Column                            Non-Null Count  Dtype  \n",
      "---  ------                            --------------  -----  \n",
      " 0   Covered Entity Type               1697 non-null   object \n",
      " 1   Year                              1697 non-null   float64\n",
      " 2   Type of Breach                    1697 non-null   object \n",
      " 3   Location of Breached Information  1697 non-null   object \n",
      " 4   Business Associate Present        1697 non-null   object \n",
      "dtypes: float64(1), object(4)\n",
      "memory usage: 159.5+ KB\n"
     ]
    }
   ],
   "source": [
    "df2.info()"
   ]
  },
  {
   "cell_type": "code",
   "execution_count": 221,
   "metadata": {},
   "outputs": [
    {
     "name": "stderr",
     "output_type": "stream",
     "text": [
      "<ipython-input-221-348191e88100>:1: SettingWithCopyWarning: \n",
      "A value is trying to be set on a copy of a slice from a DataFrame.\n",
      "Try using .loc[row_indexer,col_indexer] = value instead\n",
      "\n",
      "See the caveats in the documentation: https://pandas.pydata.org/pandas-docs/stable/user_guide/indexing.html#returning-a-view-versus-a-copy\n",
      "  df2['Year'] = df2['Year'].astype(int)\n"
     ]
    }
   ],
   "source": [
    "df2['Year'] = df2['Year'].astype(int)"
   ]
  },
  {
   "cell_type": "code",
   "execution_count": 14,
   "metadata": {},
   "outputs": [],
   "source": [
    "import numpy as np\n",
    "df1['Individuals Affected'] = pd.to_numeric(df1['Individuals Affected'],errors='coerce')\n",
    "df1 = df1.replace(np.nan, 0, regex=True)\n",
    "df1['Individuals Affected'] = df1['Individuals Affected'].astype(int)"
   ]
  },
  {
   "cell_type": "code",
   "execution_count": 15,
   "metadata": {},
   "outputs": [
    {
     "name": "stdout",
     "output_type": "stream",
     "text": [
      "<class 'pandas.core.frame.DataFrame'>\n",
      "Int64Index: 1697 entries, 0 to 1699\n",
      "Data columns (total 7 columns):\n",
      " #   Column                            Non-Null Count  Dtype         \n",
      "---  ------                            --------------  -----         \n",
      " 0   Covered Entity Type               1697 non-null   object        \n",
      " 1   Individuals Affected              1697 non-null   int32         \n",
      " 2   Breach Submission Date            1697 non-null   datetime64[ns]\n",
      " 3   Year                              1697 non-null   float64       \n",
      " 4   Type of Breach                    1697 non-null   object        \n",
      " 5   Location of Breached Information  1697 non-null   object        \n",
      " 6   Business Associate Present        1697 non-null   object        \n",
      "dtypes: datetime64[ns](1), float64(1), int32(1), object(4)\n",
      "memory usage: 99.4+ KB\n"
     ]
    }
   ],
   "source": [
    "df1.info()"
   ]
  },
  {
   "cell_type": "code",
   "execution_count": 16,
   "metadata": {},
   "outputs": [
    {
     "name": "stdout",
     "output_type": "stream",
     "text": [
      "<class 'pandas.core.frame.DataFrame'>\n",
      "Int64Index: 1697 entries, 0 to 1699\n",
      "Data columns (total 5 columns):\n",
      " #   Column                            Non-Null Count  Dtype \n",
      "---  ------                            --------------  ----- \n",
      " 0   Covered Entity Type               1655 non-null   object\n",
      " 1   Year                              1697 non-null   int32 \n",
      " 2   Type of Breach                    1683 non-null   object\n",
      " 3   Location of Breached Information  1686 non-null   object\n",
      " 4   Business Associate Present        1697 non-null   object\n",
      "dtypes: int32(1), object(4)\n",
      "memory usage: 72.9+ KB\n"
     ]
    }
   ],
   "source": [
    "df2.info()"
   ]
  },
  {
   "cell_type": "code",
   "execution_count": 19,
   "metadata": {},
   "outputs": [
    {
     "data": {
      "text/plain": [
       "No     1393\n",
       "Yes     307\n",
       "Name: Business Associate Present, dtype: int64"
      ]
     },
     "execution_count": 19,
     "metadata": {},
     "output_type": "execute_result"
    }
   ],
   "source": [
    "df['Business Associate Present'].value_counts()"
   ]
  },
  {
   "cell_type": "code",
   "execution_count": 118,
   "metadata": {},
   "outputs": [
    {
     "data": {
      "text/plain": [
       "Healthcare Provider          1172\n",
       "Business Associate            273\n",
       "Health Plan                   206\n",
       "Healthcare Clearing House       4\n",
       "Name: Covered Entity Type, dtype: int64"
      ]
     },
     "execution_count": 118,
     "metadata": {},
     "output_type": "execute_result"
    }
   ],
   "source": [
    "df2['Covered Entity Type'].value_counts()"
   ]
  },
  {
   "cell_type": "code",
   "execution_count": 136,
   "metadata": {},
   "outputs": [
    {
     "data": {
      "text/html": [
       "<div>\n",
       "<style scoped>\n",
       "    .dataframe tbody tr th:only-of-type {\n",
       "        vertical-align: middle;\n",
       "    }\n",
       "\n",
       "    .dataframe tbody tr th {\n",
       "        vertical-align: top;\n",
       "    }\n",
       "\n",
       "    .dataframe thead th {\n",
       "        text-align: right;\n",
       "    }\n",
       "</style>\n",
       "<table border=\"1\" class=\"dataframe\">\n",
       "  <thead>\n",
       "    <tr style=\"text-align: right;\">\n",
       "      <th></th>\n",
       "      <th>Covered Entity Type</th>\n",
       "      <th>Year</th>\n",
       "      <th>Type of Breach</th>\n",
       "      <th>Location of Breached Information</th>\n",
       "      <th>Business Associate Present</th>\n",
       "    </tr>\n",
       "  </thead>\n",
       "  <tbody>\n",
       "    <tr>\n",
       "      <th>0</th>\n",
       "      <td>Healthcare Provider</td>\n",
       "      <td>2015</td>\n",
       "      <td>Hacking/IT Incident</td>\n",
       "      <td>Other</td>\n",
       "      <td>No</td>\n",
       "    </tr>\n",
       "    <tr>\n",
       "      <th>1</th>\n",
       "      <td>Business Associate</td>\n",
       "      <td>2014</td>\n",
       "      <td>Hacking/IT Incident</td>\n",
       "      <td>Other</td>\n",
       "      <td>Yes</td>\n",
       "    </tr>\n",
       "    <tr>\n",
       "      <th>2</th>\n",
       "      <td>Healthcare Provider</td>\n",
       "      <td>2012</td>\n",
       "      <td>Hacking/IT Incident</td>\n",
       "      <td>Other</td>\n",
       "      <td>No</td>\n",
       "    </tr>\n",
       "  </tbody>\n",
       "</table>\n",
       "</div>"
      ],
      "text/plain": [
       "   Covered Entity Type  Year       Type of Breach  \\\n",
       "0  Healthcare Provider  2015  Hacking/IT Incident   \n",
       "1   Business Associate  2014  Hacking/IT Incident   \n",
       "2  Healthcare Provider  2012  Hacking/IT Incident   \n",
       "\n",
       "  Location of Breached Information Business Associate Present  \n",
       "0                            Other                         No  \n",
       "1                            Other                        Yes  \n",
       "2                            Other                         No  "
      ]
     },
     "execution_count": 136,
     "metadata": {},
     "output_type": "execute_result"
    }
   ],
   "source": [
    "df2.head(3)"
   ]
  },
  {
   "cell_type": "code",
   "execution_count": 138,
   "metadata": {},
   "outputs": [
    {
     "data": {
      "text/plain": [
       "Healthcare Provider          1172\n",
       "Business Associate            273\n",
       "Health Plan                   206\n",
       "Healthcare Clearing House       4\n",
       "Name: Covered Entity Type, dtype: int64"
      ]
     },
     "execution_count": 138,
     "metadata": {},
     "output_type": "execute_result"
    }
   ],
   "source": [
    "df2['Covered Entity Type'].value_counts()"
   ]
  },
  {
   "cell_type": "code",
   "execution_count": 139,
   "metadata": {},
   "outputs": [
    {
     "data": {
      "text/plain": [
       "2014    293\n",
       "2013    273\n",
       "2015    269\n",
       "2016    239\n",
       "2012    207\n",
       "2010    197\n",
       "2011    196\n",
       "2009     18\n",
       "0         5\n",
       "Name: Year, dtype: int64"
      ]
     },
     "execution_count": 139,
     "metadata": {},
     "output_type": "execute_result"
    }
   ],
   "source": [
    "df2['Year'].value_counts()"
   ]
  },
  {
   "cell_type": "code",
   "execution_count": 146,
   "metadata": {},
   "outputs": [
    {
     "data": {
      "text/plain": [
       "Theft                                                         722\n",
       "Unauthorized Access/Disclosure                                399\n",
       "Hacking/IT Incident                                           221\n",
       "Loss                                                          120\n",
       "Other                                                          77\n",
       "Improper Disposal                                              51\n",
       "Theft, Unauthorized Access/Disclosure                          24\n",
       "Loss, Theft                                                    15\n",
       "Unknown                                                         9\n",
       "Hacking/IT Incident, Unauthorized Access/Disclosure             8\n",
       "Other, Unauthorized Access/Disclosure                           7\n",
       "Loss, Unauthorized Access/Disclosure                            3\n",
       "Improper Disposal, Loss                                         3\n",
       "Other, Theft                                                    3\n",
       "Improper Disposal, Loss, Theft                                  3\n",
       "Hacking/IT Incident, Other                                      2\n",
       "Other, Unknown                                                  2\n",
       "Hacking/IT Incident, Theft, Unauthorized Access/Disclosure      2\n",
       "Other, Theft, Unauthorized Access/Disclosure                    2\n",
       "Loss, Other                                                     2\n",
       "Loss, Unauthorized Access/Disclosure, Unknown                   1\n",
       "Improper Disposal, Theft, Unauthorized Access/Disclosure        1\n",
       "Loss, Other, Theft                                              1\n",
       "Improper Disposal, Theft                                        1\n",
       "Hacking/IT Incident, Theft                                      1\n",
       "Hacking/IT Incident, Other, Unauthorized Access/Disclosure      1\n",
       "Loss, Unknown                                                   1\n",
       "Improper Disposal, Unauthorized Access/Disclosure               1\n",
       "Name: Type of Breach, dtype: int64"
      ]
     },
     "execution_count": 146,
     "metadata": {},
     "output_type": "execute_result"
    }
   ],
   "source": [
    "df2['Type of Breach'].value_counts()"
   ]
  },
  {
   "cell_type": "code",
   "execution_count": null,
   "metadata": {
    "scrolled": true
   },
   "outputs": [],
   "source": [
    "print(df1.isnull().sum().sort_values(ascending=False))\n",
    "print(df1.shape)"
   ]
  },
  {
   "cell_type": "code",
   "execution_count": null,
   "metadata": {},
   "outputs": [],
   "source": [
    "df['Web Description']=df['Web Description'].fillna('\\\\N')\n",
    "df['Covered Entity Type']=df['Covered Entity Type'].fillna('Uncategorized')\n",
    "df['Type of Breach']=df['Type of Breach'].fillna('Theft')\n",
    "df['Location of Breached Information']=df['Location of Breached Information'].fillna('Unknown')"
   ]
  },
  {
   "cell_type": "code",
   "execution_count": null,
   "metadata": {},
   "outputs": [],
   "source": []
  },
  {
   "cell_type": "code",
   "execution_count": 24,
   "metadata": {},
   "outputs": [
    {
     "data": {
      "text/html": [
       "<div>\n",
       "<style scoped>\n",
       "    .dataframe tbody tr th:only-of-type {\n",
       "        vertical-align: middle;\n",
       "    }\n",
       "\n",
       "    .dataframe tbody tr th {\n",
       "        vertical-align: top;\n",
       "    }\n",
       "\n",
       "    .dataframe thead th {\n",
       "        text-align: right;\n",
       "    }\n",
       "</style>\n",
       "<table border=\"1\" class=\"dataframe\">\n",
       "  <thead>\n",
       "    <tr style=\"text-align: right;\">\n",
       "      <th></th>\n",
       "      <th>Covered Entity Type</th>\n",
       "      <th>Year</th>\n",
       "      <th>Type of Breach</th>\n",
       "      <th>Location of Breached Information</th>\n",
       "    </tr>\n",
       "  </thead>\n",
       "  <tbody>\n",
       "    <tr>\n",
       "      <th>0</th>\n",
       "      <td>Healthcare Provider</td>\n",
       "      <td>2015</td>\n",
       "      <td>Hacking/IT Incident</td>\n",
       "      <td>Other</td>\n",
       "    </tr>\n",
       "    <tr>\n",
       "      <th>1</th>\n",
       "      <td>Business Associate</td>\n",
       "      <td>2014</td>\n",
       "      <td>Hacking/IT Incident</td>\n",
       "      <td>Other</td>\n",
       "    </tr>\n",
       "    <tr>\n",
       "      <th>2</th>\n",
       "      <td>Healthcare Provider</td>\n",
       "      <td>2012</td>\n",
       "      <td>Hacking/IT Incident</td>\n",
       "      <td>Other</td>\n",
       "    </tr>\n",
       "    <tr>\n",
       "      <th>3</th>\n",
       "      <td>Health Plan</td>\n",
       "      <td>2016</td>\n",
       "      <td>Hacking/IT Incident</td>\n",
       "      <td>Other</td>\n",
       "    </tr>\n",
       "    <tr>\n",
       "      <th>4</th>\n",
       "      <td>Healthcare Provider</td>\n",
       "      <td>2016</td>\n",
       "      <td>Hacking/IT Incident</td>\n",
       "      <td>Other</td>\n",
       "    </tr>\n",
       "    <tr>\n",
       "      <th>...</th>\n",
       "      <td>...</td>\n",
       "      <td>...</td>\n",
       "      <td>...</td>\n",
       "      <td>...</td>\n",
       "    </tr>\n",
       "    <tr>\n",
       "      <th>1695</th>\n",
       "      <td>NaN</td>\n",
       "      <td>2013</td>\n",
       "      <td>NaN</td>\n",
       "      <td>NaN</td>\n",
       "    </tr>\n",
       "    <tr>\n",
       "      <th>1696</th>\n",
       "      <td>NaN</td>\n",
       "      <td>2011</td>\n",
       "      <td>NaN</td>\n",
       "      <td>NaN</td>\n",
       "    </tr>\n",
       "    <tr>\n",
       "      <th>1697</th>\n",
       "      <td>NaN</td>\n",
       "      <td>0</td>\n",
       "      <td>NaN</td>\n",
       "      <td>NaN</td>\n",
       "    </tr>\n",
       "    <tr>\n",
       "      <th>1698</th>\n",
       "      <td>NaN</td>\n",
       "      <td>0</td>\n",
       "      <td>NaN</td>\n",
       "      <td>NaN</td>\n",
       "    </tr>\n",
       "    <tr>\n",
       "      <th>1699</th>\n",
       "      <td>NaN</td>\n",
       "      <td>0</td>\n",
       "      <td>NaN</td>\n",
       "      <td>NaN</td>\n",
       "    </tr>\n",
       "  </tbody>\n",
       "</table>\n",
       "<p>1697 rows × 4 columns</p>\n",
       "</div>"
      ],
      "text/plain": [
       "      Covered Entity Type  Year       Type of Breach  \\\n",
       "0     Healthcare Provider  2015  Hacking/IT Incident   \n",
       "1      Business Associate  2014  Hacking/IT Incident   \n",
       "2     Healthcare Provider  2012  Hacking/IT Incident   \n",
       "3             Health Plan  2016  Hacking/IT Incident   \n",
       "4     Healthcare Provider  2016  Hacking/IT Incident   \n",
       "...                   ...   ...                  ...   \n",
       "1695                  NaN  2013                  NaN   \n",
       "1696                  NaN  2011                  NaN   \n",
       "1697                  NaN     0                  NaN   \n",
       "1698                  NaN     0                  NaN   \n",
       "1699                  NaN     0                  NaN   \n",
       "\n",
       "     Location of Breached Information  \n",
       "0                               Other  \n",
       "1                               Other  \n",
       "2                               Other  \n",
       "3                               Other  \n",
       "4                               Other  \n",
       "...                               ...  \n",
       "1695                              NaN  \n",
       "1696                              NaN  \n",
       "1697                              NaN  \n",
       "1698                              NaN  \n",
       "1699                              NaN  \n",
       "\n",
       "[1697 rows x 4 columns]"
      ]
     },
     "execution_count": 24,
     "metadata": {},
     "output_type": "execute_result"
    }
   ],
   "source": [
    "X=df2.drop(['Business Associate Present'],axis=1)\n",
    "X"
   ]
  },
  {
   "cell_type": "code",
   "execution_count": 68,
   "metadata": {},
   "outputs": [],
   "source": [
    "y=df2['Business Associate Present']"
   ]
  },
  {
   "cell_type": "code",
   "execution_count": 69,
   "metadata": {},
   "outputs": [
    {
     "data": {
      "text/plain": [
       "(1697, 4)"
      ]
     },
     "execution_count": 69,
     "metadata": {},
     "output_type": "execute_result"
    }
   ],
   "source": [
    "X.shape"
   ]
  },
  {
   "cell_type": "code",
   "execution_count": 70,
   "metadata": {},
   "outputs": [
    {
     "data": {
      "text/plain": [
       "(1697,)"
      ]
     },
     "execution_count": 70,
     "metadata": {},
     "output_type": "execute_result"
    }
   ],
   "source": [
    "y.shape"
   ]
  },
  {
   "cell_type": "code",
   "execution_count": 71,
   "metadata": {},
   "outputs": [],
   "source": [
    "X = X.astype(str)\n",
    "y = y.astype(str)"
   ]
  },
  {
   "cell_type": "code",
   "execution_count": 72,
   "metadata": {},
   "outputs": [],
   "source": [
    "y = y.values.reshape(-1,1)"
   ]
  },
  {
   "cell_type": "code",
   "execution_count": 73,
   "metadata": {},
   "outputs": [
    {
     "data": {
      "text/plain": [
       "(1697, 1)"
      ]
     },
     "execution_count": 73,
     "metadata": {},
     "output_type": "execute_result"
    }
   ],
   "source": [
    "y.shape"
   ]
  },
  {
   "cell_type": "code",
   "execution_count": 87,
   "metadata": {},
   "outputs": [],
   "source": [
    "from sklearn.model_selection import train_test_split\n",
    "X_train, X_test, y_train, y_test = train_test_split(X, y, test_size=0.4, random_state = 0)"
   ]
  },
  {
   "cell_type": "code",
   "execution_count": 88,
   "metadata": {},
   "outputs": [
    {
     "data": {
      "text/plain": [
       "(1018, 4)"
      ]
     },
     "execution_count": 88,
     "metadata": {},
     "output_type": "execute_result"
    }
   ],
   "source": [
    "X_train.shape"
   ]
  },
  {
   "cell_type": "code",
   "execution_count": 89,
   "metadata": {},
   "outputs": [
    {
     "data": {
      "text/plain": [
       "(679, 4)"
      ]
     },
     "execution_count": 89,
     "metadata": {},
     "output_type": "execute_result"
    }
   ],
   "source": [
    "X_test.shape"
   ]
  },
  {
   "cell_type": "code",
   "execution_count": 229,
   "metadata": {},
   "outputs": [],
   "source": [
    "from sklearn.ensemble import RandomForestRegressor\n",
    "model=RandomForestRegressor()"
   ]
  },
  {
   "cell_type": "code",
   "execution_count": 180,
   "metadata": {},
   "outputs": [
    {
     "name": "stdout",
     "output_type": "stream",
     "text": [
      "Requirement already up-to-date: scikit-learn in c:\\users\\hp\\anaconda3\\envs\\new-p\\lib\\site-packages (0.23.2)\n",
      "Requirement already satisfied, skipping upgrade: scipy>=0.19.1 in c:\\users\\hp\\anaconda3\\envs\\new-p\\lib\\site-packages (from scikit-learn) (1.4.1)\n",
      "Requirement already satisfied, skipping upgrade: numpy>=1.13.3 in c:\\users\\hp\\anaconda3\\envs\\new-p\\lib\\site-packages (from scikit-learn) (1.18.5)\n",
      "Requirement already satisfied, skipping upgrade: joblib>=0.11 in c:\\users\\hp\\anaconda3\\envs\\new-p\\lib\\site-packages (from scikit-learn) (0.16.0)\n",
      "Requirement already satisfied, skipping upgrade: threadpoolctl>=2.0.0 in c:\\users\\hp\\anaconda3\\envs\\new-p\\lib\\site-packages (from scikit-learn) (2.1.0)\n",
      "Note: you may need to restart the kernel to use updated packages.\n"
     ]
    }
   ],
   "source": [
    " pip install -U scikit-learn"
   ]
  },
  {
   "cell_type": "code",
   "execution_count": null,
   "metadata": {},
   "outputs": [],
   "source": []
  },
  {
   "cell_type": "code",
   "execution_count": 225,
   "metadata": {
    "scrolled": false
   },
   "outputs": [
    {
     "name": "stderr",
     "output_type": "stream",
     "text": [
      "<ipython-input-225-051e0f9dd964>:1: SettingWithCopyWarning: \n",
      "A value is trying to be set on a copy of a slice from a DataFrame.\n",
      "Try using .loc[row_indexer,col_indexer] = value instead\n",
      "\n",
      "See the caveats in the documentation: https://pandas.pydata.org/pandas-docs/stable/user_guide/indexing.html#returning-a-view-versus-a-copy\n",
      "  df2['Covered Entity Type']=df['Covered Entity Type'].fillna('Uncategorized')\n",
      "C:\\Users\\HP\\anaconda3\\envs\\new-p\\lib\\site-packages\\pandas\\core\\series.py:4517: SettingWithCopyWarning: \n",
      "A value is trying to be set on a copy of a slice from a DataFrame\n",
      "\n",
      "See the caveats in the documentation: https://pandas.pydata.org/pandas-docs/stable/user_guide/indexing.html#returning-a-view-versus-a-copy\n",
      "  return super().fillna(\n",
      "<ipython-input-225-051e0f9dd964>:2: SettingWithCopyWarning: \n",
      "A value is trying to be set on a copy of a slice from a DataFrame.\n",
      "Try using .loc[row_indexer,col_indexer] = value instead\n",
      "\n",
      "See the caveats in the documentation: https://pandas.pydata.org/pandas-docs/stable/user_guide/indexing.html#returning-a-view-versus-a-copy\n",
      "  df2['Type of Breach']=df2['Type of Breach'].fillna(df2['Type of Breach'].mode(),inplace=True)\n"
     ]
    }
   ],
   "source": [
    "df2['Covered Entity Type']=df['Covered Entity Type'].fillna('Uncategorized')\n",
    "df2['Type of Breach']=df2['Type of Breach'].fillna(df2['Type of Breach'].mode(),inplace=True)\n",
    "#df2['Location of Breached Information']=df['Location of Breached Information'].fillna(df['Location of Breached Information'].mode())"
   ]
  },
  {
   "cell_type": "code",
   "execution_count": 226,
   "metadata": {},
   "outputs": [
    {
     "data": {
      "text/plain": [
       "Covered Entity Type                    0\n",
       "Year                                   0\n",
       "Type of Breach                      1697\n",
       "Location of Breached Information       0\n",
       "Business Associate Present             0\n",
       "dtype: int64"
      ]
     },
     "execution_count": 226,
     "metadata": {},
     "output_type": "execute_result"
    }
   ],
   "source": [
    "df2.isnull().sum()"
   ]
  },
  {
   "cell_type": "code",
   "execution_count": 227,
   "metadata": {},
   "outputs": [
    {
     "data": {
      "text/plain": [
       "0       None\n",
       "1       None\n",
       "2       None\n",
       "3       None\n",
       "4       None\n",
       "        ... \n",
       "1695    None\n",
       "1696    None\n",
       "1697    None\n",
       "1698    None\n",
       "1699    None\n",
       "Name: Type of Breach, Length: 1697, dtype: object"
      ]
     },
     "execution_count": 227,
     "metadata": {},
     "output_type": "execute_result"
    }
   ],
   "source": [
    "df2['Type of Breach']"
   ]
  },
  {
   "cell_type": "code",
   "execution_count": 192,
   "metadata": {},
   "outputs": [
    {
     "ename": "ImportError",
     "evalue": "cannot import name 'SimpleImputer' from 'sklearn.preprocessing' (C:\\Users\\HP\\anaconda3\\envs\\new-p\\lib\\site-packages\\sklearn\\preprocessing\\__init__.py)",
     "output_type": "error",
     "traceback": [
      "\u001b[1;31m---------------------------------------------------------------------------\u001b[0m",
      "\u001b[1;31mImportError\u001b[0m                               Traceback (most recent call last)",
      "\u001b[1;32m<ipython-input-192-1fb5bdd73144>\u001b[0m in \u001b[0;36m<module>\u001b[1;34m\u001b[0m\n\u001b[1;32m----> 1\u001b[1;33m \u001b[1;32mfrom\u001b[0m \u001b[0msklearn\u001b[0m\u001b[1;33m.\u001b[0m\u001b[0mpreprocessing\u001b[0m \u001b[1;32mimport\u001b[0m \u001b[0mSimpleImputer\u001b[0m\u001b[1;33m\u001b[0m\u001b[1;33m\u001b[0m\u001b[0m\n\u001b[0m",
      "\u001b[1;31mImportError\u001b[0m: cannot import name 'SimpleImputer' from 'sklearn.preprocessing' (C:\\Users\\HP\\anaconda3\\envs\\new-p\\lib\\site-packages\\sklearn\\preprocessing\\__init__.py)"
     ]
    }
   ],
   "source": [
    "from sklearn.preprocessing import SimpleImputer"
   ]
  },
  {
   "cell_type": "code",
   "execution_count": 150,
   "metadata": {},
   "outputs": [],
   "source": [
    "from sklearn.preprocessing import LabelEncoder\n",
    "le = LabelEncoder()"
   ]
  },
  {
   "cell_type": "code",
   "execution_count": 213,
   "metadata": {},
   "outputs": [
    {
     "name": "stderr",
     "output_type": "stream",
     "text": [
      "<ipython-input-213-19d633b19fe0>:2: SettingWithCopyWarning: \n",
      "A value is trying to be set on a copy of a slice from a DataFrame.\n",
      "Try using .loc[row_indexer,col_indexer] = value instead\n",
      "\n",
      "See the caveats in the documentation: https://pandas.pydata.org/pandas-docs/stable/user_guide/indexing.html#returning-a-view-versus-a-copy\n",
      "  dfle['Covered Entity Type'] = le.fit_transform(dfle['Covered Entity Type'])\n"
     ]
    },
    {
     "ename": "TypeError",
     "evalue": "Encoders require their input to be uniformly strings or numbers. Got ['int', 'str']",
     "output_type": "error",
     "traceback": [
      "\u001b[1;31m---------------------------------------------------------------------------\u001b[0m",
      "\u001b[1;31mTypeError\u001b[0m                                 Traceback (most recent call last)",
      "\u001b[1;32m~\\anaconda3\\envs\\new-p\\lib\\site-packages\\sklearn\\preprocessing\\_label.py\u001b[0m in \u001b[0;36m_encode\u001b[1;34m(values, uniques, encode, check_unknown)\u001b[0m\n\u001b[0;32m    112\u001b[0m         \u001b[1;32mtry\u001b[0m\u001b[1;33m:\u001b[0m\u001b[1;33m\u001b[0m\u001b[1;33m\u001b[0m\u001b[0m\n\u001b[1;32m--> 113\u001b[1;33m             \u001b[0mres\u001b[0m \u001b[1;33m=\u001b[0m \u001b[0m_encode_python\u001b[0m\u001b[1;33m(\u001b[0m\u001b[0mvalues\u001b[0m\u001b[1;33m,\u001b[0m \u001b[0muniques\u001b[0m\u001b[1;33m,\u001b[0m \u001b[0mencode\u001b[0m\u001b[1;33m)\u001b[0m\u001b[1;33m\u001b[0m\u001b[1;33m\u001b[0m\u001b[0m\n\u001b[0m\u001b[0;32m    114\u001b[0m         \u001b[1;32mexcept\u001b[0m \u001b[0mTypeError\u001b[0m\u001b[1;33m:\u001b[0m\u001b[1;33m\u001b[0m\u001b[1;33m\u001b[0m\u001b[0m\n",
      "\u001b[1;32m~\\anaconda3\\envs\\new-p\\lib\\site-packages\\sklearn\\preprocessing\\_label.py\u001b[0m in \u001b[0;36m_encode_python\u001b[1;34m(values, uniques, encode)\u001b[0m\n\u001b[0;32m     60\u001b[0m     \u001b[1;32mif\u001b[0m \u001b[0muniques\u001b[0m \u001b[1;32mis\u001b[0m \u001b[1;32mNone\u001b[0m\u001b[1;33m:\u001b[0m\u001b[1;33m\u001b[0m\u001b[1;33m\u001b[0m\u001b[0m\n\u001b[1;32m---> 61\u001b[1;33m         \u001b[0muniques\u001b[0m \u001b[1;33m=\u001b[0m \u001b[0msorted\u001b[0m\u001b[1;33m(\u001b[0m\u001b[0mset\u001b[0m\u001b[1;33m(\u001b[0m\u001b[0mvalues\u001b[0m\u001b[1;33m)\u001b[0m\u001b[1;33m)\u001b[0m\u001b[1;33m\u001b[0m\u001b[1;33m\u001b[0m\u001b[0m\n\u001b[0m\u001b[0;32m     62\u001b[0m         \u001b[0muniques\u001b[0m \u001b[1;33m=\u001b[0m \u001b[0mnp\u001b[0m\u001b[1;33m.\u001b[0m\u001b[0marray\u001b[0m\u001b[1;33m(\u001b[0m\u001b[0muniques\u001b[0m\u001b[1;33m,\u001b[0m \u001b[0mdtype\u001b[0m\u001b[1;33m=\u001b[0m\u001b[0mvalues\u001b[0m\u001b[1;33m.\u001b[0m\u001b[0mdtype\u001b[0m\u001b[1;33m)\u001b[0m\u001b[1;33m\u001b[0m\u001b[1;33m\u001b[0m\u001b[0m\n",
      "\u001b[1;31mTypeError\u001b[0m: '<' not supported between instances of 'str' and 'int'",
      "\nDuring handling of the above exception, another exception occurred:\n",
      "\u001b[1;31mTypeError\u001b[0m                                 Traceback (most recent call last)",
      "\u001b[1;32m<ipython-input-213-19d633b19fe0>\u001b[0m in \u001b[0;36m<module>\u001b[1;34m\u001b[0m\n\u001b[0;32m      1\u001b[0m \u001b[0mdfle\u001b[0m \u001b[1;33m=\u001b[0m \u001b[0mdf2\u001b[0m\u001b[1;33m\u001b[0m\u001b[1;33m\u001b[0m\u001b[0m\n\u001b[0;32m      2\u001b[0m \u001b[0mdfle\u001b[0m\u001b[1;33m[\u001b[0m\u001b[1;34m'Covered Entity Type'\u001b[0m\u001b[1;33m]\u001b[0m \u001b[1;33m=\u001b[0m \u001b[0mle\u001b[0m\u001b[1;33m.\u001b[0m\u001b[0mfit_transform\u001b[0m\u001b[1;33m(\u001b[0m\u001b[0mdfle\u001b[0m\u001b[1;33m[\u001b[0m\u001b[1;34m'Covered Entity Type'\u001b[0m\u001b[1;33m]\u001b[0m\u001b[1;33m)\u001b[0m\u001b[1;33m\u001b[0m\u001b[1;33m\u001b[0m\u001b[0m\n\u001b[1;32m----> 3\u001b[1;33m \u001b[0mdfle\u001b[0m\u001b[1;33m[\u001b[0m\u001b[1;34m'Type of Breach'\u001b[0m\u001b[1;33m]\u001b[0m \u001b[1;33m=\u001b[0m \u001b[0mle\u001b[0m\u001b[1;33m.\u001b[0m\u001b[0mfit_transform\u001b[0m\u001b[1;33m(\u001b[0m\u001b[0mdfle\u001b[0m\u001b[1;33m[\u001b[0m\u001b[1;34m'Type of Breach'\u001b[0m\u001b[1;33m]\u001b[0m\u001b[1;33m)\u001b[0m\u001b[1;33m\u001b[0m\u001b[1;33m\u001b[0m\u001b[0m\n\u001b[0m\u001b[0;32m      4\u001b[0m \u001b[0mdfle\u001b[0m\u001b[1;33m\u001b[0m\u001b[1;33m\u001b[0m\u001b[0m\n",
      "\u001b[1;32m~\\anaconda3\\envs\\new-p\\lib\\site-packages\\sklearn\\preprocessing\\_label.py\u001b[0m in \u001b[0;36mfit_transform\u001b[1;34m(self, y)\u001b[0m\n\u001b[0;32m    254\u001b[0m         \"\"\"\n\u001b[0;32m    255\u001b[0m         \u001b[0my\u001b[0m \u001b[1;33m=\u001b[0m \u001b[0mcolumn_or_1d\u001b[0m\u001b[1;33m(\u001b[0m\u001b[0my\u001b[0m\u001b[1;33m,\u001b[0m \u001b[0mwarn\u001b[0m\u001b[1;33m=\u001b[0m\u001b[1;32mTrue\u001b[0m\u001b[1;33m)\u001b[0m\u001b[1;33m\u001b[0m\u001b[1;33m\u001b[0m\u001b[0m\n\u001b[1;32m--> 256\u001b[1;33m         \u001b[0mself\u001b[0m\u001b[1;33m.\u001b[0m\u001b[0mclasses_\u001b[0m\u001b[1;33m,\u001b[0m \u001b[0my\u001b[0m \u001b[1;33m=\u001b[0m \u001b[0m_encode\u001b[0m\u001b[1;33m(\u001b[0m\u001b[0my\u001b[0m\u001b[1;33m,\u001b[0m \u001b[0mencode\u001b[0m\u001b[1;33m=\u001b[0m\u001b[1;32mTrue\u001b[0m\u001b[1;33m)\u001b[0m\u001b[1;33m\u001b[0m\u001b[1;33m\u001b[0m\u001b[0m\n\u001b[0m\u001b[0;32m    257\u001b[0m         \u001b[1;32mreturn\u001b[0m \u001b[0my\u001b[0m\u001b[1;33m\u001b[0m\u001b[1;33m\u001b[0m\u001b[0m\n\u001b[0;32m    258\u001b[0m \u001b[1;33m\u001b[0m\u001b[0m\n",
      "\u001b[1;32m~\\anaconda3\\envs\\new-p\\lib\\site-packages\\sklearn\\preprocessing\\_label.py\u001b[0m in \u001b[0;36m_encode\u001b[1;34m(values, uniques, encode, check_unknown)\u001b[0m\n\u001b[0;32m    115\u001b[0m             types = sorted(t.__qualname__\n\u001b[0;32m    116\u001b[0m                            for t in set(type(v) for v in values))\n\u001b[1;32m--> 117\u001b[1;33m             raise TypeError(\"Encoders require their input to be uniformly \"\n\u001b[0m\u001b[0;32m    118\u001b[0m                             f\"strings or numbers. Got {types}\")\n\u001b[0;32m    119\u001b[0m         \u001b[1;32mreturn\u001b[0m \u001b[0mres\u001b[0m\u001b[1;33m\u001b[0m\u001b[1;33m\u001b[0m\u001b[0m\n",
      "\u001b[1;31mTypeError\u001b[0m: Encoders require their input to be uniformly strings or numbers. Got ['int', 'str']"
     ]
    }
   ],
   "source": [
    "dfle = df2\n",
    "dfle['Covered Entity Type'] = le.fit_transform(dfle['Covered Entity Type'])\n",
    "dfle['Type of Breach'] = le.fit_transform(dfle['Type of Breach'])\n",
    "dfle"
   ]
  },
  {
   "cell_type": "code",
   "execution_count": 190,
   "metadata": {},
   "outputs": [
    {
     "data": {
      "text/plain": [
       "3    1172\n",
       "0     273\n",
       "1     206\n",
       "4      42\n",
       "2       4\n",
       "Name: Covered Entity Type, dtype: int64"
      ]
     },
     "execution_count": 190,
     "metadata": {},
     "output_type": "execute_result"
    }
   ],
   "source": [
    "dfle['Covered Entity Type'].value_counts()"
   ]
  },
  {
   "cell_type": "code",
   "execution_count": null,
   "metadata": {},
   "outputs": [],
   "source": []
  },
  {
   "cell_type": "code",
   "execution_count": null,
   "metadata": {},
   "outputs": [],
   "source": []
  },
  {
   "cell_type": "code",
   "execution_count": null,
   "metadata": {},
   "outputs": [],
   "source": []
  },
  {
   "cell_type": "code",
   "execution_count": null,
   "metadata": {},
   "outputs": [],
   "source": []
  },
  {
   "cell_type": "code",
   "execution_count": null,
   "metadata": {},
   "outputs": [],
   "source": []
  },
  {
   "cell_type": "code",
   "execution_count": 168,
   "metadata": {},
   "outputs": [],
   "source": [
    "from catboost import CatBoostClassifier\n",
    "from sklearn.metrics import accuracy_score"
   ]
  },
  {
   "cell_type": "code",
   "execution_count": 160,
   "metadata": {},
   "outputs": [],
   "source": [
    "categorical_var = np.where(X.dtypes != np.float)[0]"
   ]
  },
  {
   "cell_type": "code",
   "execution_count": 163,
   "metadata": {},
   "outputs": [
    {
     "name": "stdout",
     "output_type": "stream",
     "text": [
      "\n",
      "Categorical Variables indices :  [0 1 2 3]\n"
     ]
    }
   ],
   "source": [
    "print('\\nCategorical Variables indices : ',categorical_var)"
   ]
  },
  {
   "cell_type": "code",
   "execution_count": 164,
   "metadata": {},
   "outputs": [],
   "source": [
    "model = CatBoostClassifier(iterations=50)"
   ]
  },
  {
   "cell_type": "code",
   "execution_count": 165,
   "metadata": {},
   "outputs": [
    {
     "name": "stdout",
     "output_type": "stream",
     "text": [
      "Learning rate set to 0.201397\n",
      "0:\tlearn: 0.5248342\ttotal: 128ms\tremaining: 6.26s\n",
      "1:\tlearn: 0.4107488\ttotal: 136ms\tremaining: 3.27s\n",
      "2:\tlearn: 0.3282155\ttotal: 140ms\tremaining: 2.2s\n",
      "3:\tlearn: 0.2684791\ttotal: 143ms\tremaining: 1.64s\n",
      "4:\tlearn: 0.2213600\ttotal: 145ms\tremaining: 1.3s\n",
      "5:\tlearn: 0.1860076\ttotal: 148ms\tremaining: 1.09s\n",
      "6:\tlearn: 0.1576349\ttotal: 151ms\tremaining: 925ms\n",
      "7:\tlearn: 0.1353384\ttotal: 154ms\tremaining: 809ms\n",
      "8:\tlearn: 0.1182968\ttotal: 158ms\tremaining: 720ms\n",
      "9:\tlearn: 0.1041390\ttotal: 163ms\tremaining: 653ms\n",
      "10:\tlearn: 0.0925165\ttotal: 170ms\tremaining: 603ms\n",
      "11:\tlearn: 0.0831679\ttotal: 173ms\tremaining: 546ms\n",
      "12:\tlearn: 0.0761974\ttotal: 176ms\tremaining: 500ms\n",
      "13:\tlearn: 0.0695298\ttotal: 180ms\tremaining: 463ms\n",
      "14:\tlearn: 0.0649270\ttotal: 183ms\tremaining: 427ms\n",
      "15:\tlearn: 0.0608164\ttotal: 186ms\tremaining: 396ms\n",
      "16:\tlearn: 0.0568322\ttotal: 189ms\tremaining: 368ms\n",
      "17:\tlearn: 0.0533529\ttotal: 193ms\tremaining: 343ms\n",
      "18:\tlearn: 0.0513389\ttotal: 197ms\tremaining: 321ms\n",
      "19:\tlearn: 0.0491588\ttotal: 200ms\tremaining: 301ms\n",
      "20:\tlearn: 0.0471005\ttotal: 204ms\tremaining: 281ms\n",
      "21:\tlearn: 0.0454269\ttotal: 207ms\tremaining: 263ms\n",
      "22:\tlearn: 0.0441580\ttotal: 210ms\tremaining: 246ms\n",
      "23:\tlearn: 0.0431075\ttotal: 213ms\tremaining: 231ms\n",
      "24:\tlearn: 0.0420664\ttotal: 216ms\tremaining: 216ms\n",
      "25:\tlearn: 0.0415932\ttotal: 218ms\tremaining: 201ms\n",
      "26:\tlearn: 0.0408121\ttotal: 221ms\tremaining: 188ms\n",
      "27:\tlearn: 0.0400045\ttotal: 224ms\tremaining: 176ms\n",
      "28:\tlearn: 0.0394880\ttotal: 227ms\tremaining: 164ms\n",
      "29:\tlearn: 0.0389718\ttotal: 230ms\tremaining: 153ms\n",
      "30:\tlearn: 0.0384869\ttotal: 233ms\tremaining: 143ms\n",
      "31:\tlearn: 0.0382691\ttotal: 236ms\tremaining: 133ms\n",
      "32:\tlearn: 0.0377363\ttotal: 239ms\tremaining: 123ms\n",
      "33:\tlearn: 0.0372971\ttotal: 242ms\tremaining: 114ms\n",
      "34:\tlearn: 0.0369197\ttotal: 245ms\tremaining: 105ms\n",
      "35:\tlearn: 0.0365222\ttotal: 248ms\tremaining: 96.5ms\n",
      "36:\tlearn: 0.0363281\ttotal: 251ms\tremaining: 88.1ms\n",
      "37:\tlearn: 0.0362331\ttotal: 254ms\tremaining: 80.1ms\n",
      "38:\tlearn: 0.0361526\ttotal: 256ms\tremaining: 72.3ms\n",
      "39:\tlearn: 0.0359089\ttotal: 259ms\tremaining: 64.7ms\n",
      "40:\tlearn: 0.0356382\ttotal: 262ms\tremaining: 57.5ms\n",
      "41:\tlearn: 0.0348878\ttotal: 265ms\tremaining: 50.4ms\n",
      "42:\tlearn: 0.0345504\ttotal: 267ms\tremaining: 43.5ms\n",
      "43:\tlearn: 0.0342442\ttotal: 270ms\tremaining: 36.8ms\n",
      "44:\tlearn: 0.0341427\ttotal: 273ms\tremaining: 30.3ms\n",
      "45:\tlearn: 0.0336550\ttotal: 276ms\tremaining: 24ms\n",
      "46:\tlearn: 0.0333866\ttotal: 279ms\tremaining: 17.8ms\n",
      "47:\tlearn: 0.0332175\ttotal: 281ms\tremaining: 11.7ms\n",
      "48:\tlearn: 0.0329742\ttotal: 284ms\tremaining: 5.8ms\n",
      "49:\tlearn: 0.0327507\ttotal: 287ms\tremaining: 0us\n"
     ]
    },
    {
     "data": {
      "text/plain": [
       "<catboost.core.CatBoostClassifier at 0x2d98100af70>"
      ]
     },
     "execution_count": 165,
     "metadata": {},
     "output_type": "execute_result"
    }
   ],
   "source": [
    "model.fit(X,y,cat_features = categorical_var,plot=False)"
   ]
  },
  {
   "cell_type": "code",
   "execution_count": 166,
   "metadata": {},
   "outputs": [
    {
     "name": "stdout",
     "output_type": "stream",
     "text": [
      "\n",
      "Target on train data ['No' 'Yes' 'No' ... 'No' 'No' 'No']\n"
     ]
    }
   ],
   "source": [
    "predict_train = model.predict(X)\n",
    "print('\\nTarget on train data',predict_train)"
   ]
  },
  {
   "cell_type": "code",
   "execution_count": 169,
   "metadata": {},
   "outputs": [
    {
     "name": "stdout",
     "output_type": "stream",
     "text": [
      "\n",
      "accuracy_score on train dataset :  0.9935179728933412\n"
     ]
    }
   ],
   "source": [
    "accuracy_train = accuracy_score(y,predict_train)\n",
    "print('\\naccuracy_score on train dataset : ', accuracy_train)"
   ]
  },
  {
   "cell_type": "code",
   "execution_count": 170,
   "metadata": {},
   "outputs": [
    {
     "name": "stdout",
     "output_type": "stream",
     "text": [
      "\n",
      "Target on test data ['No' 'Yes' 'No' ... 'No' 'No' 'No']\n"
     ]
    }
   ],
   "source": [
    "predict_test = model.predict(X)\n",
    "print('\\nTarget on test data',predict_test) "
   ]
  },
  {
   "cell_type": "code",
   "execution_count": 172,
   "metadata": {},
   "outputs": [
    {
     "name": "stdout",
     "output_type": "stream",
     "text": [
      "\n",
      "accuracy_score on test dataset :  0.9935179728933412\n"
     ]
    }
   ],
   "source": [
    "accuracy_test = accuracy_score(y,predict_test)\n",
    "print('\\naccuracy_score on test dataset : ', accuracy_test)"
   ]
  },
  {
   "cell_type": "code",
   "execution_count": null,
   "metadata": {},
   "outputs": [],
   "source": []
  }
 ],
 "metadata": {
  "kernelspec": {
   "display_name": "Python 3",
   "language": "python",
   "name": "python3"
  },
  "language_info": {
   "codemirror_mode": {
    "name": "ipython",
    "version": 3
   },
   "file_extension": ".py",
   "mimetype": "text/x-python",
   "name": "python",
   "nbconvert_exporter": "python",
   "pygments_lexer": "ipython3",
   "version": "3.8.5"
  }
 },
 "nbformat": 4,
 "nbformat_minor": 4
}
