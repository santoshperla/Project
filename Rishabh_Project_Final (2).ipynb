{
  "nbformat": 4,
  "nbformat_minor": 0,
  "metadata": {
    "colab": {
      "name": "Rishabh_Project_Final.ipynb",
      "provenance": [],
      "toc_visible": true
    },
    "kernelspec": {
      "name": "python3",
      "display_name": "Python 3"
    }
  },
  "cells": [
    {
      "cell_type": "markdown",
      "metadata": {
        "id": "DbnpR8JPFY20",
        "colab_type": "text"
      },
      "source": [
        "# Step #1 Importing Data"
      ]
    },
    {
      "cell_type": "code",
      "metadata": {
        "id": "RwbNtsM7AoI9",
        "colab_type": "code",
        "colab": {}
      },
      "source": [
        "import pandas as pd\n",
        "import numpy as np\n",
        "\n",
        "import matplotlib.pyplot as plt\n",
        "import seaborn as sns\n",
        "\n",
        "from sklearn import svm\n",
        "from sklearn.model_selection import train_test_split\n",
        "\n",
        "from imblearn.over_sampling import SMOTE\n",
        "from sklearn.naive_bayes import GaussianNB\n",
        "from sklearn.model_selection import GridSearchCV, RandomizedSearchCV\n",
        "\n",
        "from sklearn.metrics import confusion_matrix\n",
        "from sklearn.metrics import classification_report"
      ],
      "execution_count": 175,
      "outputs": []
    },
    {
      "cell_type": "code",
      "metadata": {
        "id": "wH76XLWjA9m7",
        "colab_type": "code",
        "colab": {
          "base_uri": "https://localhost:8080/",
          "height": 54
        },
        "outputId": "5c210b7b-9c56-4b32-9a5e-55954dd2df5b"
      },
      "source": [
        "from google.colab import drive\n",
        "drive.mount('/content/drive')"
      ],
      "execution_count": 172,
      "outputs": [
        {
          "output_type": "stream",
          "text": [
            "Drive already mounted at /content/drive; to attempt to forcibly remount, call drive.mount(\"/content/drive\", force_remount=True).\n"
          ],
          "name": "stdout"
        }
      ]
    },
    {
      "cell_type": "code",
      "metadata": {
        "id": "eSbpzqNqBIV1",
        "colab_type": "code",
        "colab": {}
      },
      "source": [
        "df = pd.read_excel(r'//content/Health Data Breaches.xlsx')"
      ],
      "execution_count": 110,
      "outputs": []
    },
    {
      "cell_type": "markdown",
      "metadata": {
        "id": "xla7letUFnKb",
        "colab_type": "text"
      },
      "source": [
        "# Step #2 Exploring Data"
      ]
    },
    {
      "cell_type": "code",
      "metadata": {
        "id": "NMn_wqObBauk",
        "colab_type": "code",
        "colab": {
          "base_uri": "https://localhost:8080/",
          "height": 479
        },
        "outputId": "3f157e30-c6c0-4d70-dff9-e60929b5ec34"
      },
      "source": [
        "df.head(5)"
      ],
      "execution_count": 111,
      "outputs": [
        {
          "output_type": "execute_result",
          "data": {
            "text/html": [
              "<div>\n",
              "<style scoped>\n",
              "    .dataframe tbody tr th:only-of-type {\n",
              "        vertical-align: middle;\n",
              "    }\n",
              "\n",
              "    .dataframe tbody tr th {\n",
              "        vertical-align: top;\n",
              "    }\n",
              "\n",
              "    .dataframe thead th {\n",
              "        text-align: right;\n",
              "    }\n",
              "</style>\n",
              "<table border=\"1\" class=\"dataframe\">\n",
              "  <thead>\n",
              "    <tr style=\"text-align: right;\">\n",
              "      <th></th>\n",
              "      <th>Name of Covered Entity</th>\n",
              "      <th>State</th>\n",
              "      <th>Covered Entity Type</th>\n",
              "      <th>Individuals Affected</th>\n",
              "      <th>Breach Submission Date</th>\n",
              "      <th>2009</th>\n",
              "      <th>2010</th>\n",
              "      <th>2011</th>\n",
              "      <th>2012</th>\n",
              "      <th>2013</th>\n",
              "      <th>2014</th>\n",
              "      <th>2015</th>\n",
              "      <th>2016</th>\n",
              "      <th>Type of Breach</th>\n",
              "      <th>Location of Breached Information</th>\n",
              "      <th>Business Associate Present</th>\n",
              "      <th>Web Description</th>\n",
              "    </tr>\n",
              "  </thead>\n",
              "  <tbody>\n",
              "    <tr>\n",
              "      <th>0</th>\n",
              "      <td>Advantage Consolidated LLC</td>\n",
              "      <td>OR</td>\n",
              "      <td>Healthcare Provider</td>\n",
              "      <td>151626</td>\n",
              "      <td>2015-03-18</td>\n",
              "      <td>NaN</td>\n",
              "      <td>NaN</td>\n",
              "      <td>NaN</td>\n",
              "      <td>NaN</td>\n",
              "      <td>NaN</td>\n",
              "      <td>NaN</td>\n",
              "      <td>1.0</td>\n",
              "      <td>NaN</td>\n",
              "      <td>Hacking/IT Incident</td>\n",
              "      <td>Other</td>\n",
              "      <td>No</td>\n",
              "      <td>NaN</td>\n",
              "    </tr>\n",
              "    <tr>\n",
              "      <th>1</th>\n",
              "      <td>Doctors First Choice Billings, Inc.</td>\n",
              "      <td>FL</td>\n",
              "      <td>Business Associate</td>\n",
              "      <td>1831</td>\n",
              "      <td>2014-06-12</td>\n",
              "      <td>NaN</td>\n",
              "      <td>NaN</td>\n",
              "      <td>NaN</td>\n",
              "      <td>NaN</td>\n",
              "      <td>NaN</td>\n",
              "      <td>1.0</td>\n",
              "      <td>NaN</td>\n",
              "      <td>NaN</td>\n",
              "      <td>Hacking/IT Incident</td>\n",
              "      <td>Other</td>\n",
              "      <td>Yes</td>\n",
              "      <td>\\N</td>\n",
              "    </tr>\n",
              "    <tr>\n",
              "      <th>2</th>\n",
              "      <td>Goshen Health System, Inc.</td>\n",
              "      <td>IN</td>\n",
              "      <td>Healthcare Provider</td>\n",
              "      <td>660</td>\n",
              "      <td>2012-02-14</td>\n",
              "      <td>NaN</td>\n",
              "      <td>NaN</td>\n",
              "      <td>NaN</td>\n",
              "      <td>1.0</td>\n",
              "      <td>NaN</td>\n",
              "      <td>NaN</td>\n",
              "      <td>NaN</td>\n",
              "      <td>NaN</td>\n",
              "      <td>Hacking/IT Incident</td>\n",
              "      <td>Other</td>\n",
              "      <td>No</td>\n",
              "      <td>Computer servers of Goshen Health System's bus...</td>\n",
              "    </tr>\n",
              "    <tr>\n",
              "      <th>3</th>\n",
              "      <td>Group Life Hospital and Medical Program</td>\n",
              "      <td>CT</td>\n",
              "      <td>Health Plan</td>\n",
              "      <td>3000</td>\n",
              "      <td>2016-02-29</td>\n",
              "      <td>NaN</td>\n",
              "      <td>NaN</td>\n",
              "      <td>NaN</td>\n",
              "      <td>NaN</td>\n",
              "      <td>NaN</td>\n",
              "      <td>NaN</td>\n",
              "      <td>NaN</td>\n",
              "      <td>1.0</td>\n",
              "      <td>Hacking/IT Incident</td>\n",
              "      <td>Other</td>\n",
              "      <td>No</td>\n",
              "      <td>NaN</td>\n",
              "    </tr>\n",
              "    <tr>\n",
              "      <th>4</th>\n",
              "      <td>Health Incent, LLC</td>\n",
              "      <td>TN</td>\n",
              "      <td>Healthcare Provider</td>\n",
              "      <td>1100</td>\n",
              "      <td>2016-07-11</td>\n",
              "      <td>NaN</td>\n",
              "      <td>NaN</td>\n",
              "      <td>NaN</td>\n",
              "      <td>NaN</td>\n",
              "      <td>NaN</td>\n",
              "      <td>NaN</td>\n",
              "      <td>NaN</td>\n",
              "      <td>1.0</td>\n",
              "      <td>Hacking/IT Incident</td>\n",
              "      <td>Other</td>\n",
              "      <td>No</td>\n",
              "      <td>NaN</td>\n",
              "    </tr>\n",
              "  </tbody>\n",
              "</table>\n",
              "</div>"
            ],
            "text/plain": [
              "                    Name of Covered Entity  ...                                    Web Description\n",
              "0               Advantage Consolidated LLC  ...                                                NaN\n",
              "1      Doctors First Choice Billings, Inc.  ...                                                 \\N\n",
              "2               Goshen Health System, Inc.  ...  Computer servers of Goshen Health System's bus...\n",
              "3  Group Life Hospital and Medical Program  ...                                                NaN\n",
              "4                       Health Incent, LLC  ...                                                NaN\n",
              "\n",
              "[5 rows x 17 columns]"
            ]
          },
          "metadata": {
            "tags": []
          },
          "execution_count": 111
        }
      ]
    },
    {
      "cell_type": "code",
      "metadata": {
        "id": "x5p71QQaBeYU",
        "colab_type": "code",
        "colab": {
          "base_uri": "https://localhost:8080/",
          "height": 360
        },
        "outputId": "497313c9-fb81-4a41-fce5-2409bd71b29b"
      },
      "source": [
        "df.tail(5)"
      ],
      "execution_count": 112,
      "outputs": [
        {
          "output_type": "execute_result",
          "data": {
            "text/html": [
              "<div>\n",
              "<style scoped>\n",
              "    .dataframe tbody tr th:only-of-type {\n",
              "        vertical-align: middle;\n",
              "    }\n",
              "\n",
              "    .dataframe tbody tr th {\n",
              "        vertical-align: top;\n",
              "    }\n",
              "\n",
              "    .dataframe thead th {\n",
              "        text-align: right;\n",
              "    }\n",
              "</style>\n",
              "<table border=\"1\" class=\"dataframe\">\n",
              "  <thead>\n",
              "    <tr style=\"text-align: right;\">\n",
              "      <th></th>\n",
              "      <th>Name of Covered Entity</th>\n",
              "      <th>State</th>\n",
              "      <th>Covered Entity Type</th>\n",
              "      <th>Individuals Affected</th>\n",
              "      <th>Breach Submission Date</th>\n",
              "      <th>2009</th>\n",
              "      <th>2010</th>\n",
              "      <th>2011</th>\n",
              "      <th>2012</th>\n",
              "      <th>2013</th>\n",
              "      <th>2014</th>\n",
              "      <th>2015</th>\n",
              "      <th>2016</th>\n",
              "      <th>Type of Breach</th>\n",
              "      <th>Location of Breached Information</th>\n",
              "      <th>Business Associate Present</th>\n",
              "      <th>Web Description</th>\n",
              "    </tr>\n",
              "  </thead>\n",
              "  <tbody>\n",
              "    <tr>\n",
              "      <th>1695</th>\n",
              "      <td>M&amp;C Children's Clinic PA</td>\n",
              "      <td>TX</td>\n",
              "      <td>NaN</td>\n",
              "      <td>NaN</td>\n",
              "      <td>2013-03-19</td>\n",
              "      <td>NaN</td>\n",
              "      <td>NaN</td>\n",
              "      <td>NaN</td>\n",
              "      <td>NaN</td>\n",
              "      <td>1.0</td>\n",
              "      <td>NaN</td>\n",
              "      <td>NaN</td>\n",
              "      <td>NaN</td>\n",
              "      <td>NaN</td>\n",
              "      <td>NaN</td>\n",
              "      <td>No</td>\n",
              "      <td>On March 19, 2013, the covered entity (CE), M ...</td>\n",
              "    </tr>\n",
              "    <tr>\n",
              "      <th>1696</th>\n",
              "      <td>Memorial Health Systems</td>\n",
              "      <td>CO</td>\n",
              "      <td>NaN</td>\n",
              "      <td>NaN</td>\n",
              "      <td>2011-07-15</td>\n",
              "      <td>NaN</td>\n",
              "      <td>NaN</td>\n",
              "      <td>1.0</td>\n",
              "      <td>NaN</td>\n",
              "      <td>NaN</td>\n",
              "      <td>NaN</td>\n",
              "      <td>NaN</td>\n",
              "      <td>NaN</td>\n",
              "      <td>NaN</td>\n",
              "      <td>NaN</td>\n",
              "      <td>No</td>\n",
              "      <td>NaN</td>\n",
              "    </tr>\n",
              "    <tr>\n",
              "      <th>1697</th>\n",
              "      <td>Northwestern Memorial HealthCare</td>\n",
              "      <td>IL</td>\n",
              "      <td>NaN</td>\n",
              "      <td>NaN</td>\n",
              "      <td>2014-12-23</td>\n",
              "      <td>NaN</td>\n",
              "      <td>NaN</td>\n",
              "      <td>NaN</td>\n",
              "      <td>NaN</td>\n",
              "      <td>NaN</td>\n",
              "      <td>NaN</td>\n",
              "      <td>NaN</td>\n",
              "      <td>NaN</td>\n",
              "      <td>NaN</td>\n",
              "      <td>NaN</td>\n",
              "      <td>No</td>\n",
              "      <td>NaN</td>\n",
              "    </tr>\n",
              "    <tr>\n",
              "      <th>1698</th>\n",
              "      <td>St. Joseph Health System</td>\n",
              "      <td>CA</td>\n",
              "      <td>NaN</td>\n",
              "      <td>NaN</td>\n",
              "      <td>2012-02-15</td>\n",
              "      <td>NaN</td>\n",
              "      <td>NaN</td>\n",
              "      <td>NaN</td>\n",
              "      <td>NaN</td>\n",
              "      <td>NaN</td>\n",
              "      <td>NaN</td>\n",
              "      <td>NaN</td>\n",
              "      <td>NaN</td>\n",
              "      <td>NaN</td>\n",
              "      <td>NaN</td>\n",
              "      <td>No</td>\n",
              "      <td>NaN</td>\n",
              "    </tr>\n",
              "    <tr>\n",
              "      <th>1699</th>\n",
              "      <td>StandfordSchoolMedicine&amp; LP Children Hosp, Pri...</td>\n",
              "      <td>CA</td>\n",
              "      <td>NaN</td>\n",
              "      <td>NaN</td>\n",
              "      <td>2013-01-23</td>\n",
              "      <td>NaN</td>\n",
              "      <td>NaN</td>\n",
              "      <td>NaN</td>\n",
              "      <td>NaN</td>\n",
              "      <td>NaN</td>\n",
              "      <td>NaN</td>\n",
              "      <td>NaN</td>\n",
              "      <td>NaN</td>\n",
              "      <td>NaN</td>\n",
              "      <td>NaN</td>\n",
              "      <td>No</td>\n",
              "      <td>NaN</td>\n",
              "    </tr>\n",
              "  </tbody>\n",
              "</table>\n",
              "</div>"
            ],
            "text/plain": [
              "                                 Name of Covered Entity  ...                                    Web Description\n",
              "1695                           M&C Children's Clinic PA  ...  On March 19, 2013, the covered entity (CE), M ...\n",
              "1696                            Memorial Health Systems  ...                                                NaN\n",
              "1697                   Northwestern Memorial HealthCare  ...                                                NaN\n",
              "1698                           St. Joseph Health System  ...                                                NaN\n",
              "1699  StandfordSchoolMedicine& LP Children Hosp, Pri...  ...                                                NaN\n",
              "\n",
              "[5 rows x 17 columns]"
            ]
          },
          "metadata": {
            "tags": []
          },
          "execution_count": 112
        }
      ]
    },
    {
      "cell_type": "code",
      "metadata": {
        "id": "gIT58TXUOiX9",
        "colab_type": "code",
        "colab": {
          "base_uri": "https://localhost:8080/",
          "height": 769
        },
        "outputId": "b4d092fd-5e00-495f-d0c0-9a9f5ddec6e8"
      },
      "source": [
        "plt.figure(figsize=(10,10))\n",
        "sns.heatmap(df.isnull(), cbar = False, cmap = 'YlGnBu')"
      ],
      "execution_count": 113,
      "outputs": [
        {
          "output_type": "execute_result",
          "data": {
            "text/plain": [
              "<matplotlib.axes._subplots.AxesSubplot at 0x7fa24c726b00>"
            ]
          },
          "metadata": {
            "tags": []
          },
          "execution_count": 113
        },
        {
          "output_type": "display_data",
          "data": {
            "image/png": "[encoded data removed]",
            "text/plain": [
              "<Figure size 720x720 with 1 Axes>"
            ]
          },
          "metadata": {
            "tags": [],
            "needs_background": "light"
          }
        }
      ]
    },
    {
      "cell_type": "code",
      "metadata": {
        "id": "0sTxd6k8B_t2",
        "colab_type": "code",
        "colab": {}
      },
      "source": [
        "df=df.drop(['Web Description','Name of Covered Entity'], axis = 1)"
      ],
      "execution_count": 114,
      "outputs": []
    },
    {
      "cell_type": "markdown",
      "metadata": {
        "id": "JV542UpCHY9C",
        "colab_type": "text"
      },
      "source": [
        "###        *State with highest number of Breaches*\n",
        "\n",
        "\n",
        "\n"
      ]
    },
    {
      "cell_type": "code",
      "metadata": {
        "id": "PzPqUuONcYzR",
        "colab_type": "code",
        "colab": {
          "base_uri": "https://localhost:8080/",
          "height": 204
        },
        "outputId": "2b149242-0a6e-47f1-c331-a265138a3a86"
      },
      "source": [
        "df['State'].value_counts().iloc[:10]"
      ],
      "execution_count": 115,
      "outputs": [
        {
          "output_type": "execute_result",
          "data": {
            "text/plain": [
              "CA    200\n",
              "TX    140\n",
              "FL    114\n",
              "NY    104\n",
              "IL     93\n",
              "PA     60\n",
              "IN     57\n",
              "OH     56\n",
              "GA     50\n",
              "NC     44\n",
              "Name: State, dtype: int64"
            ]
          },
          "metadata": {
            "tags": []
          },
          "execution_count": 115
        }
      ]
    },
    {
      "cell_type": "code",
      "metadata": {
        "id": "-O95CG3kchQn",
        "colab_type": "code",
        "colab": {
          "base_uri": "https://localhost:8080/",
          "height": 606
        },
        "outputId": "7a314b69-9f9c-4dd5-d46c-14c31b3c0cf6"
      },
      "source": [
        "plt.figure(figsize=(10,10))\n",
        "sns.countplot(y='State',data=df,order=df['State'].value_counts().iloc[:10].index)\n",
        "for index, value in enumerate(df['State'].value_counts().iloc[:10]):\n",
        "    plt.text(value, index, str(value))"
      ],
      "execution_count": 116,
      "outputs": [
        {
          "output_type": "display_data",
          "data": {
            "image/png": "[encoded data removed]",
            "text/plain": [
              "<Figure size 720x720 with 1 Axes>"
            ]
          },
          "metadata": {
            "tags": [],
            "needs_background": "light"
          }
        }
      ]
    },
    {
      "cell_type": "markdown",
      "metadata": {
        "id": "DI1-kMRgIlM5",
        "colab_type": "text"
      },
      "source": [
        "### *Entity type has highest number of Breaches*"
      ]
    },
    {
      "cell_type": "code",
      "metadata": {
        "id": "qgxyX15la2Xg",
        "colab_type": "code",
        "colab": {
          "base_uri": "https://localhost:8080/",
          "height": 102
        },
        "outputId": "1146d936-8d44-4ee3-fdc6-8c74c754153a"
      },
      "source": [
        "df[\"Covered Entity Type\"].value_counts()"
      ],
      "execution_count": 117,
      "outputs": [
        {
          "output_type": "execute_result",
          "data": {
            "text/plain": [
              "Healthcare Provider          1173\n",
              "Business Associate            274\n",
              "Health Plan                   207\n",
              "Healthcare Clearing House       4\n",
              "Name: Covered Entity Type, dtype: int64"
            ]
          },
          "metadata": {
            "tags": []
          },
          "execution_count": 117
        }
      ]
    },
    {
      "cell_type": "code",
      "metadata": {
        "id": "jgxfG1RmYWCP",
        "colab_type": "code",
        "colab": {
          "base_uri": "https://localhost:8080/",
          "height": 279
        },
        "outputId": "035e5387-b997-42cf-9566-5969bfd29d09"
      },
      "source": [
        "sns.countplot(y='Covered Entity Type',data=df)\n",
        "for index, value in enumerate(df['Covered Entity Type'].value_counts()):\n",
        "    plt.text(value, index, str(value))"
      ],
      "execution_count": 118,
      "outputs": [
        {
          "output_type": "display_data",
          "data": {
            "image/png": "[encoded data removed]",
            "text/plain": [
              "<Figure size 432x288 with 1 Axes>"
            ]
          },
          "metadata": {
            "tags": [],
            "needs_background": "light"
          }
        }
      ]
    },
    {
      "cell_type": "markdown",
      "metadata": {
        "id": "Wp2aZ2ClJlz9",
        "colab_type": "text"
      },
      "source": [
        "### *Most common Type of Breach*"
      ]
    },
    {
      "cell_type": "code",
      "metadata": {
        "id": "2qP6I9k6rhwJ",
        "colab_type": "code",
        "colab": {
          "base_uri": "https://localhost:8080/",
          "height": 0
        },
        "outputId": "f77792ad-f5d7-4a8a-f1c7-9734a541a91a"
      },
      "source": [
        "df[\"Type of Breach\"].value_counts().iloc[:10]"
      ],
      "execution_count": 119,
      "outputs": [
        {
          "output_type": "execute_result",
          "data": {
            "text/plain": [
              "Theft                                                  724\n",
              "Unauthorized Access/Disclosure                         399\n",
              "Hacking/IT Incident                                    222\n",
              "Loss                                                   120\n",
              "Other                                                   77\n",
              "Improper Disposal                                       51\n",
              "Theft, Unauthorized Access/Disclosure                   24\n",
              "Loss, Theft                                             15\n",
              "Unknown                                                  9\n",
              "Hacking/IT Incident, Unauthorized Access/Disclosure      8\n",
              "Name: Type of Breach, dtype: int64"
            ]
          },
          "metadata": {
            "tags": []
          },
          "execution_count": 119
        }
      ]
    },
    {
      "cell_type": "code",
      "metadata": {
        "id": "2euYseRzg-jA",
        "colab_type": "code",
        "colab": {
          "base_uri": "https://localhost:8080/",
          "height": 0
        },
        "outputId": "56ce9f78-48c2-4212-cb7f-6d1f47ea7755"
      },
      "source": [
        "plt.figure(figsize=(10,10)),\n",
        "sns.countplot(y='Type of Breach',data=df,order=df['Type of Breach'].value_counts().iloc[:10].index)\n",
        "for index, value in enumerate(df['Type of Breach'].value_counts().iloc[:10]):\n",
        "    plt.text(value, index, str(value))"
      ],
      "execution_count": 120,
      "outputs": [
        {
          "output_type": "display_data",
          "data": {
            "image/png": "[encoded data removed]",
            "text/plain": [
              "<Figure size 720x720 with 1 Axes>"
            ]
          },
          "metadata": {
            "tags": [],
            "needs_background": "light"
          }
        }
      ]
    },
    {
      "cell_type": "markdown",
      "metadata": {
        "id": "A-Fw1oXjKJTF",
        "colab_type": "text"
      },
      "source": [
        "### *Most common Location of Breached Information*"
      ]
    },
    {
      "cell_type": "code",
      "metadata": {
        "id": "EA7ahwkjvNI4",
        "colab_type": "code",
        "colab": {
          "base_uri": "https://localhost:8080/",
          "height": 204
        },
        "outputId": "1e5d8aa7-9a11-484f-b975-deb0444f2b05"
      },
      "source": [
        "df['Location of Breached Information'].value_counts().iloc[:10]"
      ],
      "execution_count": 121,
      "outputs": [
        {
          "output_type": "execute_result",
          "data": {
            "text/plain": [
              "Paper/Films                                 387\n",
              "Laptop                                      285\n",
              "Network Server                              225\n",
              "Other                                       164\n",
              "Desktop Computer                            134\n",
              "Email                                       130\n",
              "Other Portable Electronic Device             94\n",
              "Electronic Medical Record                    63\n",
              "Other, Other Portable Electronic Device      45\n",
              "Laptop, Other Portable Electronic Device     16\n",
              "Name: Location of Breached Information, dtype: int64"
            ]
          },
          "metadata": {
            "tags": []
          },
          "execution_count": 121
        }
      ]
    },
    {
      "cell_type": "code",
      "metadata": {
        "id": "8O_Z-FH-ikGs",
        "colab_type": "code",
        "colab": {
          "base_uri": "https://localhost:8080/",
          "height": 606
        },
        "outputId": "ec1d9d25-1e2f-4dbc-f022-193dd06d46af"
      },
      "source": [
        "plt.figure(figsize=(10,10))\n",
        "sns.countplot(y= 'Location of Breached Information', data = df, order = df['Location of Breached Information'].value_counts().iloc[:10].index)\n",
        "for index, value in enumerate(df['Location of Breached Information'].value_counts().iloc[:10]):\n",
        "    plt.text(value, index, str(value))\n"
      ],
      "execution_count": 122,
      "outputs": [
        {
          "output_type": "display_data",
          "data": {
            "image/png": "[encoded data removed]",
            "text/plain": [
              "<Figure size 720x720 with 1 Axes>"
            ]
          },
          "metadata": {
            "tags": [],
            "needs_background": "light"
          }
        }
      ]
    },
    {
      "cell_type": "code",
      "metadata": {
        "id": "IB-kKXmgPMoM",
        "colab_type": "code",
        "colab": {}
      },
      "source": [
        ""
      ],
      "execution_count": 122,
      "outputs": []
    },
    {
      "cell_type": "markdown",
      "metadata": {
        "id": "CzoSaUaBLVhr",
        "colab_type": "text"
      },
      "source": [
        "### *Number of Breaches a Business associate is involved*\n",
        "\n",
        "*   List item\n",
        "*   List item\n",
        "\n"
      ]
    },
    {
      "cell_type": "code",
      "metadata": {
        "id": "5DDXmV4KUy3p",
        "colab_type": "code",
        "colab": {
          "base_uri": "https://localhost:8080/",
          "height": 0
        },
        "outputId": "9f88107f-06c0-4243-969c-89fa63a4ef4d"
      },
      "source": [
        "df['Covered Entity Type'].value_counts()"
      ],
      "execution_count": 123,
      "outputs": [
        {
          "output_type": "execute_result",
          "data": {
            "text/plain": [
              "Healthcare Provider          1173\n",
              "Business Associate            274\n",
              "Health Plan                   207\n",
              "Healthcare Clearing House       4\n",
              "Name: Covered Entity Type, dtype: int64"
            ]
          },
          "metadata": {
            "tags": []
          },
          "execution_count": 123
        }
      ]
    },
    {
      "cell_type": "code",
      "metadata": {
        "id": "vTdMG7pRVNNX",
        "colab_type": "code",
        "colab": {
          "base_uri": "https://localhost:8080/",
          "height": 0
        },
        "outputId": "97c2f3a6-dbbc-47f9-9247-7289e92943bd"
      },
      "source": [
        "sns.countplot(x=\"Business Associate Present\",data=df)\n",
        "for index, value in enumerate(df['Business Associate Present'].value_counts()):\n",
        "    plt.text(index, value, str(value))"
      ],
      "execution_count": 124,
      "outputs": [
        {
          "output_type": "display_data",
          "data": {
            "image/png": "[encoded data removed]",
            "text/plain": [
              "<Figure size 432x288 with 1 Axes>"
            ]
          },
          "metadata": {
            "tags": [],
            "needs_background": "light"
          }
        }
      ]
    },
    {
      "cell_type": "markdown",
      "metadata": {
        "id": "cczWVIPmMgHu",
        "colab_type": "text"
      },
      "source": [
        "### *Presence of Business Associate in Different Entity Types*"
      ]
    },
    {
      "cell_type": "code",
      "metadata": {
        "id": "G5YjHXuImgih",
        "colab_type": "code",
        "colab": {
          "base_uri": "https://localhost:8080/",
          "height": 0
        },
        "outputId": "b6faff3b-7b49-4048-9fcd-07a802e13abe"
      },
      "source": [
        "plt.figure(figsize=(10,10))\n",
        "gph=sns.catplot(x='Covered Entity Type',hue='Business Associate Present',kind='count',data=df)\n",
        "for axes in gph.axes.flat:\n",
        "    _ = axes.set_xticklabels(axes.get_xticklabels(), rotation=45)"
      ],
      "execution_count": 125,
      "outputs": [
        {
          "output_type": "display_data",
          "data": {
            "text/plain": [
              "<Figure size 720x720 with 0 Axes>"
            ]
          },
          "metadata": {
            "tags": []
          }
        },
        {
          "output_type": "display_data",
          "data": {
            "image/png": "[encoded data removed]",
            "text/plain": [
              "<Figure size 504x360 with 1 Axes>"
            ]
          },
          "metadata": {
            "tags": [],
            "needs_background": "light"
          }
        }
      ]
    },
    {
      "cell_type": "markdown",
      "metadata": {
        "id": "bs-hoMJ4MCqU",
        "colab_type": "text"
      },
      "source": [
        "### *Different Types of Breaches in different Entity Types*"
      ]
    },
    {
      "cell_type": "code",
      "metadata": {
        "id": "7ekeOcIrMCIT",
        "colab_type": "code",
        "colab": {
          "base_uri": "https://localhost:8080/",
          "height": 673
        },
        "outputId": "7db30c0f-6794-4bc8-9690-6b535882bd48"
      },
      "source": [
        "plt.figure(figsize=(100,100))\n",
        "gph=sns.catplot(x='Type of Breach',hue='Covered Entity Type',kind='count',data=df)\n",
        "for axes in gph.axes.flat:\n",
        "    _ = axes.set_xticklabels(axes.get_xticklabels(), rotation=90)"
      ],
      "execution_count": 126,
      "outputs": [
        {
          "output_type": "display_data",
          "data": {
            "text/plain": [
              "<Figure size 7200x7200 with 0 Axes>"
            ]
          },
          "metadata": {
            "tags": []
          }
        },
        {
          "output_type": "display_data",
          "data": {
            "image/png": "[encoded data removed]",
            "text/plain": [
              "<Figure size 529.75x360 with 1 Axes>"
            ]
          },
          "metadata": {
            "tags": [],
            "needs_background": "light"
          }
        }
      ]
    },
    {
      "cell_type": "markdown",
      "metadata": {
        "id": "nefd-iYJN_S-",
        "colab_type": "text"
      },
      "source": [
        "# Step #3 Preparing The Data"
      ]
    },
    {
      "cell_type": "code",
      "metadata": {
        "id": "CnTRPJCfOM-P",
        "colab_type": "code",
        "colab": {
          "base_uri": "https://localhost:8080/",
          "height": 459
        },
        "outputId": "3d46e177-c2e6-401c-b815-35a474b958dd"
      },
      "source": [
        "df[df.duplicated(keep=False)]"
      ],
      "execution_count": 127,
      "outputs": [
        {
          "output_type": "execute_result",
          "data": {
            "text/html": [
              "<div>\n",
              "<style scoped>\n",
              "    .dataframe tbody tr th:only-of-type {\n",
              "        vertical-align: middle;\n",
              "    }\n",
              "\n",
              "    .dataframe tbody tr th {\n",
              "        vertical-align: top;\n",
              "    }\n",
              "\n",
              "    .dataframe thead th {\n",
              "        text-align: right;\n",
              "    }\n",
              "</style>\n",
              "<table border=\"1\" class=\"dataframe\">\n",
              "  <thead>\n",
              "    <tr style=\"text-align: right;\">\n",
              "      <th></th>\n",
              "      <th>State</th>\n",
              "      <th>Covered Entity Type</th>\n",
              "      <th>Individuals Affected</th>\n",
              "      <th>Breach Submission Date</th>\n",
              "      <th>2009</th>\n",
              "      <th>2010</th>\n",
              "      <th>2011</th>\n",
              "      <th>2012</th>\n",
              "      <th>2013</th>\n",
              "      <th>2014</th>\n",
              "      <th>2015</th>\n",
              "      <th>2016</th>\n",
              "      <th>Type of Breach</th>\n",
              "      <th>Location of Breached Information</th>\n",
              "      <th>Business Associate Present</th>\n",
              "    </tr>\n",
              "  </thead>\n",
              "  <tbody>\n",
              "    <tr>\n",
              "      <th>40</th>\n",
              "      <td>MN</td>\n",
              "      <td>Health Plan</td>\n",
              "      <td>1550</td>\n",
              "      <td>2016-02-26</td>\n",
              "      <td>NaN</td>\n",
              "      <td>NaN</td>\n",
              "      <td>NaN</td>\n",
              "      <td>NaN</td>\n",
              "      <td>NaN</td>\n",
              "      <td>NaN</td>\n",
              "      <td>NaN</td>\n",
              "      <td>1.0</td>\n",
              "      <td>Hacking/IT Incident</td>\n",
              "      <td>Network Server</td>\n",
              "      <td>No</td>\n",
              "    </tr>\n",
              "    <tr>\n",
              "      <th>41</th>\n",
              "      <td>MN</td>\n",
              "      <td>Health Plan</td>\n",
              "      <td>1550</td>\n",
              "      <td>2016-02-26</td>\n",
              "      <td>NaN</td>\n",
              "      <td>NaN</td>\n",
              "      <td>NaN</td>\n",
              "      <td>NaN</td>\n",
              "      <td>NaN</td>\n",
              "      <td>NaN</td>\n",
              "      <td>NaN</td>\n",
              "      <td>1.0</td>\n",
              "      <td>Hacking/IT Incident</td>\n",
              "      <td>Network Server</td>\n",
              "      <td>No</td>\n",
              "    </tr>\n",
              "    <tr>\n",
              "      <th>585</th>\n",
              "      <td>FL</td>\n",
              "      <td>Healthcare Provider</td>\n",
              "      <td>648</td>\n",
              "      <td>2016-04-20</td>\n",
              "      <td>NaN</td>\n",
              "      <td>NaN</td>\n",
              "      <td>NaN</td>\n",
              "      <td>NaN</td>\n",
              "      <td>NaN</td>\n",
              "      <td>NaN</td>\n",
              "      <td>NaN</td>\n",
              "      <td>1.0</td>\n",
              "      <td>Theft</td>\n",
              "      <td>Paper/Films</td>\n",
              "      <td>No</td>\n",
              "    </tr>\n",
              "    <tr>\n",
              "      <th>586</th>\n",
              "      <td>FL</td>\n",
              "      <td>Healthcare Provider</td>\n",
              "      <td>648</td>\n",
              "      <td>2016-04-20</td>\n",
              "      <td>NaN</td>\n",
              "      <td>NaN</td>\n",
              "      <td>NaN</td>\n",
              "      <td>NaN</td>\n",
              "      <td>NaN</td>\n",
              "      <td>NaN</td>\n",
              "      <td>NaN</td>\n",
              "      <td>1.0</td>\n",
              "      <td>Theft</td>\n",
              "      <td>Paper/Films</td>\n",
              "      <td>No</td>\n",
              "    </tr>\n",
              "    <tr>\n",
              "      <th>659</th>\n",
              "      <td>CA</td>\n",
              "      <td>Business Associate</td>\n",
              "      <td>1474</td>\n",
              "      <td>2010-09-23</td>\n",
              "      <td>NaN</td>\n",
              "      <td>1.0</td>\n",
              "      <td>NaN</td>\n",
              "      <td>NaN</td>\n",
              "      <td>NaN</td>\n",
              "      <td>NaN</td>\n",
              "      <td>NaN</td>\n",
              "      <td>NaN</td>\n",
              "      <td>Theft</td>\n",
              "      <td>Other, Other Portable Electronic Device</td>\n",
              "      <td>Yes</td>\n",
              "    </tr>\n",
              "    <tr>\n",
              "      <th>674</th>\n",
              "      <td>CA</td>\n",
              "      <td>Business Associate</td>\n",
              "      <td>1474</td>\n",
              "      <td>2010-09-23</td>\n",
              "      <td>NaN</td>\n",
              "      <td>1.0</td>\n",
              "      <td>NaN</td>\n",
              "      <td>NaN</td>\n",
              "      <td>NaN</td>\n",
              "      <td>NaN</td>\n",
              "      <td>NaN</td>\n",
              "      <td>NaN</td>\n",
              "      <td>Theft</td>\n",
              "      <td>Other, Other Portable Electronic Device</td>\n",
              "      <td>Yes</td>\n",
              "    </tr>\n",
              "  </tbody>\n",
              "</table>\n",
              "</div>"
            ],
            "text/plain": [
              "    State  ... Business Associate Present\n",
              "40     MN  ...                         No\n",
              "41     MN  ...                         No\n",
              "585    FL  ...                         No\n",
              "586    FL  ...                         No\n",
              "659    CA  ...                        Yes\n",
              "674    CA  ...                        Yes\n",
              "\n",
              "[6 rows x 15 columns]"
            ]
          },
          "metadata": {
            "tags": []
          },
          "execution_count": 127
        }
      ]
    },
    {
      "cell_type": "code",
      "metadata": {
        "id": "mhR9E_wAPAqm",
        "colab_type": "code",
        "colab": {
          "base_uri": "https://localhost:8080/",
          "height": 558
        },
        "outputId": "b7b99550-64d9-4ae9-a59c-73c0a15445ec"
      },
      "source": [
        "df=df.drop_duplicates()\n",
        "df"
      ],
      "execution_count": 128,
      "outputs": [
        {
          "output_type": "execute_result",
          "data": {
            "text/html": [
              "<div>\n",
              "<style scoped>\n",
              "    .dataframe tbody tr th:only-of-type {\n",
              "        vertical-align: middle;\n",
              "    }\n",
              "\n",
              "    .dataframe tbody tr th {\n",
              "        vertical-align: top;\n",
              "    }\n",
              "\n",
              "    .dataframe thead th {\n",
              "        text-align: right;\n",
              "    }\n",
              "</style>\n",
              "<table border=\"1\" class=\"dataframe\">\n",
              "  <thead>\n",
              "    <tr style=\"text-align: right;\">\n",
              "      <th></th>\n",
              "      <th>State</th>\n",
              "      <th>Covered Entity Type</th>\n",
              "      <th>Individuals Affected</th>\n",
              "      <th>Breach Submission Date</th>\n",
              "      <th>2009</th>\n",
              "      <th>2010</th>\n",
              "      <th>2011</th>\n",
              "      <th>2012</th>\n",
              "      <th>2013</th>\n",
              "      <th>2014</th>\n",
              "      <th>2015</th>\n",
              "      <th>2016</th>\n",
              "      <th>Type of Breach</th>\n",
              "      <th>Location of Breached Information</th>\n",
              "      <th>Business Associate Present</th>\n",
              "    </tr>\n",
              "  </thead>\n",
              "  <tbody>\n",
              "    <tr>\n",
              "      <th>0</th>\n",
              "      <td>OR</td>\n",
              "      <td>Healthcare Provider</td>\n",
              "      <td>151626</td>\n",
              "      <td>2015-03-18</td>\n",
              "      <td>NaN</td>\n",
              "      <td>NaN</td>\n",
              "      <td>NaN</td>\n",
              "      <td>NaN</td>\n",
              "      <td>NaN</td>\n",
              "      <td>NaN</td>\n",
              "      <td>1.0</td>\n",
              "      <td>NaN</td>\n",
              "      <td>Hacking/IT Incident</td>\n",
              "      <td>Other</td>\n",
              "      <td>No</td>\n",
              "    </tr>\n",
              "    <tr>\n",
              "      <th>1</th>\n",
              "      <td>FL</td>\n",
              "      <td>Business Associate</td>\n",
              "      <td>1831</td>\n",
              "      <td>2014-06-12</td>\n",
              "      <td>NaN</td>\n",
              "      <td>NaN</td>\n",
              "      <td>NaN</td>\n",
              "      <td>NaN</td>\n",
              "      <td>NaN</td>\n",
              "      <td>1.0</td>\n",
              "      <td>NaN</td>\n",
              "      <td>NaN</td>\n",
              "      <td>Hacking/IT Incident</td>\n",
              "      <td>Other</td>\n",
              "      <td>Yes</td>\n",
              "    </tr>\n",
              "    <tr>\n",
              "      <th>2</th>\n",
              "      <td>IN</td>\n",
              "      <td>Healthcare Provider</td>\n",
              "      <td>660</td>\n",
              "      <td>2012-02-14</td>\n",
              "      <td>NaN</td>\n",
              "      <td>NaN</td>\n",
              "      <td>NaN</td>\n",
              "      <td>1.0</td>\n",
              "      <td>NaN</td>\n",
              "      <td>NaN</td>\n",
              "      <td>NaN</td>\n",
              "      <td>NaN</td>\n",
              "      <td>Hacking/IT Incident</td>\n",
              "      <td>Other</td>\n",
              "      <td>No</td>\n",
              "    </tr>\n",
              "    <tr>\n",
              "      <th>3</th>\n",
              "      <td>CT</td>\n",
              "      <td>Health Plan</td>\n",
              "      <td>3000</td>\n",
              "      <td>2016-02-29</td>\n",
              "      <td>NaN</td>\n",
              "      <td>NaN</td>\n",
              "      <td>NaN</td>\n",
              "      <td>NaN</td>\n",
              "      <td>NaN</td>\n",
              "      <td>NaN</td>\n",
              "      <td>NaN</td>\n",
              "      <td>1.0</td>\n",
              "      <td>Hacking/IT Incident</td>\n",
              "      <td>Other</td>\n",
              "      <td>No</td>\n",
              "    </tr>\n",
              "    <tr>\n",
              "      <th>4</th>\n",
              "      <td>TN</td>\n",
              "      <td>Healthcare Provider</td>\n",
              "      <td>1100</td>\n",
              "      <td>2016-07-11</td>\n",
              "      <td>NaN</td>\n",
              "      <td>NaN</td>\n",
              "      <td>NaN</td>\n",
              "      <td>NaN</td>\n",
              "      <td>NaN</td>\n",
              "      <td>NaN</td>\n",
              "      <td>NaN</td>\n",
              "      <td>1.0</td>\n",
              "      <td>Hacking/IT Incident</td>\n",
              "      <td>Other</td>\n",
              "      <td>No</td>\n",
              "    </tr>\n",
              "    <tr>\n",
              "      <th>...</th>\n",
              "      <td>...</td>\n",
              "      <td>...</td>\n",
              "      <td>...</td>\n",
              "      <td>...</td>\n",
              "      <td>...</td>\n",
              "      <td>...</td>\n",
              "      <td>...</td>\n",
              "      <td>...</td>\n",
              "      <td>...</td>\n",
              "      <td>...</td>\n",
              "      <td>...</td>\n",
              "      <td>...</td>\n",
              "      <td>...</td>\n",
              "      <td>...</td>\n",
              "      <td>...</td>\n",
              "    </tr>\n",
              "    <tr>\n",
              "      <th>1695</th>\n",
              "      <td>TX</td>\n",
              "      <td>NaN</td>\n",
              "      <td>NaN</td>\n",
              "      <td>2013-03-19</td>\n",
              "      <td>NaN</td>\n",
              "      <td>NaN</td>\n",
              "      <td>NaN</td>\n",
              "      <td>NaN</td>\n",
              "      <td>1.0</td>\n",
              "      <td>NaN</td>\n",
              "      <td>NaN</td>\n",
              "      <td>NaN</td>\n",
              "      <td>NaN</td>\n",
              "      <td>NaN</td>\n",
              "      <td>No</td>\n",
              "    </tr>\n",
              "    <tr>\n",
              "      <th>1696</th>\n",
              "      <td>CO</td>\n",
              "      <td>NaN</td>\n",
              "      <td>NaN</td>\n",
              "      <td>2011-07-15</td>\n",
              "      <td>NaN</td>\n",
              "      <td>NaN</td>\n",
              "      <td>1.0</td>\n",
              "      <td>NaN</td>\n",
              "      <td>NaN</td>\n",
              "      <td>NaN</td>\n",
              "      <td>NaN</td>\n",
              "      <td>NaN</td>\n",
              "      <td>NaN</td>\n",
              "      <td>NaN</td>\n",
              "      <td>No</td>\n",
              "    </tr>\n",
              "    <tr>\n",
              "      <th>1697</th>\n",
              "      <td>IL</td>\n",
              "      <td>NaN</td>\n",
              "      <td>NaN</td>\n",
              "      <td>2014-12-23</td>\n",
              "      <td>NaN</td>\n",
              "      <td>NaN</td>\n",
              "      <td>NaN</td>\n",
              "      <td>NaN</td>\n",
              "      <td>NaN</td>\n",
              "      <td>NaN</td>\n",
              "      <td>NaN</td>\n",
              "      <td>NaN</td>\n",
              "      <td>NaN</td>\n",
              "      <td>NaN</td>\n",
              "      <td>No</td>\n",
              "    </tr>\n",
              "    <tr>\n",
              "      <th>1698</th>\n",
              "      <td>CA</td>\n",
              "      <td>NaN</td>\n",
              "      <td>NaN</td>\n",
              "      <td>2012-02-15</td>\n",
              "      <td>NaN</td>\n",
              "      <td>NaN</td>\n",
              "      <td>NaN</td>\n",
              "      <td>NaN</td>\n",
              "      <td>NaN</td>\n",
              "      <td>NaN</td>\n",
              "      <td>NaN</td>\n",
              "      <td>NaN</td>\n",
              "      <td>NaN</td>\n",
              "      <td>NaN</td>\n",
              "      <td>No</td>\n",
              "    </tr>\n",
              "    <tr>\n",
              "      <th>1699</th>\n",
              "      <td>CA</td>\n",
              "      <td>NaN</td>\n",
              "      <td>NaN</td>\n",
              "      <td>2013-01-23</td>\n",
              "      <td>NaN</td>\n",
              "      <td>NaN</td>\n",
              "      <td>NaN</td>\n",
              "      <td>NaN</td>\n",
              "      <td>NaN</td>\n",
              "      <td>NaN</td>\n",
              "      <td>NaN</td>\n",
              "      <td>NaN</td>\n",
              "      <td>NaN</td>\n",
              "      <td>NaN</td>\n",
              "      <td>No</td>\n",
              "    </tr>\n",
              "  </tbody>\n",
              "</table>\n",
              "<p>1697 rows × 15 columns</p>\n",
              "</div>"
            ],
            "text/plain": [
              "     State  ... Business Associate Present\n",
              "0       OR  ...                         No\n",
              "1       FL  ...                        Yes\n",
              "2       IN  ...                         No\n",
              "3       CT  ...                         No\n",
              "4       TN  ...                         No\n",
              "...    ...  ...                        ...\n",
              "1695    TX  ...                         No\n",
              "1696    CO  ...                         No\n",
              "1697    IL  ...                         No\n",
              "1698    CA  ...                         No\n",
              "1699    CA  ...                         No\n",
              "\n",
              "[1697 rows x 15 columns]"
            ]
          },
          "metadata": {
            "tags": []
          },
          "execution_count": 128
        }
      ]
    },
    {
      "cell_type": "code",
      "metadata": {
        "id": "GCOAsCLFN2ts",
        "colab_type": "code",
        "colab": {}
      },
      "source": [
        "df = df.drop(['State','Breach Submission Date','Individuals Affected'], axis = 1)"
      ],
      "execution_count": 129,
      "outputs": []
    },
    {
      "cell_type": "code",
      "metadata": {
        "id": "bbbe__y3PUS-",
        "colab_type": "code",
        "colab": {
          "base_uri": "https://localhost:8080/",
          "height": 340
        },
        "outputId": "b9049d0c-80ad-4b35-c10c-bf490d6b3ec4"
      },
      "source": [
        "df.info()"
      ],
      "execution_count": 130,
      "outputs": [
        {
          "output_type": "stream",
          "text": [
            "<class 'pandas.core.frame.DataFrame'>\n",
            "Int64Index: 1697 entries, 0 to 1699\n",
            "Data columns (total 12 columns):\n",
            " #   Column                            Non-Null Count  Dtype  \n",
            "---  ------                            --------------  -----  \n",
            " 0   Covered Entity Type               1655 non-null   object \n",
            " 1   2009                              18 non-null     float64\n",
            " 2   2010                              197 non-null    float64\n",
            " 3   2011                              196 non-null    float64\n",
            " 4   2012                              207 non-null    float64\n",
            " 5   2013                              273 non-null    float64\n",
            " 6   2014                              293 non-null    float64\n",
            " 7   2015                              269 non-null    float64\n",
            " 8   2016                              239 non-null    float64\n",
            " 9   Type of Breach                    1683 non-null   object \n",
            " 10  Location of Breached Information  1686 non-null   object \n",
            " 11  Business Associate Present        1697 non-null   object \n",
            "dtypes: float64(8), object(4)\n",
            "memory usage: 172.4+ KB\n"
          ],
          "name": "stdout"
        }
      ]
    },
    {
      "cell_type": "code",
      "metadata": {
        "id": "u15rUCfLPpSY",
        "colab_type": "code",
        "colab": {
          "base_uri": "https://localhost:8080/",
          "height": 80
        },
        "outputId": "34288eaa-e1b7-4d8b-8af3-98a17d3fa31e"
      },
      "source": [
        "cnt = df.describe().loc[['count']]\n",
        "cnt"
      ],
      "execution_count": 131,
      "outputs": [
        {
          "output_type": "execute_result",
          "data": {
            "text/html": [
              "<div>\n",
              "<style scoped>\n",
              "    .dataframe tbody tr th:only-of-type {\n",
              "        vertical-align: middle;\n",
              "    }\n",
              "\n",
              "    .dataframe tbody tr th {\n",
              "        vertical-align: top;\n",
              "    }\n",
              "\n",
              "    .dataframe thead th {\n",
              "        text-align: right;\n",
              "    }\n",
              "</style>\n",
              "<table border=\"1\" class=\"dataframe\">\n",
              "  <thead>\n",
              "    <tr style=\"text-align: right;\">\n",
              "      <th></th>\n",
              "      <th>2009</th>\n",
              "      <th>2010</th>\n",
              "      <th>2011</th>\n",
              "      <th>2012</th>\n",
              "      <th>2013</th>\n",
              "      <th>2014</th>\n",
              "      <th>2015</th>\n",
              "      <th>2016</th>\n",
              "    </tr>\n",
              "  </thead>\n",
              "  <tbody>\n",
              "    <tr>\n",
              "      <th>count</th>\n",
              "      <td>18.0</td>\n",
              "      <td>197.0</td>\n",
              "      <td>196.0</td>\n",
              "      <td>207.0</td>\n",
              "      <td>273.0</td>\n",
              "      <td>293.0</td>\n",
              "      <td>269.0</td>\n",
              "      <td>239.0</td>\n",
              "    </tr>\n",
              "  </tbody>\n",
              "</table>\n",
              "</div>"
            ],
            "text/plain": [
              "       2009   2010   2011   2012   2013   2014   2015   2016\n",
              "count  18.0  197.0  196.0  207.0  273.0  293.0  269.0  239.0"
            ]
          },
          "metadata": {
            "tags": []
          },
          "execution_count": 131
        }
      ]
    },
    {
      "cell_type": "code",
      "metadata": {
        "id": "HfKW4bxVPryc",
        "colab_type": "code",
        "colab": {
          "base_uri": "https://localhost:8080/",
          "height": 300
        },
        "outputId": "896dca4d-9085-419d-c270-ce6990c829ac"
      },
      "source": [
        "cnt.plot(kind='bar')"
      ],
      "execution_count": 132,
      "outputs": [
        {
          "output_type": "execute_result",
          "data": {
            "text/plain": [
              "<matplotlib.axes._subplots.AxesSubplot at 0x7fa2458e7ac8>"
            ]
          },
          "metadata": {
            "tags": []
          },
          "execution_count": 132
        },
        {
          "output_type": "display_data",
          "data": {
            "image/png": "[encoded data removed]",
            "text/plain": [
              "<Figure size 432x288 with 1 Axes>"
            ]
          },
          "metadata": {
            "tags": [],
            "needs_background": "light"
          }
        }
      ]
    },
    {
      "cell_type": "markdown",
      "metadata": {
        "id": "nvWbi-8WRTFe",
        "colab_type": "text"
      },
      "source": [
        "### Since categories in columns *'Types of Breach'* and *Location of Breached Information* are huge. So, I merged categories for ease"
      ]
    },
    {
      "cell_type": "markdown",
      "metadata": {
        "id": "dFirX7SURyGl",
        "colab_type": "text"
      },
      "source": [
        "##### *For column 'Types of Breach' :*"
      ]
    },
    {
      "cell_type": "code",
      "metadata": {
        "id": "7oKhD7mrREhZ",
        "colab_type": "code",
        "colab": {}
      },
      "source": [
        "df['Type of Breach'].replace(['Theft','Loss','Other','Loss, Theft','Unknown','Other, Theft','Other, Unknown','Loss, Other','Loss, Unknown','Loss, Other, Theft'],'Loss, Theft, Other, Unknown',inplace=True)\n",
        "df['Type of Breach'].replace(['Unauthorized Access/Disclosure','Theft, Unauthorized Access/Disclosure','Other, Unauthorized Access/Disclosure','Loss, Unauthorized Access/Disclosure','Other, Theft, Unauthorized Access/Disclosure','Improper Disposal, Unauthorized Access/Disclosure','Improper Disposal, Theft, Unauthorized Access/Disclosure','Loss, Unauthorized Access/Disclosure, Unknown'],'Unauthorized Access/Disclosure, Theft, Other, Loss,Improper Disposal',inplace=True)\n",
        "df['Type of Breach'].replace(['Hacking/IT Incident','Hacking/IT Incident, Unauthorized Access/Disclosure','Hacking/IT Incident, Theft, Unauthorized Access/Disclosure','Hacking/IT Incident, Other','Hacking/IT Incident, Other, Unauthorized Access/Disclosure','Hacking/IT Incident, Theft'],'Hacking/IT Incident, Unauthorized Access/Disclosure, Theft, Other',inplace=True)\n",
        "df['Type of Breach'].replace(['Improper Disposal','Improper Disposal, Loss','Improper Disposal, Loss, Theft','Improper Disposal, Theft'],\"Improper Disposal, Loss, Theft\",inplace=True)"
      ],
      "execution_count": 133,
      "outputs": []
    },
    {
      "cell_type": "markdown",
      "metadata": {
        "id": "J9XyqaQKTrCX",
        "colab_type": "text"
      },
      "source": [
        "##### *For column 'Location of Breached Information' :*"
      ]
    },
    {
      "cell_type": "code",
      "metadata": {
        "id": "0ulOKq36SocT",
        "colab_type": "code",
        "colab": {}
      },
      "source": [
        "df['Location of Breached Information'].replace(['Desktop Computer', 'Desktop Computer, Electronic Medical Record', 'Desktop Computer, Electronic Medical Record, Email, Laptop, Network Server', 'Desktop Computer, Electronic Medical Record, Email, Laptop, Network Server, Other Portable Electronic Device', 'Desktop Computer, Electronic Medical Record, Email, Laptop, Network Server, Other, Other Portable Electronic Device', 'Desktop Computer, Electronic Medical Record, Email, Laptop, Network Server, Other, Other Portable Electronic Device, Paper/Films', 'Desktop Computer, Electronic Medical Record, Email, Network Server', 'Desktop Computer, Electronic Medical Record, Email, Network Server, Paper/Films', 'Desktop Computer, Electronic Medical Record, Laptop', 'Desktop Computer, Electronic Medical Record, Network Server', 'Desktop Computer, Electronic Medical Record, Other', 'Desktop Computer, Email', 'Desktop Computer, Email, Laptop, Network Server', 'Desktop Computer, Email, Laptop, Network Server, Other Portable Electronic Device', 'Desktop Computer, Email, Laptop, Network Server, Other, Other Portable Electronic Device', 'Desktop Computer, Email, Network Server', 'Desktop Computer, Laptop', 'Desktop Computer, Laptop, Network Server', 'Desktop Computer, Laptop, Network Server, Other Portable Electronic Device', 'Desktop Computer, Laptop, Other Portable Electronic Device', 'Desktop Computer, Laptop, Other, Other Portable Electronic Device', 'Desktop Computer, Laptop, Paper/Films', 'Desktop Computer, Network Server', 'Desktop Computer, Network Server, Other, Other Portable Electronic Device', 'Desktop Computer, Network Server, Paper/Films', 'Desktop Computer, Other', 'Desktop Computer, Other Portable Electronic Device', 'Desktop Computer, Other Portable Electronic Device, Paper/Films', 'Desktop Computer, Other, Other Portable Electronic Device', 'Desktop Computer, Other, Other Portable Electronic Device, Paper/Films', 'Desktop Computer, Paper/Films'],'Desktop Computer, Electronic Medical Record, Email, Laptop, Network Server, Other, Other Portable Electronic Device, Paper/Films',inplace=True)\n",
        "df['Location of Breached Information'].replace(['Electronic Medical Record', 'Electronic Medical Record, Laptop', 'Electronic Medical Record, Laptop, Network Server, Other, Other Portable Electronic Device', 'Electronic Medical Record, Network Server', 'Electronic Medical Record, Other', 'Electronic Medical Record, Other, Other Portable Electronic Device', 'Electronic Medical Record, Paper/Films'],'Electronic Medical Record, Laptop, Network Server, Other, Other Electronic Portable Device, Paper/Films',inplace=True)\n",
        "df['Location of Breached Information'].replace(['Email', 'Email, Laptop', 'Email, Laptop, Network Server', 'Email, Laptop, Other Portable Electronic Device', 'Email, Laptop, Paper/Films', 'Email, Network Server', 'Email, Network Server, Other Portable Electronic Device', 'Email, Other', 'Email, Other Portable Electronic Device'],'Email, Laptop, Network Server, Other, Other Portable Electronic Device, Paper/Films',inplace=True)\n",
        "df['Location of Breached Information'].replace(['Laptop', 'Laptop, Network Server', 'Laptop, Other', 'Laptop, Other Portable Electronic Device', 'Laptop, Other Portable Electronic Device, Paper/Films', 'Laptop, Paper/Films'],'Laptop, Network Server, Other, Other Portable Electronic Device, Paper/Films',inplace=True)\n",
        "df['Location of Breached Information'].replace(['Network Server', 'Network Server, Other', 'Network Server, Paper/Films'],'Network Server, Other, Paper/Films',inplace=True)\n",
        "df['Location of Breached Information'].replace(['Other','Other, Other Portable Electronic Device', 'Other, Paper/Films'],'Other, Other Portable Electronic Device, Paper/Films',inplace=True)\n",
        "df['Location of Breached Information'].replace(['Other Portable Electronic Device', 'Other Portable Electronic Device, Paper/Films'],'Other Portable Electronic Device, Paper/Films',inplace=True)\n"
      ],
      "execution_count": 134,
      "outputs": []
    },
    {
      "cell_type": "markdown",
      "metadata": {
        "id": "a1zdQeMzUnbt",
        "colab_type": "text"
      },
      "source": [
        "### Renaming Label as they are too large"
      ]
    },
    {
      "cell_type": "markdown",
      "metadata": {
        "id": "tRRyWk0rY9Y0",
        "colab_type": "text"
      },
      "source": [
        "#### Abbrevations\n",
        "\n",
        "\n",
        "*   Desktop Computer ---> D\n",
        "* Electronic Medical Record ---> E\n",
        "* Email ---> e\n",
        "* Laptop ---> L\n",
        "* Network Server ---> N\n",
        "* Other ---> O\n",
        "* Other Portable Electronic Device ---> o\n",
        "* Paper/Films ---> P"
      ]
    },
    {
      "cell_type": "markdown",
      "metadata": {
        "id": "22wx1GErYnSN",
        "colab_type": "text"
      },
      "source": [
        "##### *For column 'Types of Breach' :*"
      ]
    },
    {
      "cell_type": "code",
      "metadata": {
        "id": "vvgrJcfdVlI-",
        "colab_type": "code",
        "colab": {}
      },
      "source": [
        "df.replace('Loss, Theft, Other, Unknown','LTOU',inplace=True)\n",
        "df.replace('Unauthorized Access/Disclosure, Theft, Other, Loss,Improper Disposal','UA/DTOLIU',inplace=True)\n",
        "df.replace('Hacking/IT Incident, Unauthorized Access/Disclosure, Theft, Other','HUA/DTO',inplace=True)\n",
        "df.replace('Improper Disposal, Loss, Theft','ILT',inplace=True)"
      ],
      "execution_count": 135,
      "outputs": []
    },
    {
      "cell_type": "markdown",
      "metadata": {
        "id": "Esh9ZXXiY0Ib",
        "colab_type": "text"
      },
      "source": [
        "##### *For column 'Location of Breached Information' :*"
      ]
    },
    {
      "cell_type": "code",
      "metadata": {
        "id": "oHHZmFFKV4XC",
        "colab_type": "code",
        "colab": {}
      },
      "source": [
        "df.replace('Desktop Computer, Electronic Medical Record, Email, Laptop, Network Server, Other, Other Portable Electronic Device, Paper/Films','DEeLNOoP',inplace=True)\n",
        "df.replace('Electronic Medical Record, Laptop, Network Server, Other, Other Electronic Portable Device, Paper/Films','ELNOoP',inplace=True)\n",
        "df.replace('Email, Laptop, Network Server, Other, Other Portable Electronic Device, Paper/Films','eLNOoP',inplace=True)\n",
        "df.replace('Laptop, Network Server, Other, Other Portable Electronic Device, Paper/Films','LNOoP',inplace=True)\n",
        "df.replace('Network Server, Other, Paper/Films','NOP',inplace=True)\n",
        "df.replace('Other, Other Portable Electronic Device, Paper/Films','OoP',inplace=True)\n",
        "df.replace('Other Portable Electronic Device, Paper/Films','oP',inplace=True)\n",
        "df.replace('Paper/Films','P',inplace=True)"
      ],
      "execution_count": 136,
      "outputs": []
    },
    {
      "cell_type": "code",
      "metadata": {
        "id": "qdBSn6NlSS_U",
        "colab_type": "code",
        "colab": {
          "base_uri": "https://localhost:8080/",
          "height": 102
        },
        "outputId": "032f0410-46c6-418c-8be3-593d1a0da5b3"
      },
      "source": [
        "df['Type of Breach'].value_counts()"
      ],
      "execution_count": 137,
      "outputs": [
        {
          "output_type": "execute_result",
          "data": {
            "text/plain": [
              "LTOU         952\n",
              "UA/DTOLIU    438\n",
              "HUA/DTO      235\n",
              "ILT           58\n",
              "Name: Type of Breach, dtype: int64"
            ]
          },
          "metadata": {
            "tags": []
          },
          "execution_count": 137
        }
      ]
    },
    {
      "cell_type": "code",
      "metadata": {
        "id": "v3TusZgoSbJN",
        "colab_type": "code",
        "colab": {
          "base_uri": "https://localhost:8080/",
          "height": 658
        },
        "outputId": "eb673ee1-8830-4ba4-f185-e9b196c2b174"
      },
      "source": [
        "plt.figure(figsize=(10,10))\n",
        "gph=sns.countplot(x=df[\"Type of Breach\"],data=df)\n",
        "plt.xticks(rotation=45)"
      ],
      "execution_count": 138,
      "outputs": [
        {
          "output_type": "execute_result",
          "data": {
            "text/plain": [
              "(array([0, 1, 2, 3]), <a list of 4 Text major ticklabel objects>)"
            ]
          },
          "metadata": {
            "tags": []
          },
          "execution_count": 138
        },
        {
          "output_type": "display_data",
          "data": {
            "image/png": "[encoded data removed]",
            "text/plain": [
              "<Figure size 720x720 with 1 Axes>"
            ]
          },
          "metadata": {
            "tags": [],
            "needs_background": "light"
          }
        }
      ]
    },
    {
      "cell_type": "code",
      "metadata": {
        "id": "JVaXcngSUc9w",
        "colab_type": "code",
        "colab": {
          "base_uri": "https://localhost:8080/",
          "height": 623
        },
        "outputId": "7991b00d-87b8-493e-97b1-1adc54ec080d"
      },
      "source": [
        "plt.figure(figsize=(10,10))\n",
        "sns.countplot(x='Location of Breached Information',data=df, order=df['Location of Breached Information'].value_counts().index)"
      ],
      "execution_count": 141,
      "outputs": [
        {
          "output_type": "execute_result",
          "data": {
            "text/plain": [
              "<matplotlib.axes._subplots.AxesSubplot at 0x7fa2457c4080>"
            ]
          },
          "metadata": {
            "tags": []
          },
          "execution_count": 141
        },
        {
          "output_type": "display_data",
          "data": {
            "image/png": "[encoded data removed]",
            "text/plain": [
              "<Figure size 720x720 with 1 Axes>"
            ]
          },
          "metadata": {
            "tags": [],
            "needs_background": "light"
          }
        }
      ]
    },
    {
      "cell_type": "markdown",
      "metadata": {
        "id": "XdfSZp2danMN",
        "colab_type": "text"
      },
      "source": [
        "### Filling Missing Values in columns : \n",
        "##### Filling the missing values with the mode of that column:"
      ]
    },
    {
      "cell_type": "code",
      "metadata": {
        "id": "iFws0IU7Y7u0",
        "colab_type": "code",
        "colab": {
          "base_uri": "https://localhost:8080/",
          "height": 238
        },
        "outputId": "1eee8da7-c5ef-496d-eeb1-02434235a72c"
      },
      "source": [
        "df.isnull().sum()"
      ],
      "execution_count": 33,
      "outputs": [
        {
          "output_type": "execute_result",
          "data": {
            "text/plain": [
              "Covered Entity Type                   42\n",
              "2009                                1679\n",
              "2010                                1500\n",
              "2011                                1501\n",
              "2012                                1490\n",
              "2013                                1424\n",
              "2014                                1404\n",
              "2015                                1428\n",
              "2016                                1458\n",
              "Type of Breach                        14\n",
              "Location of Breached Information      11\n",
              "Business Associate Present             0\n",
              "dtype: int64"
            ]
          },
          "metadata": {
            "tags": []
          },
          "execution_count": 33
        }
      ]
    },
    {
      "cell_type": "code",
      "metadata": {
        "id": "q3UXgk0wcFqa",
        "colab_type": "code",
        "colab": {}
      },
      "source": [
        "m1 = df['Covered Entity Type'].mode()[0]\n",
        "df['Covered Entity Type'].fillna(m1,inplace=True)"
      ],
      "execution_count": 34,
      "outputs": []
    },
    {
      "cell_type": "code",
      "metadata": {
        "id": "N2a1TW8mcP3k",
        "colab_type": "code",
        "colab": {}
      },
      "source": [
        "m2 = df['Type of Breach'].mode()[0]\n",
        "df['Type of Breach'].fillna(m2,inplace=True)"
      ],
      "execution_count": 35,
      "outputs": []
    },
    {
      "cell_type": "code",
      "metadata": {
        "id": "h6fRV7GrdDhi",
        "colab_type": "code",
        "colab": {}
      },
      "source": [
        "m3 = df['Location of Breached Information'].mode()[0]\n",
        "df['Location of Breached Information'].fillna(m3,inplace=True)"
      ],
      "execution_count": 36,
      "outputs": []
    },
    {
      "cell_type": "markdown",
      "metadata": {
        "id": "gFo4vsb5fSDI",
        "colab_type": "text"
      },
      "source": [
        "### One Hot Encoding\n",
        "#####Since the dataset is of Categorical Data we have to encode them wit some numerical labels. To achieve this we can use:\n",
        "#####   1. Dummy Variables\n",
        "#####   2. One Hot Encoding\n",
        "#####Here, we will follow One Hot Encoding"
      ]
    },
    {
      "cell_type": "code",
      "metadata": {
        "id": "jpGgGM2GdQRA",
        "colab_type": "code",
        "colab": {}
      },
      "source": [
        "from sklearn.preprocessing import LabelEncoder\n",
        "le = LabelEncoder()"
      ],
      "execution_count": 37,
      "outputs": []
    },
    {
      "cell_type": "code",
      "metadata": {
        "id": "g3b6vX58fnSx",
        "colab_type": "code",
        "colab": {
          "base_uri": "https://localhost:8080/",
          "height": 436
        },
        "outputId": "e965e419-583e-467b-8880-ed686f14b76c"
      },
      "source": [
        "dfle = df\n",
        "dfle['Covered Entity Type'] = le.fit_transform(dfle['Covered Entity Type'])\n",
        "dfle['Type of Breach'] = le.fit_transform(dfle['Type of Breach'])\n",
        "dfle['Location of Breached Information'] = le.fit_transform(dfle['Location of Breached Information'])\n",
        "dfle['Business Associate Present'] = le.fit_transform(dfle['Business Associate Present'])\n",
        "dfle"
      ],
      "execution_count": 38,
      "outputs": [
        {
          "output_type": "execute_result",
          "data": {
            "text/html": [
              "<div>\n",
              "<style scoped>\n",
              "    .dataframe tbody tr th:only-of-type {\n",
              "        vertical-align: middle;\n",
              "    }\n",
              "\n",
              "    .dataframe tbody tr th {\n",
              "        vertical-align: top;\n",
              "    }\n",
              "\n",
              "    .dataframe thead th {\n",
              "        text-align: right;\n",
              "    }\n",
              "</style>\n",
              "<table border=\"1\" class=\"dataframe\">\n",
              "  <thead>\n",
              "    <tr style=\"text-align: right;\">\n",
              "      <th></th>\n",
              "      <th>Covered Entity Type</th>\n",
              "      <th>2009</th>\n",
              "      <th>2010</th>\n",
              "      <th>2011</th>\n",
              "      <th>2012</th>\n",
              "      <th>2013</th>\n",
              "      <th>2014</th>\n",
              "      <th>2015</th>\n",
              "      <th>2016</th>\n",
              "      <th>Type of Breach</th>\n",
              "      <th>Location of Breached Information</th>\n",
              "      <th>Business Associate Present</th>\n",
              "    </tr>\n",
              "  </thead>\n",
              "  <tbody>\n",
              "    <tr>\n",
              "      <th>0</th>\n",
              "      <td>3</td>\n",
              "      <td>NaN</td>\n",
              "      <td>NaN</td>\n",
              "      <td>NaN</td>\n",
              "      <td>NaN</td>\n",
              "      <td>NaN</td>\n",
              "      <td>NaN</td>\n",
              "      <td>1.0</td>\n",
              "      <td>NaN</td>\n",
              "      <td>0</td>\n",
              "      <td>4</td>\n",
              "      <td>0</td>\n",
              "    </tr>\n",
              "    <tr>\n",
              "      <th>1</th>\n",
              "      <td>0</td>\n",
              "      <td>NaN</td>\n",
              "      <td>NaN</td>\n",
              "      <td>NaN</td>\n",
              "      <td>NaN</td>\n",
              "      <td>NaN</td>\n",
              "      <td>1.0</td>\n",
              "      <td>NaN</td>\n",
              "      <td>NaN</td>\n",
              "      <td>0</td>\n",
              "      <td>4</td>\n",
              "      <td>1</td>\n",
              "    </tr>\n",
              "    <tr>\n",
              "      <th>2</th>\n",
              "      <td>3</td>\n",
              "      <td>NaN</td>\n",
              "      <td>NaN</td>\n",
              "      <td>NaN</td>\n",
              "      <td>1.0</td>\n",
              "      <td>NaN</td>\n",
              "      <td>NaN</td>\n",
              "      <td>NaN</td>\n",
              "      <td>NaN</td>\n",
              "      <td>0</td>\n",
              "      <td>4</td>\n",
              "      <td>0</td>\n",
              "    </tr>\n",
              "    <tr>\n",
              "      <th>3</th>\n",
              "      <td>1</td>\n",
              "      <td>NaN</td>\n",
              "      <td>NaN</td>\n",
              "      <td>NaN</td>\n",
              "      <td>NaN</td>\n",
              "      <td>NaN</td>\n",
              "      <td>NaN</td>\n",
              "      <td>NaN</td>\n",
              "      <td>1.0</td>\n",
              "      <td>0</td>\n",
              "      <td>4</td>\n",
              "      <td>0</td>\n",
              "    </tr>\n",
              "    <tr>\n",
              "      <th>4</th>\n",
              "      <td>3</td>\n",
              "      <td>NaN</td>\n",
              "      <td>NaN</td>\n",
              "      <td>NaN</td>\n",
              "      <td>NaN</td>\n",
              "      <td>NaN</td>\n",
              "      <td>NaN</td>\n",
              "      <td>NaN</td>\n",
              "      <td>1.0</td>\n",
              "      <td>0</td>\n",
              "      <td>4</td>\n",
              "      <td>0</td>\n",
              "    </tr>\n",
              "    <tr>\n",
              "      <th>...</th>\n",
              "      <td>...</td>\n",
              "      <td>...</td>\n",
              "      <td>...</td>\n",
              "      <td>...</td>\n",
              "      <td>...</td>\n",
              "      <td>...</td>\n",
              "      <td>...</td>\n",
              "      <td>...</td>\n",
              "      <td>...</td>\n",
              "      <td>...</td>\n",
              "      <td>...</td>\n",
              "      <td>...</td>\n",
              "    </tr>\n",
              "    <tr>\n",
              "      <th>1695</th>\n",
              "      <td>3</td>\n",
              "      <td>NaN</td>\n",
              "      <td>NaN</td>\n",
              "      <td>NaN</td>\n",
              "      <td>NaN</td>\n",
              "      <td>1.0</td>\n",
              "      <td>NaN</td>\n",
              "      <td>NaN</td>\n",
              "      <td>NaN</td>\n",
              "      <td>2</td>\n",
              "      <td>5</td>\n",
              "      <td>0</td>\n",
              "    </tr>\n",
              "    <tr>\n",
              "      <th>1696</th>\n",
              "      <td>3</td>\n",
              "      <td>NaN</td>\n",
              "      <td>NaN</td>\n",
              "      <td>1.0</td>\n",
              "      <td>NaN</td>\n",
              "      <td>NaN</td>\n",
              "      <td>NaN</td>\n",
              "      <td>NaN</td>\n",
              "      <td>NaN</td>\n",
              "      <td>2</td>\n",
              "      <td>5</td>\n",
              "      <td>0</td>\n",
              "    </tr>\n",
              "    <tr>\n",
              "      <th>1697</th>\n",
              "      <td>3</td>\n",
              "      <td>NaN</td>\n",
              "      <td>NaN</td>\n",
              "      <td>NaN</td>\n",
              "      <td>NaN</td>\n",
              "      <td>NaN</td>\n",
              "      <td>NaN</td>\n",
              "      <td>NaN</td>\n",
              "      <td>NaN</td>\n",
              "      <td>2</td>\n",
              "      <td>5</td>\n",
              "      <td>0</td>\n",
              "    </tr>\n",
              "    <tr>\n",
              "      <th>1698</th>\n",
              "      <td>3</td>\n",
              "      <td>NaN</td>\n",
              "      <td>NaN</td>\n",
              "      <td>NaN</td>\n",
              "      <td>NaN</td>\n",
              "      <td>NaN</td>\n",
              "      <td>NaN</td>\n",
              "      <td>NaN</td>\n",
              "      <td>NaN</td>\n",
              "      <td>2</td>\n",
              "      <td>5</td>\n",
              "      <td>0</td>\n",
              "    </tr>\n",
              "    <tr>\n",
              "      <th>1699</th>\n",
              "      <td>3</td>\n",
              "      <td>NaN</td>\n",
              "      <td>NaN</td>\n",
              "      <td>NaN</td>\n",
              "      <td>NaN</td>\n",
              "      <td>NaN</td>\n",
              "      <td>NaN</td>\n",
              "      <td>NaN</td>\n",
              "      <td>NaN</td>\n",
              "      <td>2</td>\n",
              "      <td>5</td>\n",
              "      <td>0</td>\n",
              "    </tr>\n",
              "  </tbody>\n",
              "</table>\n",
              "<p>1697 rows × 12 columns</p>\n",
              "</div>"
            ],
            "text/plain": [
              "      Covered Entity Type  ...  Business Associate Present\n",
              "0                       3  ...                           0\n",
              "1                       0  ...                           1\n",
              "2                       3  ...                           0\n",
              "3                       1  ...                           0\n",
              "4                       3  ...                           0\n",
              "...                   ...  ...                         ...\n",
              "1695                    3  ...                           0\n",
              "1696                    3  ...                           0\n",
              "1697                    3  ...                           0\n",
              "1698                    3  ...                           0\n",
              "1699                    3  ...                           0\n",
              "\n",
              "[1697 rows x 12 columns]"
            ]
          },
          "metadata": {
            "tags": []
          },
          "execution_count": 38
        }
      ]
    },
    {
      "cell_type": "code",
      "metadata": {
        "id": "mo5RuxHuf9do",
        "colab_type": "code",
        "colab": {
          "base_uri": "https://localhost:8080/",
          "height": 419
        },
        "outputId": "f2e2b5b7-a4de-4d84-b505-5188449cd7ee"
      },
      "source": [
        "dfle.drop([2009,2010,2011,2012,2013,2014,2015,2016],axis=1)\n",
        "\n",
        "#Dropped these columns for ease of the model"
      ],
      "execution_count": 39,
      "outputs": [
        {
          "output_type": "execute_result",
          "data": {
            "text/html": [
              "<div>\n",
              "<style scoped>\n",
              "    .dataframe tbody tr th:only-of-type {\n",
              "        vertical-align: middle;\n",
              "    }\n",
              "\n",
              "    .dataframe tbody tr th {\n",
              "        vertical-align: top;\n",
              "    }\n",
              "\n",
              "    .dataframe thead th {\n",
              "        text-align: right;\n",
              "    }\n",
              "</style>\n",
              "<table border=\"1\" class=\"dataframe\">\n",
              "  <thead>\n",
              "    <tr style=\"text-align: right;\">\n",
              "      <th></th>\n",
              "      <th>Covered Entity Type</th>\n",
              "      <th>Type of Breach</th>\n",
              "      <th>Location of Breached Information</th>\n",
              "      <th>Business Associate Present</th>\n",
              "    </tr>\n",
              "  </thead>\n",
              "  <tbody>\n",
              "    <tr>\n",
              "      <th>0</th>\n",
              "      <td>3</td>\n",
              "      <td>0</td>\n",
              "      <td>4</td>\n",
              "      <td>0</td>\n",
              "    </tr>\n",
              "    <tr>\n",
              "      <th>1</th>\n",
              "      <td>0</td>\n",
              "      <td>0</td>\n",
              "      <td>4</td>\n",
              "      <td>1</td>\n",
              "    </tr>\n",
              "    <tr>\n",
              "      <th>2</th>\n",
              "      <td>3</td>\n",
              "      <td>0</td>\n",
              "      <td>4</td>\n",
              "      <td>0</td>\n",
              "    </tr>\n",
              "    <tr>\n",
              "      <th>3</th>\n",
              "      <td>1</td>\n",
              "      <td>0</td>\n",
              "      <td>4</td>\n",
              "      <td>0</td>\n",
              "    </tr>\n",
              "    <tr>\n",
              "      <th>4</th>\n",
              "      <td>3</td>\n",
              "      <td>0</td>\n",
              "      <td>4</td>\n",
              "      <td>0</td>\n",
              "    </tr>\n",
              "    <tr>\n",
              "      <th>...</th>\n",
              "      <td>...</td>\n",
              "      <td>...</td>\n",
              "      <td>...</td>\n",
              "      <td>...</td>\n",
              "    </tr>\n",
              "    <tr>\n",
              "      <th>1695</th>\n",
              "      <td>3</td>\n",
              "      <td>2</td>\n",
              "      <td>5</td>\n",
              "      <td>0</td>\n",
              "    </tr>\n",
              "    <tr>\n",
              "      <th>1696</th>\n",
              "      <td>3</td>\n",
              "      <td>2</td>\n",
              "      <td>5</td>\n",
              "      <td>0</td>\n",
              "    </tr>\n",
              "    <tr>\n",
              "      <th>1697</th>\n",
              "      <td>3</td>\n",
              "      <td>2</td>\n",
              "      <td>5</td>\n",
              "      <td>0</td>\n",
              "    </tr>\n",
              "    <tr>\n",
              "      <th>1698</th>\n",
              "      <td>3</td>\n",
              "      <td>2</td>\n",
              "      <td>5</td>\n",
              "      <td>0</td>\n",
              "    </tr>\n",
              "    <tr>\n",
              "      <th>1699</th>\n",
              "      <td>3</td>\n",
              "      <td>2</td>\n",
              "      <td>5</td>\n",
              "      <td>0</td>\n",
              "    </tr>\n",
              "  </tbody>\n",
              "</table>\n",
              "<p>1697 rows × 4 columns</p>\n",
              "</div>"
            ],
            "text/plain": [
              "      Covered Entity Type  ...  Business Associate Present\n",
              "0                       3  ...                           0\n",
              "1                       0  ...                           1\n",
              "2                       3  ...                           0\n",
              "3                       1  ...                           0\n",
              "4                       3  ...                           0\n",
              "...                   ...  ...                         ...\n",
              "1695                    3  ...                           0\n",
              "1696                    3  ...                           0\n",
              "1697                    3  ...                           0\n",
              "1698                    3  ...                           0\n",
              "1699                    3  ...                           0\n",
              "\n",
              "[1697 rows x 4 columns]"
            ]
          },
          "metadata": {
            "tags": []
          },
          "execution_count": 39
        }
      ]
    },
    {
      "cell_type": "code",
      "metadata": {
        "id": "IjNcCmv1hwyq",
        "colab_type": "code",
        "colab": {
          "base_uri": "https://localhost:8080/",
          "height": 136
        },
        "outputId": "58e9e342-fea8-43ef-c4e5-686c8ba9cf2c"
      },
      "source": [
        "X = dfle[['Covered Entity Type','Type of Breach','Location of Breached Information']].values\n",
        "X"
      ],
      "execution_count": 40,
      "outputs": [
        {
          "output_type": "execute_result",
          "data": {
            "text/plain": [
              "array([[3, 0, 4],\n",
              "       [0, 0, 4],\n",
              "       [3, 0, 4],\n",
              "       ...,\n",
              "       [3, 2, 5],\n",
              "       [3, 2, 5],\n",
              "       [3, 2, 5]])"
            ]
          },
          "metadata": {
            "tags": []
          },
          "execution_count": 40
        }
      ]
    },
    {
      "cell_type": "code",
      "metadata": {
        "id": "HudwSNTYildQ",
        "colab_type": "code",
        "colab": {
          "base_uri": "https://localhost:8080/",
          "height": 221
        },
        "outputId": "8e58a306-9c20-4740-be06-f9238a938c4a"
      },
      "source": [
        "y = dfle['Business Associate Present']\n",
        "y"
      ],
      "execution_count": 41,
      "outputs": [
        {
          "output_type": "execute_result",
          "data": {
            "text/plain": [
              "0       0\n",
              "1       1\n",
              "2       0\n",
              "3       0\n",
              "4       0\n",
              "       ..\n",
              "1695    0\n",
              "1696    0\n",
              "1697    0\n",
              "1698    0\n",
              "1699    0\n",
              "Name: Business Associate Present, Length: 1697, dtype: int64"
            ]
          },
          "metadata": {
            "tags": []
          },
          "execution_count": 41
        }
      ]
    },
    {
      "cell_type": "code",
      "metadata": {
        "id": "_Maj4CubixDP",
        "colab_type": "code",
        "colab": {}
      },
      "source": [
        "from sklearn.preprocessing import OneHotEncoder\n",
        "ohe = OneHotEncoder(categories='auto')"
      ],
      "execution_count": 42,
      "outputs": []
    },
    {
      "cell_type": "code",
      "metadata": {
        "id": "mYmJ9NHqlmTB",
        "colab_type": "code",
        "colab": {}
      },
      "source": [
        "pd.set_option('display.max_rows', 10)"
      ],
      "execution_count": 43,
      "outputs": []
    },
    {
      "cell_type": "code",
      "metadata": {
        "id": "XBtOrKi5jG_y",
        "colab_type": "code",
        "colab": {
          "base_uri": "https://localhost:8080/",
          "height": 136
        },
        "outputId": "d173041f-d256-4645-b3b3-36cff90f11ac"
      },
      "source": [
        "X=ohe.fit_transform(X).toarray()\n",
        "X"
      ],
      "execution_count": 44,
      "outputs": [
        {
          "output_type": "execute_result",
          "data": {
            "text/plain": [
              "array([[0., 0., 0., ..., 0., 0., 0.],\n",
              "       [1., 0., 0., ..., 0., 0., 0.],\n",
              "       [0., 0., 0., ..., 0., 0., 0.],\n",
              "       ...,\n",
              "       [0., 0., 0., ..., 1., 0., 0.],\n",
              "       [0., 0., 0., ..., 1., 0., 0.],\n",
              "       [0., 0., 0., ..., 1., 0., 0.]])"
            ]
          },
          "metadata": {
            "tags": []
          },
          "execution_count": 44
        }
      ]
    },
    {
      "cell_type": "code",
      "metadata": {
        "id": "uxhHw1vhl5-U",
        "colab_type": "code",
        "colab": {
          "base_uri": "https://localhost:8080/",
          "height": 34
        },
        "outputId": "e870f302-0698-44fc-bb92-01debd564255"
      },
      "source": [
        "X.shape"
      ],
      "execution_count": 45,
      "outputs": [
        {
          "output_type": "execute_result",
          "data": {
            "text/plain": [
              "(1697, 16)"
            ]
          },
          "metadata": {
            "tags": []
          },
          "execution_count": 45
        }
      ]
    },
    {
      "cell_type": "code",
      "metadata": {
        "id": "PS_ktwQan4zV",
        "colab_type": "code",
        "colab": {
          "base_uri": "https://localhost:8080/",
          "height": 136
        },
        "outputId": "2db4ae45-b39e-429c-cf3d-3c2fca5df7f2"
      },
      "source": [
        "x1 = X[:,1:4]\n",
        "x2 = X[:,5:8]\n",
        "x3 = X[:,9:]\n",
        "X = np.concatenate((x1,x2,x3),axis=1)\n",
        "X"
      ],
      "execution_count": 46,
      "outputs": [
        {
          "output_type": "execute_result",
          "data": {
            "text/plain": [
              "array([[0., 0., 1., ..., 0., 0., 0.],\n",
              "       [0., 0., 0., ..., 0., 0., 0.],\n",
              "       [0., 0., 1., ..., 0., 0., 0.],\n",
              "       ...,\n",
              "       [0., 0., 1., ..., 1., 0., 0.],\n",
              "       [0., 0., 1., ..., 1., 0., 0.],\n",
              "       [0., 0., 1., ..., 1., 0., 0.]])"
            ]
          },
          "metadata": {
            "tags": []
          },
          "execution_count": 46
        }
      ]
    },
    {
      "cell_type": "markdown",
      "metadata": {
        "id": "q-SWxZxE0hZE",
        "colab_type": "text"
      },
      "source": [
        "### Preparing the Machine Learning Model"
      ]
    },
    {
      "cell_type": "markdown",
      "metadata": {
        "id": "6-kOGkfx1ZmF",
        "colab_type": "text"
      },
      "source": [
        "##### 60% of the datset is used in training the model and the rest in used in testing the model."
      ]
    },
    {
      "cell_type": "code",
      "metadata": {
        "id": "x6_wa4pbte08",
        "colab_type": "code",
        "colab": {}
      },
      "source": [
        "X_train, X_test, y_train, y_test = train_test_split(X, y, test_size=0.4,random_state=10)"
      ],
      "execution_count": 269,
      "outputs": []
    },
    {
      "cell_type": "code",
      "metadata": {
        "id": "bEeunCRnE2Cl",
        "colab_type": "code",
        "colab": {
          "base_uri": "https://localhost:8080/",
          "height": 68
        },
        "outputId": "5755a82e-08de-4af1-98df-03490fd31c3d"
      },
      "source": [
        "y_test.value_counts()"
      ],
      "execution_count": 270,
      "outputs": [
        {
          "output_type": "execute_result",
          "data": {
            "text/plain": [
              "0    550\n",
              "1    129\n",
              "Name: Business Associate Present, dtype: int64"
            ]
          },
          "metadata": {
            "tags": []
          },
          "execution_count": 270
        }
      ]
    },
    {
      "cell_type": "code",
      "metadata": {
        "id": "gMt24Ycll1Jq",
        "colab_type": "code",
        "colab": {}
      },
      "source": [
        ""
      ],
      "execution_count": 270,
      "outputs": []
    },
    {
      "cell_type": "markdown",
      "metadata": {
        "id": "8i3fNPk00ktm",
        "colab_type": "text"
      },
      "source": [
        "##### Using Support Vector Machine"
      ]
    },
    {
      "cell_type": "code",
      "metadata": {
        "id": "_kIxhJ5PvPDV",
        "colab_type": "code",
        "colab": {
          "base_uri": "https://localhost:8080/",
          "height": 85
        },
        "outputId": "6adfec3a-ec7f-4471-dd18-751409d8b173"
      },
      "source": [
        "model = svm.SVC(kernel='rbf',C=1000)\n",
        "model.fit(X_train,y_train)"
      ],
      "execution_count": 271,
      "outputs": [
        {
          "output_type": "execute_result",
          "data": {
            "text/plain": [
              "SVC(C=1000, break_ties=False, cache_size=200, class_weight=None, coef0=0.0,\n",
              "    decision_function_shape='ovr', degree=3, gamma='scale', kernel='rbf',\n",
              "    max_iter=-1, probability=False, random_state=None, shrinking=True,\n",
              "    tol=0.001, verbose=False)"
            ]
          },
          "metadata": {
            "tags": []
          },
          "execution_count": 271
        }
      ]
    },
    {
      "cell_type": "code",
      "metadata": {
        "id": "XuyBoIBeUgT9",
        "colab_type": "code",
        "colab": {
          "base_uri": "https://localhost:8080/",
          "height": 34
        },
        "outputId": "fe87eca1-7276-40c0-9b9d-87fca239dd91"
      },
      "source": [
        "model.score(X_test, y_test)"
      ],
      "execution_count": 272,
      "outputs": [
        {
          "output_type": "execute_result",
          "data": {
            "text/plain": [
              "0.9734904270986745"
            ]
          },
          "metadata": {
            "tags": []
          },
          "execution_count": 272
        }
      ]
    },
    {
      "cell_type": "markdown",
      "metadata": {
        "id": "PiVJVw4I42GP",
        "colab_type": "text"
      },
      "source": [
        "##### Prediction matrix: It is the collection of predicted values from test dataset."
      ]
    },
    {
      "cell_type": "code",
      "metadata": {
        "id": "vUX_ul1fvtGK",
        "colab_type": "code",
        "colab": {
          "base_uri": "https://localhost:8080/",
          "height": 544
        },
        "outputId": "07c26105-7e11-4280-eab6-2ad7f0de3503"
      },
      "source": [
        "y_pred = model.predict(X_test)\n",
        "y_pred"
      ],
      "execution_count": 273,
      "outputs": [
        {
          "output_type": "execute_result",
          "data": {
            "text/plain": [
              "array([0, 0, 1, 0, 0, 0, 0, 0, 0, 0, 0, 0, 0, 0, 1, 0, 0, 0, 0, 0, 0, 1,\n",
              "       1, 0, 0, 0, 0, 0, 0, 0, 0, 0, 0, 0, 1, 0, 0, 0, 0, 0, 0, 1, 0, 0,\n",
              "       0, 0, 0, 0, 0, 0, 0, 0, 0, 1, 0, 0, 0, 1, 0, 0, 0, 1, 0, 0, 0, 0,\n",
              "       1, 1, 1, 1, 1, 0, 0, 1, 0, 0, 0, 0, 0, 0, 0, 0, 1, 0, 0, 1, 0, 1,\n",
              "       0, 0, 0, 1, 0, 0, 0, 0, 0, 0, 1, 0, 0, 0, 1, 1, 0, 0, 0, 0, 0, 0,\n",
              "       1, 0, 0, 0, 0, 0, 0, 0, 0, 0, 0, 0, 0, 1, 0, 0, 0, 0, 0, 0, 0, 1,\n",
              "       0, 0, 0, 0, 0, 1, 0, 0, 0, 1, 0, 0, 0, 0, 0, 0, 0, 0, 0, 0, 0, 0,\n",
              "       0, 1, 0, 0, 0, 0, 0, 0, 1, 0, 1, 0, 1, 0, 0, 0, 0, 0, 0, 0, 0, 0,\n",
              "       0, 0, 0, 1, 0, 0, 0, 0, 0, 0, 1, 0, 1, 0, 0, 1, 0, 0, 0, 0, 0, 0,\n",
              "       0, 0, 0, 0, 0, 0, 0, 1, 0, 0, 1, 1, 0, 0, 0, 0, 0, 1, 0, 0, 0, 0,\n",
              "       0, 0, 0, 0, 0, 0, 0, 0, 0, 0, 1, 0, 0, 1, 0, 1, 0, 1, 0, 0, 0, 0,\n",
              "       0, 0, 0, 0, 0, 0, 0, 0, 0, 0, 0, 0, 0, 0, 0, 0, 0, 0, 0, 0, 0, 1,\n",
              "       0, 0, 0, 0, 1, 0, 1, 0, 0, 0, 0, 0, 1, 0, 1, 0, 0, 0, 0, 0, 0, 1,\n",
              "       0, 0, 0, 0, 0, 0, 0, 0, 1, 0, 0, 0, 1, 0, 0, 0, 1, 0, 0, 0, 0, 0,\n",
              "       0, 0, 0, 0, 0, 0, 1, 0, 0, 0, 1, 0, 0, 0, 0, 1, 0, 0, 0, 0, 0, 0,\n",
              "       0, 0, 1, 1, 0, 0, 0, 0, 0, 1, 1, 1, 0, 0, 1, 1, 0, 0, 0, 1, 1, 0,\n",
              "       0, 0, 0, 0, 0, 1, 0, 0, 0, 0, 0, 1, 1, 1, 1, 0, 0, 0, 0, 0, 0, 0,\n",
              "       0, 1, 0, 0, 0, 0, 0, 0, 0, 0, 0, 0, 0, 0, 1, 1, 0, 0, 0, 0, 1, 0,\n",
              "       1, 1, 0, 0, 0, 0, 1, 0, 1, 0, 0, 1, 0, 0, 0, 0, 1, 1, 0, 0, 0, 0,\n",
              "       0, 1, 0, 0, 1, 0, 0, 1, 0, 0, 0, 0, 0, 1, 1, 0, 0, 0, 0, 0, 0, 0,\n",
              "       0, 0, 0, 0, 0, 0, 0, 0, 0, 0, 0, 0, 0, 0, 0, 0, 0, 0, 0, 0, 0, 0,\n",
              "       0, 1, 0, 0, 0, 0, 0, 0, 0, 0, 0, 0, 0, 1, 0, 0, 0, 1, 0, 0, 0, 1,\n",
              "       1, 0, 0, 0, 1, 0, 0, 0, 0, 0, 0, 0, 0, 0, 1, 1, 0, 0, 0, 0, 0, 0,\n",
              "       0, 1, 1, 0, 0, 0, 0, 0, 0, 0, 0, 0, 0, 0, 1, 0, 1, 0, 0, 0, 0, 0,\n",
              "       0, 0, 0, 0, 1, 0, 0, 0, 0, 0, 1, 0, 0, 0, 0, 0, 0, 0, 0, 0, 0, 0,\n",
              "       0, 0, 0, 1, 1, 0, 0, 1, 0, 0, 0, 0, 0, 0, 0, 0, 0, 1, 0, 0, 0, 0,\n",
              "       0, 0, 0, 1, 0, 0, 0, 0, 0, 1, 0, 0, 0, 1, 0, 1, 0, 0, 0, 0, 0, 0,\n",
              "       0, 0, 0, 1, 0, 0, 0, 0, 1, 0, 0, 0, 0, 0, 0, 0, 0, 0, 0, 0, 0, 0,\n",
              "       0, 1, 0, 0, 0, 0, 0, 0, 1, 0, 1, 0, 1, 0, 0, 0, 0, 0, 0, 0, 0, 0,\n",
              "       0, 0, 0, 0, 0, 0, 0, 0, 0, 1, 0, 0, 0, 0, 0, 0, 0, 0, 0, 0, 0, 0,\n",
              "       0, 1, 0, 0, 0, 0, 0, 0, 1, 0, 0, 0, 0, 1, 0, 1, 0, 1, 0])"
            ]
          },
          "metadata": {
            "tags": []
          },
          "execution_count": 273
        }
      ]
    },
    {
      "cell_type": "markdown",
      "metadata": {
        "id": "OWgY0c8v5X77",
        "colab_type": "text"
      },
      "source": [
        "#####Confusion Matrix: It is the performance matrix for the model.\n",
        "It has True Positive, False Positive, True Negative, False Negative"
      ]
    },
    {
      "cell_type": "code",
      "metadata": {
        "id": "UVMfWiekwcRC",
        "colab_type": "code",
        "colab": {
          "base_uri": "https://localhost:8080/",
          "height": 51
        },
        "outputId": "e89d77da-7cc3-4eee-858f-45fd91ec7eea"
      },
      "source": [
        "cm = confusion_matrix(y_test,y_pred)\n",
        "print(cm)"
      ],
      "execution_count": 274,
      "outputs": [
        {
          "output_type": "stream",
          "text": [
            "[[546   4]\n",
            " [ 14 115]]\n"
          ],
          "name": "stdout"
        }
      ]
    },
    {
      "cell_type": "code",
      "metadata": {
        "id": "l8yDDCyt6afH",
        "colab_type": "code",
        "colab": {
          "base_uri": "https://localhost:8080/",
          "height": 391
        },
        "outputId": "5b24d3e9-4e11-403a-f7cc-1104e48d3169"
      },
      "source": [
        "f, ax = plt.subplots(figsize=(9, 6))\n",
        "sns.heatmap(cm,annot=True, fmt=\"d\", linewidths=.5, ax=ax, cmap='Wistia')"
      ],
      "execution_count": 275,
      "outputs": [
        {
          "output_type": "execute_result",
          "data": {
            "text/plain": [
              "<matplotlib.axes._subplots.AxesSubplot at 0x7fa23c1a0358>"
            ]
          },
          "metadata": {
            "tags": []
          },
          "execution_count": 275
        },
        {
          "output_type": "display_data",
          "data": {
            "image/png": "[encoded data removed]",
            "text/plain": [
              "<Figure size 648x432 with 2 Axes>"
            ]
          },
          "metadata": {
            "tags": [],
            "needs_background": "light"
          }
        }
      ]
    },
    {
      "cell_type": "markdown",
      "metadata": {
        "id": "8NEQW0118zbZ",
        "colab_type": "text"
      },
      "source": [
        "##### Classification Report: It is the quality of the predictions of the model."
      ]
    },
    {
      "cell_type": "code",
      "metadata": {
        "id": "VQiT2_tvwn1o",
        "colab_type": "code",
        "colab": {
          "base_uri": "https://localhost:8080/",
          "height": 170
        },
        "outputId": "dccd84e2-c762-4077-c787-f71fa956b076"
      },
      "source": [
        "cr = classification_report(y_test,y_pred)\n",
        "print (cr)"
      ],
      "execution_count": 276,
      "outputs": [
        {
          "output_type": "stream",
          "text": [
            "              precision    recall  f1-score   support\n",
            "\n",
            "           0       0.97      0.99      0.98       550\n",
            "           1       0.97      0.89      0.93       129\n",
            "\n",
            "    accuracy                           0.97       679\n",
            "   macro avg       0.97      0.94      0.96       679\n",
            "weighted avg       0.97      0.97      0.97       679\n",
            "\n"
          ],
          "name": "stdout"
        }
      ]
    },
    {
      "cell_type": "markdown",
      "metadata": {
        "id": "ufm1fEDO9Owm",
        "colab_type": "text"
      },
      "source": [
        "###The model has an average accuracy of 98%.\n",
        "### I have used SVM model for the project.\n",
        "### Dataset split 60:40 for training and testing."
      ]
    },
    {
      "cell_type": "markdown",
      "metadata": {
        "id": "tRxfqGCsgiLS",
        "colab_type": "text"
      },
      "source": [
        "# Tried to use Naive Bayes algorithm."
      ]
    },
    {
      "cell_type": "code",
      "metadata": {
        "id": "6Aka0I14xuNC",
        "colab_type": "code",
        "colab": {}
      },
      "source": [
        "m = GaussianNB()"
      ],
      "execution_count": 227,
      "outputs": []
    },
    {
      "cell_type": "code",
      "metadata": {
        "id": "djhJBBFEATyZ",
        "colab_type": "code",
        "colab": {
          "base_uri": "https://localhost:8080/",
          "height": 34
        },
        "outputId": "e04469b9-e161-4a48-f507-f166f08fef38"
      },
      "source": [
        "m.fit(X_train,y_train)"
      ],
      "execution_count": 228,
      "outputs": [
        {
          "output_type": "execute_result",
          "data": {
            "text/plain": [
              "GaussianNB(priors=None, var_smoothing=1e-09)"
            ]
          },
          "metadata": {
            "tags": []
          },
          "execution_count": 228
        }
      ]
    },
    {
      "cell_type": "code",
      "metadata": {
        "id": "Bji66m_tAaXz",
        "colab_type": "code",
        "colab": {
          "base_uri": "https://localhost:8080/",
          "height": 34
        },
        "outputId": "9a27a288-466d-4fcc-8276-dbba35b1539a"
      },
      "source": [
        "m.score(X_test,y_test)"
      ],
      "execution_count": 152,
      "outputs": [
        {
          "output_type": "execute_result",
          "data": {
            "text/plain": [
              "0.43004418262150224"
            ]
          },
          "metadata": {
            "tags": []
          },
          "execution_count": 152
        }
      ]
    },
    {
      "cell_type": "code",
      "metadata": {
        "id": "uUoOIsIHAdGT",
        "colab_type": "code",
        "colab": {
          "base_uri": "https://localhost:8080/",
          "height": 544
        },
        "outputId": "4440eda5-3b66-45dd-af96-a06226f768aa"
      },
      "source": [
        "y_pre = m.predict(X_test)\n",
        "y_pre"
      ],
      "execution_count": 154,
      "outputs": [
        {
          "output_type": "execute_result",
          "data": {
            "text/plain": [
              "array([1, 0, 1, 0, 1, 1, 1, 1, 0, 1, 1, 1, 0, 1, 1, 1, 1, 0, 1, 0, 1, 1,\n",
              "       1, 1, 0, 1, 1, 0, 0, 1, 1, 1, 1, 1, 1, 0, 1, 1, 1, 0, 1, 1, 1, 1,\n",
              "       1, 1, 1, 0, 0, 1, 0, 0, 0, 1, 0, 0, 1, 1, 1, 1, 0, 1, 1, 0, 1, 1,\n",
              "       1, 1, 1, 1, 1, 1, 1, 1, 1, 1, 1, 1, 1, 1, 0, 0, 1, 1, 1, 1, 1, 1,\n",
              "       0, 0, 0, 1, 1, 1, 1, 0, 0, 1, 1, 1, 1, 1, 1, 1, 1, 1, 1, 0, 0, 1,\n",
              "       1, 1, 1, 1, 1, 1, 1, 1, 1, 1, 0, 1, 1, 1, 0, 1, 0, 1, 0, 1, 1, 1,\n",
              "       1, 1, 1, 1, 0, 1, 1, 0, 1, 1, 1, 1, 1, 1, 1, 0, 1, 1, 1, 0, 1, 1,\n",
              "       1, 1, 1, 1, 1, 1, 1, 1, 1, 1, 1, 0, 1, 1, 1, 1, 1, 1, 1, 1, 1, 1,\n",
              "       1, 1, 1, 1, 1, 0, 1, 1, 1, 1, 1, 1, 1, 1, 1, 1, 0, 1, 1, 1, 1, 0,\n",
              "       1, 0, 1, 1, 1, 0, 1, 0, 1, 0, 1, 1, 1, 1, 1, 1, 1, 1, 1, 1, 1, 1,\n",
              "       1, 1, 1, 1, 0, 1, 0, 0, 1, 0, 1, 1, 1, 1, 1, 1, 1, 1, 1, 1, 1, 0,\n",
              "       0, 1, 1, 1, 0, 1, 1, 0, 1, 1, 1, 1, 1, 1, 0, 0, 1, 0, 0, 0, 1, 1,\n",
              "       1, 1, 1, 1, 1, 1, 1, 0, 0, 1, 1, 0, 0, 1, 1, 1, 0, 1, 1, 1, 0, 1,\n",
              "       1, 1, 1, 1, 1, 1, 0, 1, 1, 1, 1, 0, 1, 0, 1, 0, 0, 1, 1, 1, 1, 0,\n",
              "       1, 1, 0, 0, 1, 0, 1, 1, 0, 1, 1, 1, 1, 1, 0, 1, 1, 0, 1, 1, 1, 1,\n",
              "       1, 0, 1, 1, 1, 0, 1, 1, 1, 1, 1, 1, 0, 1, 1, 1, 1, 1, 0, 1, 1, 1,\n",
              "       1, 1, 1, 0, 1, 1, 0, 0, 0, 0, 1, 1, 1, 1, 1, 1, 1, 1, 0, 0, 1, 1,\n",
              "       1, 1, 1, 0, 1, 0, 1, 1, 0, 1, 0, 1, 0, 1, 1, 1, 1, 0, 1, 0, 1, 0,\n",
              "       1, 1, 0, 1, 1, 1, 1, 1, 1, 0, 0, 1, 1, 1, 1, 1, 1, 1, 1, 1, 0, 1,\n",
              "       0, 1, 1, 1, 1, 0, 0, 1, 1, 1, 1, 0, 0, 1, 1, 0, 0, 1, 1, 1, 0, 1,\n",
              "       0, 1, 1, 1, 0, 0, 1, 1, 1, 1, 1, 0, 1, 0, 0, 1, 1, 0, 1, 0, 1, 0,\n",
              "       0, 1, 1, 1, 1, 0, 0, 1, 1, 0, 0, 0, 1, 1, 0, 0, 1, 1, 1, 1, 0, 1,\n",
              "       1, 1, 0, 1, 1, 1, 1, 1, 1, 1, 1, 0, 1, 1, 1, 1, 1, 1, 1, 1, 1, 1,\n",
              "       0, 1, 1, 1, 1, 0, 1, 1, 0, 0, 1, 1, 1, 0, 1, 1, 1, 1, 1, 1, 1, 1,\n",
              "       1, 0, 1, 1, 1, 1, 0, 1, 1, 1, 1, 1, 1, 0, 1, 1, 1, 1, 1, 1, 0, 1,\n",
              "       0, 0, 1, 1, 1, 0, 1, 1, 0, 1, 1, 1, 0, 1, 1, 1, 1, 1, 0, 1, 0, 1,\n",
              "       0, 1, 0, 0, 0, 1, 0, 0, 1, 1, 0, 1, 1, 1, 1, 1, 1, 0, 1, 1, 1, 0,\n",
              "       1, 1, 0, 1, 1, 1, 0, 0, 1, 0, 1, 0, 1, 1, 1, 0, 1, 0, 0, 1, 1, 0,\n",
              "       0, 1, 1, 1, 1, 1, 1, 1, 1, 0, 1, 0, 1, 1, 1, 1, 0, 0, 1, 0, 0, 1,\n",
              "       1, 1, 1, 1, 1, 1, 1, 1, 1, 1, 0, 1, 1, 0, 1, 1, 1, 1, 0, 1, 1, 1,\n",
              "       1, 1, 1, 0, 0, 1, 1, 1, 1, 1, 1, 1, 0, 1, 1, 1, 1, 1, 0])"
            ]
          },
          "metadata": {
            "tags": []
          },
          "execution_count": 154
        }
      ]
    },
    {
      "cell_type": "code",
      "metadata": {
        "id": "RkRnKHR8BkUW",
        "colab_type": "code",
        "colab": {
          "base_uri": "https://localhost:8080/",
          "height": 51
        },
        "outputId": "e1f6dc83-1fb0-4d47-b4c7-1d8395d681ac"
      },
      "source": [
        "c = confusion_matrix(y_test,y_pre)\n",
        "c"
      ],
      "execution_count": 158,
      "outputs": [
        {
          "output_type": "execute_result",
          "data": {
            "text/plain": [
              "array([[169, 381],\n",
              "       [  6, 123]])"
            ]
          },
          "metadata": {
            "tags": []
          },
          "execution_count": 158
        }
      ]
    },
    {
      "cell_type": "code",
      "metadata": {
        "id": "fiyhpWXjBuiU",
        "colab_type": "code",
        "colab": {
          "base_uri": "https://localhost:8080/",
          "height": 282
        },
        "outputId": "43879982-11c0-4050-a396-bb63c14060fc"
      },
      "source": [
        "sns.heatmap(c)"
      ],
      "execution_count": 165,
      "outputs": [
        {
          "output_type": "execute_result",
          "data": {
            "text/plain": [
              "<matplotlib.axes._subplots.AxesSubplot at 0x7fa23de7c908>"
            ]
          },
          "metadata": {
            "tags": []
          },
          "execution_count": 165
        },
        {
          "output_type": "display_data",
          "data": {
            "image/png": "[encoded data removed]",
            "text/plain": [
              "<Figure size 432x288 with 2 Axes>"
            ]
          },
          "metadata": {
            "tags": [],
            "needs_background": "light"
          }
        }
      ]
    },
    {
      "cell_type": "code",
      "metadata": {
        "id": "GnQ6mP7lB6yb",
        "colab_type": "code",
        "colab": {
          "base_uri": "https://localhost:8080/",
          "height": 170
        },
        "outputId": "82fcf55f-965a-4ce2-801e-6f989c15b16e"
      },
      "source": [
        "c2 = classification_report(y_test,y_pre)\n",
        "print(c2)"
      ],
      "execution_count": 168,
      "outputs": [
        {
          "output_type": "stream",
          "text": [
            "              precision    recall  f1-score   support\n",
            "\n",
            "           0       0.97      0.31      0.47       550\n",
            "           1       0.24      0.95      0.39       129\n",
            "\n",
            "    accuracy                           0.43       679\n",
            "   macro avg       0.60      0.63      0.43       679\n",
            "weighted avg       0.83      0.43      0.45       679\n",
            "\n"
          ],
          "name": "stdout"
        }
      ]
    },
    {
      "cell_type": "markdown",
      "metadata": {
        "id": "ivB8laUggvLp",
        "colab_type": "text"
      },
      "source": [
        "# Target balancing using SMOTE and predicting using SVM algorithm"
      ]
    },
    {
      "cell_type": "code",
      "metadata": {
        "id": "Y9-a3HgoCy-S",
        "colab_type": "code",
        "colab": {}
      },
      "source": [
        "sm=SMOTE(random_state=10,ratio=1.0)"
      ],
      "execution_count": 176,
      "outputs": []
    },
    {
      "cell_type": "code",
      "metadata": {
        "id": "YKjhPXjwHpYp",
        "colab_type": "code",
        "colab": {
          "base_uri": "https://localhost:8080/",
          "height": 71
        },
        "outputId": "302b8085-dd20-49aa-ba37-ed464752fec9"
      },
      "source": [
        "X_train_res, y_train_res = sm.fit_sample(X_train, y_train)"
      ],
      "execution_count": 229,
      "outputs": [
        {
          "output_type": "stream",
          "text": [
            "/usr/local/lib/python3.6/dist-packages/sklearn/utils/deprecation.py:87: FutureWarning: Function safe_indexing is deprecated; safe_indexing is deprecated in version 0.22 and will be removed in version 0.24.\n",
            "  warnings.warn(msg, category=FutureWarning)\n"
          ],
          "name": "stderr"
        }
      ]
    },
    {
      "cell_type": "code",
      "metadata": {
        "id": "K2yV1R3DIQNO",
        "colab_type": "code",
        "colab": {
          "base_uri": "https://localhost:8080/",
          "height": 85
        },
        "outputId": "a97698ab-673a-4820-b394-27ab2744f4a5"
      },
      "source": [
        "model.fit(X_train_res,y_train_res)"
      ],
      "execution_count": 192,
      "outputs": [
        {
          "output_type": "execute_result",
          "data": {
            "text/plain": [
              "SVC(C=1000, break_ties=False, cache_size=200, class_weight=None, coef0=0.0,\n",
              "    decision_function_shape='ovr', degree=3, gamma='scale', kernel='rbf',\n",
              "    max_iter=-1, probability=False, random_state=None, shrinking=True,\n",
              "    tol=0.001, verbose=False)"
            ]
          },
          "metadata": {
            "tags": []
          },
          "execution_count": 192
        }
      ]
    },
    {
      "cell_type": "code",
      "metadata": {
        "id": "g03LQ2pjJTV6",
        "colab_type": "code",
        "colab": {
          "base_uri": "https://localhost:8080/",
          "height": 34
        },
        "outputId": "3a7f15f3-dc1e-466e-c82c-a4160a90205c"
      },
      "source": [
        "y_train_res"
      ],
      "execution_count": 232,
      "outputs": [
        {
          "output_type": "execute_result",
          "data": {
            "text/plain": [
              "array([0, 0, 0, ..., 1, 1, 1])"
            ]
          },
          "metadata": {
            "tags": []
          },
          "execution_count": 232
        }
      ]
    },
    {
      "cell_type": "code",
      "metadata": {
        "id": "PFQBHTMuaXOL",
        "colab_type": "code",
        "colab": {
          "base_uri": "https://localhost:8080/",
          "height": 51
        },
        "outputId": "4ce48e52-cb7a-42e4-fee1-73ccd23a0d72"
      },
      "source": [
        "unique_elements, counts_elements = np.unique(y_train_res, return_counts=True)\n",
        "print(np.asarray((unique_elements, counts_elements)))"
      ],
      "execution_count": 234,
      "outputs": [
        {
          "output_type": "stream",
          "text": [
            "[[  0   1]\n",
            " [841 841]]\n"
          ],
          "name": "stdout"
        }
      ]
    },
    {
      "cell_type": "code",
      "metadata": {
        "id": "2bwwgJXyIh8f",
        "colab_type": "code",
        "colab": {
          "base_uri": "https://localhost:8080/",
          "height": 544
        },
        "outputId": "68276083-eb6e-4d20-ba06-91194f595ae7"
      },
      "source": [
        "y_pred2 = model.predict(X_test)\n",
        "y_pred2"
      ],
      "execution_count": 194,
      "outputs": [
        {
          "output_type": "execute_result",
          "data": {
            "text/plain": [
              "array([0, 0, 1, 0, 0, 0, 0, 0, 0, 0, 0, 0, 0, 0, 1, 0, 0, 0, 0, 0, 0, 1,\n",
              "       1, 0, 0, 0, 0, 0, 0, 0, 0, 0, 0, 0, 1, 0, 0, 0, 0, 0, 0, 1, 0, 0,\n",
              "       0, 0, 0, 0, 0, 0, 0, 0, 0, 1, 0, 0, 0, 1, 0, 0, 0, 1, 0, 0, 0, 0,\n",
              "       1, 1, 1, 1, 1, 0, 0, 1, 0, 0, 0, 0, 0, 0, 0, 0, 1, 0, 0, 1, 0, 1,\n",
              "       0, 0, 0, 1, 0, 0, 0, 0, 0, 0, 1, 0, 0, 0, 1, 1, 0, 0, 0, 0, 0, 0,\n",
              "       1, 0, 0, 0, 0, 0, 0, 0, 0, 0, 0, 0, 0, 1, 0, 0, 0, 0, 0, 0, 0, 1,\n",
              "       0, 0, 0, 0, 0, 1, 0, 0, 0, 1, 0, 0, 0, 0, 0, 0, 0, 0, 0, 0, 0, 0,\n",
              "       0, 1, 0, 0, 0, 0, 0, 0, 1, 0, 1, 0, 1, 0, 0, 0, 0, 0, 0, 0, 0, 0,\n",
              "       0, 0, 0, 1, 0, 0, 0, 0, 0, 0, 1, 0, 1, 0, 0, 1, 0, 0, 0, 0, 0, 0,\n",
              "       0, 0, 0, 0, 0, 0, 0, 1, 0, 0, 1, 1, 0, 0, 0, 0, 0, 1, 0, 0, 0, 0,\n",
              "       0, 0, 0, 0, 0, 0, 0, 0, 0, 0, 1, 0, 0, 1, 0, 1, 0, 1, 0, 0, 0, 0,\n",
              "       0, 0, 0, 0, 0, 0, 0, 0, 0, 0, 0, 0, 0, 0, 0, 0, 0, 0, 0, 0, 0, 1,\n",
              "       0, 0, 0, 0, 1, 0, 1, 0, 0, 0, 0, 0, 1, 0, 1, 0, 0, 0, 0, 0, 0, 1,\n",
              "       0, 0, 0, 0, 0, 0, 0, 0, 1, 0, 0, 0, 1, 0, 0, 0, 1, 0, 0, 0, 0, 0,\n",
              "       0, 0, 0, 0, 0, 0, 1, 0, 0, 0, 1, 0, 0, 0, 0, 1, 0, 0, 0, 0, 0, 0,\n",
              "       0, 0, 1, 1, 0, 0, 0, 0, 0, 1, 1, 1, 0, 0, 1, 1, 0, 0, 0, 1, 1, 0,\n",
              "       0, 0, 0, 0, 0, 1, 0, 0, 0, 0, 0, 1, 1, 1, 1, 0, 0, 0, 0, 0, 0, 0,\n",
              "       0, 1, 0, 0, 0, 0, 0, 0, 0, 0, 0, 0, 0, 0, 1, 1, 0, 0, 0, 0, 1, 0,\n",
              "       1, 1, 0, 0, 0, 0, 1, 0, 1, 0, 0, 1, 0, 0, 0, 0, 1, 1, 0, 0, 0, 0,\n",
              "       0, 1, 0, 0, 1, 0, 0, 1, 0, 0, 0, 0, 0, 1, 1, 0, 0, 0, 0, 0, 0, 0,\n",
              "       0, 0, 0, 0, 0, 0, 0, 0, 0, 0, 0, 0, 0, 0, 0, 0, 0, 0, 0, 0, 0, 0,\n",
              "       0, 1, 0, 0, 0, 0, 0, 0, 0, 0, 0, 0, 0, 1, 0, 0, 0, 1, 0, 0, 0, 1,\n",
              "       1, 0, 0, 0, 1, 0, 0, 0, 0, 0, 0, 0, 0, 0, 1, 1, 0, 0, 0, 0, 0, 0,\n",
              "       0, 1, 1, 0, 0, 0, 0, 0, 0, 0, 0, 0, 0, 0, 1, 0, 1, 0, 0, 0, 0, 0,\n",
              "       0, 0, 0, 0, 1, 0, 0, 0, 0, 0, 1, 0, 0, 0, 0, 0, 0, 0, 0, 0, 0, 0,\n",
              "       0, 0, 0, 1, 1, 0, 0, 1, 0, 0, 0, 0, 0, 0, 0, 0, 0, 1, 0, 0, 0, 0,\n",
              "       0, 0, 0, 1, 0, 0, 0, 0, 0, 1, 0, 0, 0, 1, 0, 1, 0, 0, 0, 0, 0, 0,\n",
              "       0, 0, 0, 1, 0, 0, 0, 0, 1, 0, 0, 0, 0, 0, 0, 0, 0, 0, 0, 0, 0, 0,\n",
              "       0, 1, 0, 0, 0, 0, 0, 0, 1, 0, 1, 0, 1, 0, 0, 0, 0, 0, 0, 0, 0, 0,\n",
              "       0, 0, 0, 0, 0, 0, 0, 0, 0, 1, 0, 0, 0, 0, 0, 0, 0, 0, 0, 0, 0, 0,\n",
              "       0, 1, 0, 0, 0, 0, 0, 0, 1, 0, 0, 0, 0, 1, 0, 1, 0, 1, 0])"
            ]
          },
          "metadata": {
            "tags": []
          },
          "execution_count": 194
        }
      ]
    },
    {
      "cell_type": "code",
      "metadata": {
        "id": "Tlnv3pOoI1l8",
        "colab_type": "code",
        "colab": {
          "base_uri": "https://localhost:8080/",
          "height": 51
        },
        "outputId": "ae98a286-d9b1-4182-ac0e-d3137e10b2bc"
      },
      "source": [
        "cm2=confusion_matrix(y_test,y_pred2)\n",
        "cm2"
      ],
      "execution_count": 195,
      "outputs": [
        {
          "output_type": "execute_result",
          "data": {
            "text/plain": [
              "array([[546,   4],\n",
              "       [ 14, 115]])"
            ]
          },
          "metadata": {
            "tags": []
          },
          "execution_count": 195
        }
      ]
    },
    {
      "cell_type": "code",
      "metadata": {
        "id": "XIB10yMKJMpx",
        "colab_type": "code",
        "colab": {
          "base_uri": "https://localhost:8080/",
          "height": 170
        },
        "outputId": "a24cd832-f2c9-4d4c-d384-0346c1d510bb"
      },
      "source": [
        "cr2=classification_report(y_test,y_pred2)\n",
        "print(cr2)"
      ],
      "execution_count": 200,
      "outputs": [
        {
          "output_type": "stream",
          "text": [
            "              precision    recall  f1-score   support\n",
            "\n",
            "           0       0.97      0.99      0.98       550\n",
            "           1       0.97      0.89      0.93       129\n",
            "\n",
            "    accuracy                           0.97       679\n",
            "   macro avg       0.97      0.94      0.96       679\n",
            "weighted avg       0.97      0.97      0.97       679\n",
            "\n"
          ],
          "name": "stdout"
        }
      ]
    },
    {
      "cell_type": "markdown",
      "metadata": {
        "id": "6mVIRcm1hXWb",
        "colab_type": "text"
      },
      "source": [
        "# HyperParameter Tunning using\n",
        "1. GridSearchCV\n",
        "2. RandomizedSearchCV"
      ]
    },
    {
      "cell_type": "code",
      "metadata": {
        "id": "u_OICyfQKafn",
        "colab_type": "code",
        "colab": {
          "base_uri": "https://localhost:8080/",
          "height": 646
        },
        "outputId": "6cfd528c-8ae6-4045-84b6-3b2ac598829a"
      },
      "source": [
        "clf = GridSearchCV(svm.SVC(gamma='auto'),{\n",
        "    'C':[1, 10, 1000],\n",
        "    'kernel' : ['rbf','linear']\n",
        "}, cv=5, return_train_score=False)\n",
        "clf.fit(X,y)\n",
        "clf.cv_results_"
      ],
      "execution_count": 238,
      "outputs": [
        {
          "output_type": "execute_result",
          "data": {
            "text/plain": [
              "{'mean_fit_time': array([0.01990938, 0.00332494, 0.01800551, 0.0037045 , 0.01798763,\n",
              "        0.00414686]),\n",
              " 'mean_score_time': array([0.00274997, 0.00084352, 0.00240436, 0.0008966 , 0.00228739,\n",
              "        0.00097342]),\n",
              " 'mean_test_score': array([0.9770085 , 0.97936665, 0.97936665, 0.97936665, 0.97936665,\n",
              "        0.97936665]),\n",
              " 'param_C': masked_array(data=[1, 1, 10, 10, 1000, 1000],\n",
              "              mask=[False, False, False, False, False, False],\n",
              "        fill_value='?',\n",
              "             dtype=object),\n",
              " 'param_kernel': masked_array(data=['rbf', 'linear', 'rbf', 'linear', 'rbf', 'linear'],\n",
              "              mask=[False, False, False, False, False, False],\n",
              "        fill_value='?',\n",
              "             dtype=object),\n",
              " 'params': [{'C': 1, 'kernel': 'rbf'},\n",
              "  {'C': 1, 'kernel': 'linear'},\n",
              "  {'C': 10, 'kernel': 'rbf'},\n",
              "  {'C': 10, 'kernel': 'linear'},\n",
              "  {'C': 1000, 'kernel': 'rbf'},\n",
              "  {'C': 1000, 'kernel': 'linear'}],\n",
              " 'rank_test_score': array([6, 1, 1, 1, 1, 1], dtype=int32),\n",
              " 'split0_test_score': array([0.97352941, 0.97647059, 0.97647059, 0.97647059, 0.97647059,\n",
              "        0.97647059]),\n",
              " 'split1_test_score': array([0.99705882, 0.99705882, 0.99705882, 0.99705882, 0.99705882,\n",
              "        0.99705882]),\n",
              " 'split2_test_score': array([0.99115044, 0.99115044, 0.99115044, 0.99115044, 0.99115044,\n",
              "        0.99115044]),\n",
              " 'split3_test_score': array([0.97345133, 0.97935103, 0.97935103, 0.97935103, 0.97935103,\n",
              "        0.97935103]),\n",
              " 'split4_test_score': array([0.94985251, 0.95280236, 0.95280236, 0.95280236, 0.95280236,\n",
              "        0.95280236]),\n",
              " 'std_fit_time': array([0.00258483, 0.00038557, 0.00214708, 0.00044853, 0.00207471,\n",
              "        0.00053809]),\n",
              " 'std_score_time': array([2.81820257e-04, 8.20444025e-05, 3.77595739e-04, 9.75536575e-05,\n",
              "        2.09079745e-04, 7.61570895e-05]),\n",
              " 'std_test_score': array([0.01651796, 0.01527036, 0.01527036, 0.01527036, 0.01527036,\n",
              "        0.01527036])}"
            ]
          },
          "metadata": {
            "tags": []
          },
          "execution_count": 238
        }
      ]
    },
    {
      "cell_type": "code",
      "metadata": {
        "id": "6WrG3HF3NmWc",
        "colab_type": "code",
        "colab": {
          "base_uri": "https://localhost:8080/",
          "height": 235
        },
        "outputId": "bb029c4e-86e7-4c38-ef04-d824f7dbb969"
      },
      "source": [
        "d = pd.DataFrame(clf.cv_results_)\n",
        "d[['param_C','param_kernel','mean_test_score','rank_test_score']]"
      ],
      "execution_count": 240,
      "outputs": [
        {
          "output_type": "execute_result",
          "data": {
            "text/html": [
              "<div>\n",
              "<style scoped>\n",
              "    .dataframe tbody tr th:only-of-type {\n",
              "        vertical-align: middle;\n",
              "    }\n",
              "\n",
              "    .dataframe tbody tr th {\n",
              "        vertical-align: top;\n",
              "    }\n",
              "\n",
              "    .dataframe thead th {\n",
              "        text-align: right;\n",
              "    }\n",
              "</style>\n",
              "<table border=\"1\" class=\"dataframe\">\n",
              "  <thead>\n",
              "    <tr style=\"text-align: right;\">\n",
              "      <th></th>\n",
              "      <th>param_C</th>\n",
              "      <th>param_kernel</th>\n",
              "      <th>mean_test_score</th>\n",
              "      <th>rank_test_score</th>\n",
              "    </tr>\n",
              "  </thead>\n",
              "  <tbody>\n",
              "    <tr>\n",
              "      <th>0</th>\n",
              "      <td>1</td>\n",
              "      <td>rbf</td>\n",
              "      <td>0.977009</td>\n",
              "      <td>6</td>\n",
              "    </tr>\n",
              "    <tr>\n",
              "      <th>1</th>\n",
              "      <td>1</td>\n",
              "      <td>linear</td>\n",
              "      <td>0.979367</td>\n",
              "      <td>1</td>\n",
              "    </tr>\n",
              "    <tr>\n",
              "      <th>2</th>\n",
              "      <td>10</td>\n",
              "      <td>rbf</td>\n",
              "      <td>0.979367</td>\n",
              "      <td>1</td>\n",
              "    </tr>\n",
              "    <tr>\n",
              "      <th>3</th>\n",
              "      <td>10</td>\n",
              "      <td>linear</td>\n",
              "      <td>0.979367</td>\n",
              "      <td>1</td>\n",
              "    </tr>\n",
              "    <tr>\n",
              "      <th>4</th>\n",
              "      <td>1000</td>\n",
              "      <td>rbf</td>\n",
              "      <td>0.979367</td>\n",
              "      <td>1</td>\n",
              "    </tr>\n",
              "    <tr>\n",
              "      <th>5</th>\n",
              "      <td>1000</td>\n",
              "      <td>linear</td>\n",
              "      <td>0.979367</td>\n",
              "      <td>1</td>\n",
              "    </tr>\n",
              "  </tbody>\n",
              "</table>\n",
              "</div>"
            ],
            "text/plain": [
              "  param_C param_kernel  mean_test_score  rank_test_score\n",
              "0       1          rbf         0.977009                6\n",
              "1       1       linear         0.979367                1\n",
              "2      10          rbf         0.979367                1\n",
              "3      10       linear         0.979367                1\n",
              "4    1000          rbf         0.979367                1\n",
              "5    1000       linear         0.979367                1"
            ]
          },
          "metadata": {
            "tags": []
          },
          "execution_count": 240
        }
      ]
    },
    {
      "cell_type": "code",
      "metadata": {
        "id": "z4C1zA09OjIU",
        "colab_type": "code",
        "colab": {
          "base_uri": "https://localhost:8080/",
          "height": 34
        },
        "outputId": "48029cd5-1a0a-4c61-ef63-fc8f38f780f1"
      },
      "source": [
        "clf.best_score_"
      ],
      "execution_count": 215,
      "outputs": [
        {
          "output_type": "execute_result",
          "data": {
            "text/plain": [
              "0.9793666493145932"
            ]
          },
          "metadata": {
            "tags": []
          },
          "execution_count": 215
        }
      ]
    },
    {
      "cell_type": "code",
      "metadata": {
        "id": "0A0hHVtEPO0n",
        "colab_type": "code",
        "colab": {
          "base_uri": "https://localhost:8080/",
          "height": 34
        },
        "outputId": "13be047a-030f-4800-ff8c-d5c024976d85"
      },
      "source": [
        "clf.best_params_"
      ],
      "execution_count": 216,
      "outputs": [
        {
          "output_type": "execute_result",
          "data": {
            "text/plain": [
              "{'C': 1, 'kernel': 'linear'}"
            ]
          },
          "metadata": {
            "tags": []
          },
          "execution_count": 216
        }
      ]
    },
    {
      "cell_type": "code",
      "metadata": {
        "id": "Acs40RLeiSr3",
        "colab_type": "code",
        "colab": {
          "base_uri": "https://localhost:8080/",
          "height": 85
        },
        "outputId": "7d7cecb3-3c16-44c1-c99f-20f025d5b2b4"
      },
      "source": [
        "m1 = svm.SVC(kernel='linear',C=1)\n",
        "m1.fit(X_train_res,y_train_res)"
      ],
      "execution_count": 243,
      "outputs": [
        {
          "output_type": "execute_result",
          "data": {
            "text/plain": [
              "SVC(C=1, break_ties=False, cache_size=200, class_weight=None, coef0=0.0,\n",
              "    decision_function_shape='ovr', degree=3, gamma='scale', kernel='linear',\n",
              "    max_iter=-1, probability=False, random_state=None, shrinking=True,\n",
              "    tol=0.001, verbose=False)"
            ]
          },
          "metadata": {
            "tags": []
          },
          "execution_count": 243
        }
      ]
    },
    {
      "cell_type": "code",
      "metadata": {
        "id": "8_SwMBtSijLQ",
        "colab_type": "code",
        "colab": {}
      },
      "source": [
        "y_pred3=m1.predict(X_test)"
      ],
      "execution_count": 244,
      "outputs": []
    },
    {
      "cell_type": "code",
      "metadata": {
        "id": "kT4wLNPwikO-",
        "colab_type": "code",
        "colab": {}
      },
      "source": [
        "cm3 = confusion_matrix(y_test,y_pred3)"
      ],
      "execution_count": 245,
      "outputs": []
    },
    {
      "cell_type": "code",
      "metadata": {
        "id": "uGOQzLIVikiq",
        "colab_type": "code",
        "colab": {
          "base_uri": "https://localhost:8080/",
          "height": 51
        },
        "outputId": "b406f97a-375f-48c8-e2a3-b880546b8221"
      },
      "source": [
        "cm3"
      ],
      "execution_count": 255,
      "outputs": [
        {
          "output_type": "execute_result",
          "data": {
            "text/plain": [
              "array([[546,   4],\n",
              "       [ 14, 115]])"
            ]
          },
          "metadata": {
            "tags": []
          },
          "execution_count": 255
        }
      ]
    },
    {
      "cell_type": "code",
      "metadata": {
        "id": "UpddXiiOlBze",
        "colab_type": "code",
        "colab": {
          "base_uri": "https://localhost:8080/",
          "height": 170
        },
        "outputId": "b8ca6752-0cc4-4175-e6b1-5977279d334f"
      },
      "source": [
        "cr3=classification_report(y_test,y_pred3)\n",
        "print(cr3)"
      ],
      "execution_count": 257,
      "outputs": [
        {
          "output_type": "stream",
          "text": [
            "              precision    recall  f1-score   support\n",
            "\n",
            "           0       0.97      0.99      0.98       550\n",
            "           1       0.97      0.89      0.93       129\n",
            "\n",
            "    accuracy                           0.97       679\n",
            "   macro avg       0.97      0.94      0.96       679\n",
            "weighted avg       0.97      0.97      0.97       679\n",
            "\n"
          ],
          "name": "stdout"
        }
      ]
    },
    {
      "cell_type": "code",
      "metadata": {
        "id": "-U19XKYElCDy",
        "colab_type": "code",
        "colab": {}
      },
      "source": [
        ""
      ],
      "execution_count": null,
      "outputs": []
    },
    {
      "cell_type": "code",
      "metadata": {
        "id": "hwYOUgzKlCSN",
        "colab_type": "code",
        "colab": {}
      },
      "source": [
        ""
      ],
      "execution_count": null,
      "outputs": []
    },
    {
      "cell_type": "code",
      "metadata": {
        "id": "mlBEDaUrPQcZ",
        "colab_type": "code",
        "colab": {
          "base_uri": "https://localhost:8080/",
          "height": 173
        },
        "outputId": "545b1f1b-9b28-431a-d3da-e3f91f7cbe89"
      },
      "source": [
        "rs = RandomizedSearchCV(svm.SVC(gamma='auto'),{\n",
        "    'C':[1, 10, 1000,20,45,864,645],\n",
        "    'kernel' : ['rbf','linear']\n",
        "}, cv=5, return_train_score=False, n_iter=4)\n",
        "rs.fit(X,y)\n",
        "rs.cv_results_\n",
        "d2 = pd.DataFrame(rs.cv_results_)\n",
        "d2[['param_C','param_kernel','mean_test_score','rank_test_score']]"
      ],
      "execution_count": 241,
      "outputs": [
        {
          "output_type": "execute_result",
          "data": {
            "text/html": [
              "<div>\n",
              "<style scoped>\n",
              "    .dataframe tbody tr th:only-of-type {\n",
              "        vertical-align: middle;\n",
              "    }\n",
              "\n",
              "    .dataframe tbody tr th {\n",
              "        vertical-align: top;\n",
              "    }\n",
              "\n",
              "    .dataframe thead th {\n",
              "        text-align: right;\n",
              "    }\n",
              "</style>\n",
              "<table border=\"1\" class=\"dataframe\">\n",
              "  <thead>\n",
              "    <tr style=\"text-align: right;\">\n",
              "      <th></th>\n",
              "      <th>param_C</th>\n",
              "      <th>param_kernel</th>\n",
              "      <th>mean_test_score</th>\n",
              "      <th>rank_test_score</th>\n",
              "    </tr>\n",
              "  </thead>\n",
              "  <tbody>\n",
              "    <tr>\n",
              "      <th>0</th>\n",
              "      <td>1</td>\n",
              "      <td>rbf</td>\n",
              "      <td>0.977009</td>\n",
              "      <td>4</td>\n",
              "    </tr>\n",
              "    <tr>\n",
              "      <th>1</th>\n",
              "      <td>10</td>\n",
              "      <td>rbf</td>\n",
              "      <td>0.979367</td>\n",
              "      <td>1</td>\n",
              "    </tr>\n",
              "    <tr>\n",
              "      <th>2</th>\n",
              "      <td>20</td>\n",
              "      <td>rbf</td>\n",
              "      <td>0.979367</td>\n",
              "      <td>1</td>\n",
              "    </tr>\n",
              "    <tr>\n",
              "      <th>3</th>\n",
              "      <td>645</td>\n",
              "      <td>rbf</td>\n",
              "      <td>0.979367</td>\n",
              "      <td>1</td>\n",
              "    </tr>\n",
              "  </tbody>\n",
              "</table>\n",
              "</div>"
            ],
            "text/plain": [
              "  param_C param_kernel  mean_test_score  rank_test_score\n",
              "0       1          rbf         0.977009                4\n",
              "1      10          rbf         0.979367                1\n",
              "2      20          rbf         0.979367                1\n",
              "3     645          rbf         0.979367                1"
            ]
          },
          "metadata": {
            "tags": []
          },
          "execution_count": 241
        }
      ]
    },
    {
      "cell_type": "code",
      "metadata": {
        "id": "Oor14MxoP7n_",
        "colab_type": "code",
        "colab": {
          "base_uri": "https://localhost:8080/",
          "height": 34
        },
        "outputId": "f8f4b049-f9d7-4362-fabc-8f2f9f34b563"
      },
      "source": [
        "rs.best_score_"
      ],
      "execution_count": 236,
      "outputs": [
        {
          "output_type": "execute_result",
          "data": {
            "text/plain": [
              "0.9793666493145932"
            ]
          },
          "metadata": {
            "tags": []
          },
          "execution_count": 236
        }
      ]
    },
    {
      "cell_type": "code",
      "metadata": {
        "id": "bajR5Mx5QWHR",
        "colab_type": "code",
        "colab": {
          "base_uri": "https://localhost:8080/",
          "height": 34
        },
        "outputId": "526a7135-e3f0-4d4d-e99c-e77555b8dd60"
      },
      "source": [
        "rs.best_params_"
      ],
      "execution_count": 237,
      "outputs": [
        {
          "output_type": "execute_result",
          "data": {
            "text/plain": [
              "{'C': 864, 'kernel': 'rbf'}"
            ]
          },
          "metadata": {
            "tags": []
          },
          "execution_count": 237
        }
      ]
    },
    {
      "cell_type": "code",
      "metadata": {
        "id": "1X3Eq-f_QYIo",
        "colab_type": "code",
        "colab": {
          "base_uri": "https://localhost:8080/",
          "height": 85
        },
        "outputId": "1c7cf324-6b9b-4550-a572-9cfb994cc582"
      },
      "source": [
        "m2 = svm.SVC(kernel='rbf',C=864)\n",
        "m2.fit(X_train_res,y_train_res)"
      ],
      "execution_count": 248,
      "outputs": [
        {
          "output_type": "execute_result",
          "data": {
            "text/plain": [
              "SVC(C=864, break_ties=False, cache_size=200, class_weight=None, coef0=0.0,\n",
              "    decision_function_shape='ovr', degree=3, gamma='scale', kernel='rbf',\n",
              "    max_iter=-1, probability=False, random_state=None, shrinking=True,\n",
              "    tol=0.001, verbose=False)"
            ]
          },
          "metadata": {
            "tags": []
          },
          "execution_count": 248
        }
      ]
    },
    {
      "cell_type": "code",
      "metadata": {
        "id": "89yFXrW-kBNj",
        "colab_type": "code",
        "colab": {}
      },
      "source": [
        "y_pred4 = m2.predict(X_test)"
      ],
      "execution_count": 258,
      "outputs": []
    },
    {
      "cell_type": "code",
      "metadata": {
        "id": "jGpgPLMdkH9w",
        "colab_type": "code",
        "colab": {
          "base_uri": "https://localhost:8080/",
          "height": 51
        },
        "outputId": "8f396024-bba5-45b4-c873-ff8e5066fd5c"
      },
      "source": [
        "cm4=confusion_matrix(y_test,y_pred4)\n",
        "print(cm4)"
      ],
      "execution_count": 260,
      "outputs": [
        {
          "output_type": "stream",
          "text": [
            "[[546   4]\n",
            " [ 14 115]]\n"
          ],
          "name": "stdout"
        }
      ]
    },
    {
      "cell_type": "code",
      "metadata": {
        "id": "qebfEWeDkOum",
        "colab_type": "code",
        "colab": {
          "base_uri": "https://localhost:8080/",
          "height": 170
        },
        "outputId": "055172bc-4c14-459e-d027-98a29913835b"
      },
      "source": [
        "cr4 = classification_report(y_test,y_pred4)\n",
        "print(cr4)"
      ],
      "execution_count": 261,
      "outputs": [
        {
          "output_type": "stream",
          "text": [
            "              precision    recall  f1-score   support\n",
            "\n",
            "           0       0.97      0.99      0.98       550\n",
            "           1       0.97      0.89      0.93       129\n",
            "\n",
            "    accuracy                           0.97       679\n",
            "   macro avg       0.97      0.94      0.96       679\n",
            "weighted avg       0.97      0.97      0.97       679\n",
            "\n"
          ],
          "name": "stdout"
        }
      ]
    },
    {
      "cell_type": "code",
      "metadata": {
        "id": "XfxIWlqslnB6",
        "colab_type": "code",
        "colab": {}
      },
      "source": [
        ""
      ],
      "execution_count": null,
      "outputs": []
    }
  ]
}