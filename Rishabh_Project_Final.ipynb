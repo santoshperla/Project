{
  "nbformat": 4,
  "nbformat_minor": 0,
  "metadata": {
    "colab": {
      "name": "Rishabh_Project_Final.ipynb",
      "provenance": [],
      "toc_visible": true
    },
    "kernelspec": {
      "name": "python3",
      "display_name": "Python 3"
    }
  },
  "cells": [
    {
      "cell_type": "markdown",
      "metadata": {
        "id": "DbnpR8JPFY20",
        "colab_type": "text"
      },
      "source": [
        "# Step #1 Importing Data"
      ]
    },
    {
      "cell_type": "code",
      "metadata": {
        "id": "RwbNtsM7AoI9",
        "colab_type": "code",
        "colab": {
          "base_uri": "https://localhost:8080/",
          "height": 71
        },
        "outputId": "822d5dae-449f-4c88-9be1-69e268c980f9"
      },
      "source": [
        "import pandas as pd\n",
        "import numpy as np\n",
        "import matplotlib.pyplot as plt\n",
        "import seaborn as sns\n",
        "from sklearn import svm\n",
        "from sklearn.model_selection import train_test_split\n",
        "from sklearn.metrics import confusion_matrix\n",
        "from sklearn.metrics import classification_report"
      ],
      "execution_count": 1,
      "outputs": [
        {
          "output_type": "stream",
          "text": [
            "/usr/local/lib/python3.6/dist-packages/statsmodels/tools/_testing.py:19: FutureWarning: pandas.util.testing is deprecated. Use the functions in the public API at pandas.testing instead.\n",
            "  import pandas.util.testing as tm\n"
          ],
          "name": "stderr"
        }
      ]
    },
    {
      "cell_type": "code",
      "metadata": {
        "id": "wH76XLWjA9m7",
        "colab_type": "code",
        "colab": {
          "base_uri": "https://localhost:8080/",
          "height": 54
        },
        "outputId": "d6fe3d3a-e8bb-4425-e50b-81aa3ac146f6"
      },
      "source": [
        "from google.colab import drive\n",
        "drive.mount('/content/drive')"
      ],
      "execution_count": 2,
      "outputs": [
        {
          "output_type": "stream",
          "text": [
            "Drive already mounted at /content/drive; to attempt to forcibly remount, call drive.mount(\"/content/drive\", force_remount=True).\n"
          ],
          "name": "stdout"
        }
      ]
    },
    {
      "cell_type": "code",
      "metadata": {
        "id": "eSbpzqNqBIV1",
        "colab_type": "code",
        "colab": {}
      },
      "source": [
        "df = pd.read_excel(r'//content/Health Data Breaches.xlsx')"
      ],
      "execution_count": 3,
      "outputs": []
    },
    {
      "cell_type": "markdown",
      "metadata": {
        "id": "xla7letUFnKb",
        "colab_type": "text"
      },
      "source": [
        "# Step #2 Exploring Data"
      ]
    },
    {
      "cell_type": "code",
      "metadata": {
        "id": "NMn_wqObBauk",
        "colab_type": "code",
        "colab": {
          "base_uri": "https://localhost:8080/",
          "height": 479
        },
        "outputId": "b62d7dc4-3d5a-4d84-e11f-3fe613521cce"
      },
      "source": [
        "df.head(5)"
      ],
      "execution_count": 4,
      "outputs": [
        {
          "output_type": "execute_result",
          "data": {
            "text/html": [
              "<div>\n",
              "<style scoped>\n",
              "    .dataframe tbody tr th:only-of-type {\n",
              "        vertical-align: middle;\n",
              "    }\n",
              "\n",
              "    .dataframe tbody tr th {\n",
              "        vertical-align: top;\n",
              "    }\n",
              "\n",
              "    .dataframe thead th {\n",
              "        text-align: right;\n",
              "    }\n",
              "</style>\n",
              "<table border=\"1\" class=\"dataframe\">\n",
              "  <thead>\n",
              "    <tr style=\"text-align: right;\">\n",
              "      <th></th>\n",
              "      <th>Name of Covered Entity</th>\n",
              "      <th>State</th>\n",
              "      <th>Covered Entity Type</th>\n",
              "      <th>Individuals Affected</th>\n",
              "      <th>Breach Submission Date</th>\n",
              "      <th>2009</th>\n",
              "      <th>2010</th>\n",
              "      <th>2011</th>\n",
              "      <th>2012</th>\n",
              "      <th>2013</th>\n",
              "      <th>2014</th>\n",
              "      <th>2015</th>\n",
              "      <th>2016</th>\n",
              "      <th>Type of Breach</th>\n",
              "      <th>Location of Breached Information</th>\n",
              "      <th>Business Associate Present</th>\n",
              "      <th>Web Description</th>\n",
              "    </tr>\n",
              "  </thead>\n",
              "  <tbody>\n",
              "    <tr>\n",
              "      <th>0</th>\n",
              "      <td>Advantage Consolidated LLC</td>\n",
              "      <td>OR</td>\n",
              "      <td>Healthcare Provider</td>\n",
              "      <td>151626</td>\n",
              "      <td>2015-03-18</td>\n",
              "      <td>NaN</td>\n",
              "      <td>NaN</td>\n",
              "      <td>NaN</td>\n",
              "      <td>NaN</td>\n",
              "      <td>NaN</td>\n",
              "      <td>NaN</td>\n",
              "      <td>1.0</td>\n",
              "      <td>NaN</td>\n",
              "      <td>Hacking/IT Incident</td>\n",
              "      <td>Other</td>\n",
              "      <td>No</td>\n",
              "      <td>NaN</td>\n",
              "    </tr>\n",
              "    <tr>\n",
              "      <th>1</th>\n",
              "      <td>Doctors First Choice Billings, Inc.</td>\n",
              "      <td>FL</td>\n",
              "      <td>Business Associate</td>\n",
              "      <td>1831</td>\n",
              "      <td>2014-06-12</td>\n",
              "      <td>NaN</td>\n",
              "      <td>NaN</td>\n",
              "      <td>NaN</td>\n",
              "      <td>NaN</td>\n",
              "      <td>NaN</td>\n",
              "      <td>1.0</td>\n",
              "      <td>NaN</td>\n",
              "      <td>NaN</td>\n",
              "      <td>Hacking/IT Incident</td>\n",
              "      <td>Other</td>\n",
              "      <td>Yes</td>\n",
              "      <td>\\N</td>\n",
              "    </tr>\n",
              "    <tr>\n",
              "      <th>2</th>\n",
              "      <td>Goshen Health System, Inc.</td>\n",
              "      <td>IN</td>\n",
              "      <td>Healthcare Provider</td>\n",
              "      <td>660</td>\n",
              "      <td>2012-02-14</td>\n",
              "      <td>NaN</td>\n",
              "      <td>NaN</td>\n",
              "      <td>NaN</td>\n",
              "      <td>1.0</td>\n",
              "      <td>NaN</td>\n",
              "      <td>NaN</td>\n",
              "      <td>NaN</td>\n",
              "      <td>NaN</td>\n",
              "      <td>Hacking/IT Incident</td>\n",
              "      <td>Other</td>\n",
              "      <td>No</td>\n",
              "      <td>Computer servers of Goshen Health System's bus...</td>\n",
              "    </tr>\n",
              "    <tr>\n",
              "      <th>3</th>\n",
              "      <td>Group Life Hospital and Medical Program</td>\n",
              "      <td>CT</td>\n",
              "      <td>Health Plan</td>\n",
              "      <td>3000</td>\n",
              "      <td>2016-02-29</td>\n",
              "      <td>NaN</td>\n",
              "      <td>NaN</td>\n",
              "      <td>NaN</td>\n",
              "      <td>NaN</td>\n",
              "      <td>NaN</td>\n",
              "      <td>NaN</td>\n",
              "      <td>NaN</td>\n",
              "      <td>1.0</td>\n",
              "      <td>Hacking/IT Incident</td>\n",
              "      <td>Other</td>\n",
              "      <td>No</td>\n",
              "      <td>NaN</td>\n",
              "    </tr>\n",
              "    <tr>\n",
              "      <th>4</th>\n",
              "      <td>Health Incent, LLC</td>\n",
              "      <td>TN</td>\n",
              "      <td>Healthcare Provider</td>\n",
              "      <td>1100</td>\n",
              "      <td>2016-07-11</td>\n",
              "      <td>NaN</td>\n",
              "      <td>NaN</td>\n",
              "      <td>NaN</td>\n",
              "      <td>NaN</td>\n",
              "      <td>NaN</td>\n",
              "      <td>NaN</td>\n",
              "      <td>NaN</td>\n",
              "      <td>1.0</td>\n",
              "      <td>Hacking/IT Incident</td>\n",
              "      <td>Other</td>\n",
              "      <td>No</td>\n",
              "      <td>NaN</td>\n",
              "    </tr>\n",
              "  </tbody>\n",
              "</table>\n",
              "</div>"
            ],
            "text/plain": [
              "                    Name of Covered Entity  ...                                    Web Description\n",
              "0               Advantage Consolidated LLC  ...                                                NaN\n",
              "1      Doctors First Choice Billings, Inc.  ...                                                 \\N\n",
              "2               Goshen Health System, Inc.  ...  Computer servers of Goshen Health System's bus...\n",
              "3  Group Life Hospital and Medical Program  ...                                                NaN\n",
              "4                       Health Incent, LLC  ...                                                NaN\n",
              "\n",
              "[5 rows x 17 columns]"
            ]
          },
          "metadata": {
            "tags": []
          },
          "execution_count": 4
        }
      ]
    },
    {
      "cell_type": "code",
      "metadata": {
        "id": "x5p71QQaBeYU",
        "colab_type": "code",
        "colab": {
          "base_uri": "https://localhost:8080/",
          "height": 360
        },
        "outputId": "a64f8d02-41c1-40b8-a20b-35b0bdbbb4eb"
      },
      "source": [
        "df.tail(5)"
      ],
      "execution_count": 5,
      "outputs": [
        {
          "output_type": "execute_result",
          "data": {
            "text/html": [
              "<div>\n",
              "<style scoped>\n",
              "    .dataframe tbody tr th:only-of-type {\n",
              "        vertical-align: middle;\n",
              "    }\n",
              "\n",
              "    .dataframe tbody tr th {\n",
              "        vertical-align: top;\n",
              "    }\n",
              "\n",
              "    .dataframe thead th {\n",
              "        text-align: right;\n",
              "    }\n",
              "</style>\n",
              "<table border=\"1\" class=\"dataframe\">\n",
              "  <thead>\n",
              "    <tr style=\"text-align: right;\">\n",
              "      <th></th>\n",
              "      <th>Name of Covered Entity</th>\n",
              "      <th>State</th>\n",
              "      <th>Covered Entity Type</th>\n",
              "      <th>Individuals Affected</th>\n",
              "      <th>Breach Submission Date</th>\n",
              "      <th>2009</th>\n",
              "      <th>2010</th>\n",
              "      <th>2011</th>\n",
              "      <th>2012</th>\n",
              "      <th>2013</th>\n",
              "      <th>2014</th>\n",
              "      <th>2015</th>\n",
              "      <th>2016</th>\n",
              "      <th>Type of Breach</th>\n",
              "      <th>Location of Breached Information</th>\n",
              "      <th>Business Associate Present</th>\n",
              "      <th>Web Description</th>\n",
              "    </tr>\n",
              "  </thead>\n",
              "  <tbody>\n",
              "    <tr>\n",
              "      <th>1695</th>\n",
              "      <td>M&amp;C Children's Clinic PA</td>\n",
              "      <td>TX</td>\n",
              "      <td>NaN</td>\n",
              "      <td>NaN</td>\n",
              "      <td>2013-03-19</td>\n",
              "      <td>NaN</td>\n",
              "      <td>NaN</td>\n",
              "      <td>NaN</td>\n",
              "      <td>NaN</td>\n",
              "      <td>1.0</td>\n",
              "      <td>NaN</td>\n",
              "      <td>NaN</td>\n",
              "      <td>NaN</td>\n",
              "      <td>NaN</td>\n",
              "      <td>NaN</td>\n",
              "      <td>No</td>\n",
              "      <td>On March 19, 2013, the covered entity (CE), M ...</td>\n",
              "    </tr>\n",
              "    <tr>\n",
              "      <th>1696</th>\n",
              "      <td>Memorial Health Systems</td>\n",
              "      <td>CO</td>\n",
              "      <td>NaN</td>\n",
              "      <td>NaN</td>\n",
              "      <td>2011-07-15</td>\n",
              "      <td>NaN</td>\n",
              "      <td>NaN</td>\n",
              "      <td>1.0</td>\n",
              "      <td>NaN</td>\n",
              "      <td>NaN</td>\n",
              "      <td>NaN</td>\n",
              "      <td>NaN</td>\n",
              "      <td>NaN</td>\n",
              "      <td>NaN</td>\n",
              "      <td>NaN</td>\n",
              "      <td>No</td>\n",
              "      <td>NaN</td>\n",
              "    </tr>\n",
              "    <tr>\n",
              "      <th>1697</th>\n",
              "      <td>Northwestern Memorial HealthCare</td>\n",
              "      <td>IL</td>\n",
              "      <td>NaN</td>\n",
              "      <td>NaN</td>\n",
              "      <td>2014-12-23</td>\n",
              "      <td>NaN</td>\n",
              "      <td>NaN</td>\n",
              "      <td>NaN</td>\n",
              "      <td>NaN</td>\n",
              "      <td>NaN</td>\n",
              "      <td>NaN</td>\n",
              "      <td>NaN</td>\n",
              "      <td>NaN</td>\n",
              "      <td>NaN</td>\n",
              "      <td>NaN</td>\n",
              "      <td>No</td>\n",
              "      <td>NaN</td>\n",
              "    </tr>\n",
              "    <tr>\n",
              "      <th>1698</th>\n",
              "      <td>St. Joseph Health System</td>\n",
              "      <td>CA</td>\n",
              "      <td>NaN</td>\n",
              "      <td>NaN</td>\n",
              "      <td>2012-02-15</td>\n",
              "      <td>NaN</td>\n",
              "      <td>NaN</td>\n",
              "      <td>NaN</td>\n",
              "      <td>NaN</td>\n",
              "      <td>NaN</td>\n",
              "      <td>NaN</td>\n",
              "      <td>NaN</td>\n",
              "      <td>NaN</td>\n",
              "      <td>NaN</td>\n",
              "      <td>NaN</td>\n",
              "      <td>No</td>\n",
              "      <td>NaN</td>\n",
              "    </tr>\n",
              "    <tr>\n",
              "      <th>1699</th>\n",
              "      <td>StandfordSchoolMedicine&amp; LP Children Hosp, Pri...</td>\n",
              "      <td>CA</td>\n",
              "      <td>NaN</td>\n",
              "      <td>NaN</td>\n",
              "      <td>2013-01-23</td>\n",
              "      <td>NaN</td>\n",
              "      <td>NaN</td>\n",
              "      <td>NaN</td>\n",
              "      <td>NaN</td>\n",
              "      <td>NaN</td>\n",
              "      <td>NaN</td>\n",
              "      <td>NaN</td>\n",
              "      <td>NaN</td>\n",
              "      <td>NaN</td>\n",
              "      <td>NaN</td>\n",
              "      <td>No</td>\n",
              "      <td>NaN</td>\n",
              "    </tr>\n",
              "  </tbody>\n",
              "</table>\n",
              "</div>"
            ],
            "text/plain": [
              "                                 Name of Covered Entity  ...                                    Web Description\n",
              "1695                           M&C Children's Clinic PA  ...  On March 19, 2013, the covered entity (CE), M ...\n",
              "1696                            Memorial Health Systems  ...                                                NaN\n",
              "1697                   Northwestern Memorial HealthCare  ...                                                NaN\n",
              "1698                           St. Joseph Health System  ...                                                NaN\n",
              "1699  StandfordSchoolMedicine& LP Children Hosp, Pri...  ...                                                NaN\n",
              "\n",
              "[5 rows x 17 columns]"
            ]
          },
          "metadata": {
            "tags": []
          },
          "execution_count": 5
        }
      ]
    },
    {
      "cell_type": "code",
      "metadata": {
        "id": "gIT58TXUOiX9",
        "colab_type": "code",
        "colab": {
          "base_uri": "https://localhost:8080/",
          "height": 769
        },
        "outputId": "403691d7-8c24-47d2-b795-95cc22bf8a10"
      },
      "source": [
        "plt.figure(figsize=(10,10))\n",
        "sns.heatmap(df.isnull(), cbar = False, cmap = 'YlGnBu')"
      ],
      "execution_count": 6,
      "outputs": [
        {
          "output_type": "execute_result",
          "data": {
            "text/plain": [
              "<matplotlib.axes._subplots.AxesSubplot at 0x7f1c3661eef0>"
            ]
          },
          "metadata": {
            "tags": []
          },
          "execution_count": 6
        },
        {
          "output_type": "display_data",
          "data": {
            "image/png": "[encoded data removed]",
            "text/plain": [
              "<Figure size 720x720 with 1 Axes>"
            ]
          },
          "metadata": {
            "tags": [],
            "needs_background": "light"
          }
        }
      ]
    },
    {
      "cell_type": "code",
      "metadata": {
        "id": "0sTxd6k8B_t2",
        "colab_type": "code",
        "colab": {}
      },
      "source": [
        "df=df.drop(['Web Description','Name of Covered Entity'], axis = 1)"
      ],
      "execution_count": 7,
      "outputs": []
    },
    {
      "cell_type": "markdown",
      "metadata": {
        "id": "JV542UpCHY9C",
        "colab_type": "text"
      },
      "source": [
        "###        *State with highest number of Breaches*\n",
        "\n",
        "\n",
        "\n"
      ]
    },
    {
      "cell_type": "code",
      "metadata": {
        "id": "PzPqUuONcYzR",
        "colab_type": "code",
        "colab": {
          "base_uri": "https://localhost:8080/",
          "height": 204
        },
        "outputId": "18ada3ed-56df-48aa-b985-b2e80d843087"
      },
      "source": [
        "df['State'].value_counts().iloc[:10]"
      ],
      "execution_count": 8,
      "outputs": [
        {
          "output_type": "execute_result",
          "data": {
            "text/plain": [
              "CA    200\n",
              "TX    140\n",
              "FL    114\n",
              "NY    104\n",
              "IL     93\n",
              "PA     60\n",
              "IN     57\n",
              "OH     56\n",
              "GA     50\n",
              "NC     44\n",
              "Name: State, dtype: int64"
            ]
          },
          "metadata": {
            "tags": []
          },
          "execution_count": 8
        }
      ]
    },
    {
      "cell_type": "code",
      "metadata": {
        "id": "-O95CG3kchQn",
        "colab_type": "code",
        "colab": {
          "base_uri": "https://localhost:8080/",
          "height": 606
        },
        "outputId": "10e72f37-b3de-4472-bb88-ff4d30a23024"
      },
      "source": [
        "plt.figure(figsize=(10,10))\n",
        "sns.countplot(y='State',data=df,order=df['State'].value_counts().iloc[:10].index)\n",
        "for index, value in enumerate(df['State'].value_counts().iloc[:10]):\n",
        "    plt.text(value, index, str(value))"
      ],
      "execution_count": 9,
      "outputs": [
        {
          "output_type": "display_data",
          "data": {
            "image/png": "[encoded data removed]",
            "text/plain": [
              "<Figure size 720x720 with 1 Axes>"
            ]
          },
          "metadata": {
            "tags": [],
            "needs_background": "light"
          }
        }
      ]
    },
    {
      "cell_type": "markdown",
      "metadata": {
        "id": "DI1-kMRgIlM5",
        "colab_type": "text"
      },
      "source": [
        "### *Entity type has highest number of Breaches*"
      ]
    },
    {
      "cell_type": "code",
      "metadata": {
        "id": "qgxyX15la2Xg",
        "colab_type": "code",
        "colab": {
          "base_uri": "https://localhost:8080/",
          "height": 102
        },
        "outputId": "d649806a-99a3-444a-b8f9-e8ed4b1611cf"
      },
      "source": [
        "df[\"Covered Entity Type\"].value_counts()"
      ],
      "execution_count": 10,
      "outputs": [
        {
          "output_type": "execute_result",
          "data": {
            "text/plain": [
              "Healthcare Provider          1173\n",
              "Business Associate            274\n",
              "Health Plan                   207\n",
              "Healthcare Clearing House       4\n",
              "Name: Covered Entity Type, dtype: int64"
            ]
          },
          "metadata": {
            "tags": []
          },
          "execution_count": 10
        }
      ]
    },
    {
      "cell_type": "code",
      "metadata": {
        "id": "jgxfG1RmYWCP",
        "colab_type": "code",
        "colab": {
          "base_uri": "https://localhost:8080/",
          "height": 279
        },
        "outputId": "0b9895ef-351f-497a-e318-f437c77da9a0"
      },
      "source": [
        "sns.countplot(y='Covered Entity Type',data=df)\n",
        "for index, value in enumerate(df['Covered Entity Type'].value_counts()):\n",
        "    plt.text(value, index, str(value))"
      ],
      "execution_count": 11,
      "outputs": [
        {
          "output_type": "display_data",
          "data": {
            "image/png": "[encoded data removed]",
            "text/plain": [
              "<Figure size 432x288 with 1 Axes>"
            ]
          },
          "metadata": {
            "tags": [],
            "needs_background": "light"
          }
        }
      ]
    },
    {
      "cell_type": "markdown",
      "metadata": {
        "id": "Wp2aZ2ClJlz9",
        "colab_type": "text"
      },
      "source": [
        "### *Most common Type of Breach*"
      ]
    },
    {
      "cell_type": "code",
      "metadata": {
        "id": "2qP6I9k6rhwJ",
        "colab_type": "code",
        "colab": {
          "base_uri": "https://localhost:8080/",
          "height": 0
        },
        "outputId": "b1d50b7e-4274-4d7f-dbc4-39303b507102"
      },
      "source": [
        "df[\"Type of Breach\"].value_counts().iloc[:10]"
      ],
      "execution_count": 12,
      "outputs": [
        {
          "output_type": "execute_result",
          "data": {
            "text/plain": [
              "Theft                                                  724\n",
              "Unauthorized Access/Disclosure                         399\n",
              "Hacking/IT Incident                                    222\n",
              "Loss                                                   120\n",
              "Other                                                   77\n",
              "Improper Disposal                                       51\n",
              "Theft, Unauthorized Access/Disclosure                   24\n",
              "Loss, Theft                                             15\n",
              "Unknown                                                  9\n",
              "Hacking/IT Incident, Unauthorized Access/Disclosure      8\n",
              "Name: Type of Breach, dtype: int64"
            ]
          },
          "metadata": {
            "tags": []
          },
          "execution_count": 12
        }
      ]
    },
    {
      "cell_type": "code",
      "metadata": {
        "id": "2euYseRzg-jA",
        "colab_type": "code",
        "colab": {
          "base_uri": "https://localhost:8080/",
          "height": 0
        },
        "outputId": "480b2bcd-adfb-4cf7-8836-b265d197c77b"
      },
      "source": [
        "plt.figure(figsize=(10,10)),\n",
        "sns.countplot(y='Type of Breach',data=df,order=df['Type of Breach'].value_counts().iloc[:10].index)\n",
        "for index, value in enumerate(df['Type of Breach'].value_counts().iloc[:10]):\n",
        "    plt.text(value, index, str(value))"
      ],
      "execution_count": 13,
      "outputs": [
        {
          "output_type": "display_data",
          "data": {
            "image/png": "[encoded data removed]",
            "text/plain": [
              "<Figure size 720x720 with 1 Axes>"
            ]
          },
          "metadata": {
            "tags": [],
            "needs_background": "light"
          }
        }
      ]
    },
    {
      "cell_type": "markdown",
      "metadata": {
        "id": "A-Fw1oXjKJTF",
        "colab_type": "text"
      },
      "source": [
        "### *Most common Location of Breached Information*"
      ]
    },
    {
      "cell_type": "code",
      "metadata": {
        "id": "EA7ahwkjvNI4",
        "colab_type": "code",
        "colab": {
          "base_uri": "https://localhost:8080/",
          "height": 204
        },
        "outputId": "696851b0-938e-44d6-9a2b-e17dde48e8bb"
      },
      "source": [
        "df['Location of Breached Information'].value_counts().iloc[:10]"
      ],
      "execution_count": 14,
      "outputs": [
        {
          "output_type": "execute_result",
          "data": {
            "text/plain": [
              "Paper/Films                                 387\n",
              "Laptop                                      285\n",
              "Network Server                              225\n",
              "Other                                       164\n",
              "Desktop Computer                            134\n",
              "Email                                       130\n",
              "Other Portable Electronic Device             94\n",
              "Electronic Medical Record                    63\n",
              "Other, Other Portable Electronic Device      45\n",
              "Laptop, Other Portable Electronic Device     16\n",
              "Name: Location of Breached Information, dtype: int64"
            ]
          },
          "metadata": {
            "tags": []
          },
          "execution_count": 14
        }
      ]
    },
    {
      "cell_type": "code",
      "metadata": {
        "id": "8O_Z-FH-ikGs",
        "colab_type": "code",
        "colab": {
          "base_uri": "https://localhost:8080/",
          "height": 606
        },
        "outputId": "7163736e-10fa-44d9-b3e0-11f2c303076a"
      },
      "source": [
        "plt.figure(figsize=(10,10))\n",
        "sns.countplot(y= 'Location of Breached Information', data = df, order = df['Location of Breached Information'].value_counts().iloc[:10].index)\n",
        "for index, value in enumerate(df['Location of Breached Information'].value_counts().iloc[:10]):\n",
        "    plt.text(value, index, str(value))\n"
      ],
      "execution_count": 15,
      "outputs": [
        {
          "output_type": "display_data",
          "data": {
            "image/png": "[encoded data removed]",
            "text/plain": [
              "<Figure size 720x720 with 1 Axes>"
            ]
          },
          "metadata": {
            "tags": [],
            "needs_background": "light"
          }
        }
      ]
    },
    {
      "cell_type": "code",
      "metadata": {
        "id": "IB-kKXmgPMoM",
        "colab_type": "code",
        "colab": {}
      },
      "source": [
        ""
      ],
      "execution_count": 15,
      "outputs": []
    },
    {
      "cell_type": "markdown",
      "metadata": {
        "id": "CzoSaUaBLVhr",
        "colab_type": "text"
      },
      "source": [
        "### *Number of Breaches a Business associate is involved*\n",
        "\n",
        "*   List item\n",
        "*   List item\n",
        "\n"
      ]
    },
    {
      "cell_type": "code",
      "metadata": {
        "id": "5DDXmV4KUy3p",
        "colab_type": "code",
        "colab": {
          "base_uri": "https://localhost:8080/",
          "height": 0
        },
        "outputId": "0da280aa-9838-45ec-ae21-ac27c5add207"
      },
      "source": [
        "df['Covered Entity Type'].value_counts()"
      ],
      "execution_count": 16,
      "outputs": [
        {
          "output_type": "execute_result",
          "data": {
            "text/plain": [
              "Healthcare Provider          1173\n",
              "Business Associate            274\n",
              "Health Plan                   207\n",
              "Healthcare Clearing House       4\n",
              "Name: Covered Entity Type, dtype: int64"
            ]
          },
          "metadata": {
            "tags": []
          },
          "execution_count": 16
        }
      ]
    },
    {
      "cell_type": "code",
      "metadata": {
        "id": "vTdMG7pRVNNX",
        "colab_type": "code",
        "colab": {
          "base_uri": "https://localhost:8080/",
          "height": 0
        },
        "outputId": "da5a702a-7ec1-41a7-9593-d7750344bd73"
      },
      "source": [
        "sns.countplot(x=\"Business Associate Present\",data=df)\n",
        "for index, value in enumerate(df['Business Associate Present'].value_counts()):\n",
        "    plt.text(index, value, str(value))"
      ],
      "execution_count": 17,
      "outputs": [
        {
          "output_type": "display_data",
          "data": {
            "image/png": "[encoded data removed]",
            "text/plain": [
              "<Figure size 432x288 with 1 Axes>"
            ]
          },
          "metadata": {
            "tags": [],
            "needs_background": "light"
          }
        }
      ]
    },
    {
      "cell_type": "markdown",
      "metadata": {
        "id": "cczWVIPmMgHu",
        "colab_type": "text"
      },
      "source": [
        "### *Presence of Business Associate in Different Entity Types*"
      ]
    },
    {
      "cell_type": "code",
      "metadata": {
        "id": "G5YjHXuImgih",
        "colab_type": "code",
        "colab": {
          "base_uri": "https://localhost:8080/",
          "height": 0
        },
        "outputId": "0c9c3cb3-6118-4569-fe23-312ca16e2826"
      },
      "source": [
        "plt.figure(figsize=(10,10))\n",
        "gph=sns.catplot(x='Covered Entity Type',hue='Business Associate Present',kind='count',data=df)\n",
        "for axes in gph.axes.flat:\n",
        "    _ = axes.set_xticklabels(axes.get_xticklabels(), rotation=45)"
      ],
      "execution_count": 18,
      "outputs": [
        {
          "output_type": "display_data",
          "data": {
            "text/plain": [
              "<Figure size 720x720 with 0 Axes>"
            ]
          },
          "metadata": {
            "tags": []
          }
        },
        {
          "output_type": "display_data",
          "data": {
            "image/png": "[encoded data removed]",
            "text/plain": [
              "<Figure size 504x360 with 1 Axes>"
            ]
          },
          "metadata": {
            "tags": [],
            "needs_background": "light"
          }
        }
      ]
    },
    {
      "cell_type": "markdown",
      "metadata": {
        "id": "bs-hoMJ4MCqU",
        "colab_type": "text"
      },
      "source": [
        "### *Different Types of Breaches in different Entity Types*"
      ]
    },
    {
      "cell_type": "code",
      "metadata": {
        "id": "7ekeOcIrMCIT",
        "colab_type": "code",
        "colab": {
          "base_uri": "https://localhost:8080/",
          "height": 673
        },
        "outputId": "d4196688-64ae-4568-e5a3-38a2eae4aa96"
      },
      "source": [
        "plt.figure(figsize=(100,100))\n",
        "gph=sns.catplot(x='Type of Breach',hue='Covered Entity Type',kind='count',data=df)\n",
        "for axes in gph.axes.flat:\n",
        "    _ = axes.set_xticklabels(axes.get_xticklabels(), rotation=90)"
      ],
      "execution_count": 19,
      "outputs": [
        {
          "output_type": "display_data",
          "data": {
            "text/plain": [
              "<Figure size 7200x7200 with 0 Axes>"
            ]
          },
          "metadata": {
            "tags": []
          }
        },
        {
          "output_type": "display_data",
          "data": {
            "image/png": "[encoded data removed]",
            "text/plain": [
              "<Figure size 529.75x360 with 1 Axes>"
            ]
          },
          "metadata": {
            "tags": [],
            "needs_background": "light"
          }
        }
      ]
    },
    {
      "cell_type": "markdown",
      "metadata": {
        "id": "nefd-iYJN_S-",
        "colab_type": "text"
      },
      "source": [
        "# Step #3 Preparing The Data"
      ]
    },
    {
      "cell_type": "code",
      "metadata": {
        "id": "CnTRPJCfOM-P",
        "colab_type": "code",
        "colab": {
          "base_uri": "https://localhost:8080/",
          "height": 459
        },
        "outputId": "f144e219-5193-408d-d9a8-00d1467f2004"
      },
      "source": [
        "df[df.duplicated(keep=False)]"
      ],
      "execution_count": 20,
      "outputs": [
        {
          "output_type": "execute_result",
          "data": {
            "text/html": [
              "<div>\n",
              "<style scoped>\n",
              "    .dataframe tbody tr th:only-of-type {\n",
              "        vertical-align: middle;\n",
              "    }\n",
              "\n",
              "    .dataframe tbody tr th {\n",
              "        vertical-align: top;\n",
              "    }\n",
              "\n",
              "    .dataframe thead th {\n",
              "        text-align: right;\n",
              "    }\n",
              "</style>\n",
              "<table border=\"1\" class=\"dataframe\">\n",
              "  <thead>\n",
              "    <tr style=\"text-align: right;\">\n",
              "      <th></th>\n",
              "      <th>State</th>\n",
              "      <th>Covered Entity Type</th>\n",
              "      <th>Individuals Affected</th>\n",
              "      <th>Breach Submission Date</th>\n",
              "      <th>2009</th>\n",
              "      <th>2010</th>\n",
              "      <th>2011</th>\n",
              "      <th>2012</th>\n",
              "      <th>2013</th>\n",
              "      <th>2014</th>\n",
              "      <th>2015</th>\n",
              "      <th>2016</th>\n",
              "      <th>Type of Breach</th>\n",
              "      <th>Location of Breached Information</th>\n",
              "      <th>Business Associate Present</th>\n",
              "    </tr>\n",
              "  </thead>\n",
              "  <tbody>\n",
              "    <tr>\n",
              "      <th>40</th>\n",
              "      <td>MN</td>\n",
              "      <td>Health Plan</td>\n",
              "      <td>1550</td>\n",
              "      <td>2016-02-26</td>\n",
              "      <td>NaN</td>\n",
              "      <td>NaN</td>\n",
              "      <td>NaN</td>\n",
              "      <td>NaN</td>\n",
              "      <td>NaN</td>\n",
              "      <td>NaN</td>\n",
              "      <td>NaN</td>\n",
              "      <td>1.0</td>\n",
              "      <td>Hacking/IT Incident</td>\n",
              "      <td>Network Server</td>\n",
              "      <td>No</td>\n",
              "    </tr>\n",
              "    <tr>\n",
              "      <th>41</th>\n",
              "      <td>MN</td>\n",
              "      <td>Health Plan</td>\n",
              "      <td>1550</td>\n",
              "      <td>2016-02-26</td>\n",
              "      <td>NaN</td>\n",
              "      <td>NaN</td>\n",
              "      <td>NaN</td>\n",
              "      <td>NaN</td>\n",
              "      <td>NaN</td>\n",
              "      <td>NaN</td>\n",
              "      <td>NaN</td>\n",
              "      <td>1.0</td>\n",
              "      <td>Hacking/IT Incident</td>\n",
              "      <td>Network Server</td>\n",
              "      <td>No</td>\n",
              "    </tr>\n",
              "    <tr>\n",
              "      <th>585</th>\n",
              "      <td>FL</td>\n",
              "      <td>Healthcare Provider</td>\n",
              "      <td>648</td>\n",
              "      <td>2016-04-20</td>\n",
              "      <td>NaN</td>\n",
              "      <td>NaN</td>\n",
              "      <td>NaN</td>\n",
              "      <td>NaN</td>\n",
              "      <td>NaN</td>\n",
              "      <td>NaN</td>\n",
              "      <td>NaN</td>\n",
              "      <td>1.0</td>\n",
              "      <td>Theft</td>\n",
              "      <td>Paper/Films</td>\n",
              "      <td>No</td>\n",
              "    </tr>\n",
              "    <tr>\n",
              "      <th>586</th>\n",
              "      <td>FL</td>\n",
              "      <td>Healthcare Provider</td>\n",
              "      <td>648</td>\n",
              "      <td>2016-04-20</td>\n",
              "      <td>NaN</td>\n",
              "      <td>NaN</td>\n",
              "      <td>NaN</td>\n",
              "      <td>NaN</td>\n",
              "      <td>NaN</td>\n",
              "      <td>NaN</td>\n",
              "      <td>NaN</td>\n",
              "      <td>1.0</td>\n",
              "      <td>Theft</td>\n",
              "      <td>Paper/Films</td>\n",
              "      <td>No</td>\n",
              "    </tr>\n",
              "    <tr>\n",
              "      <th>659</th>\n",
              "      <td>CA</td>\n",
              "      <td>Business Associate</td>\n",
              "      <td>1474</td>\n",
              "      <td>2010-09-23</td>\n",
              "      <td>NaN</td>\n",
              "      <td>1.0</td>\n",
              "      <td>NaN</td>\n",
              "      <td>NaN</td>\n",
              "      <td>NaN</td>\n",
              "      <td>NaN</td>\n",
              "      <td>NaN</td>\n",
              "      <td>NaN</td>\n",
              "      <td>Theft</td>\n",
              "      <td>Other, Other Portable Electronic Device</td>\n",
              "      <td>Yes</td>\n",
              "    </tr>\n",
              "    <tr>\n",
              "      <th>674</th>\n",
              "      <td>CA</td>\n",
              "      <td>Business Associate</td>\n",
              "      <td>1474</td>\n",
              "      <td>2010-09-23</td>\n",
              "      <td>NaN</td>\n",
              "      <td>1.0</td>\n",
              "      <td>NaN</td>\n",
              "      <td>NaN</td>\n",
              "      <td>NaN</td>\n",
              "      <td>NaN</td>\n",
              "      <td>NaN</td>\n",
              "      <td>NaN</td>\n",
              "      <td>Theft</td>\n",
              "      <td>Other, Other Portable Electronic Device</td>\n",
              "      <td>Yes</td>\n",
              "    </tr>\n",
              "  </tbody>\n",
              "</table>\n",
              "</div>"
            ],
            "text/plain": [
              "    State  ... Business Associate Present\n",
              "40     MN  ...                         No\n",
              "41     MN  ...                         No\n",
              "585    FL  ...                         No\n",
              "586    FL  ...                         No\n",
              "659    CA  ...                        Yes\n",
              "674    CA  ...                        Yes\n",
              "\n",
              "[6 rows x 15 columns]"
            ]
          },
          "metadata": {
            "tags": []
          },
          "execution_count": 20
        }
      ]
    },
    {
      "cell_type": "code",
      "metadata": {
        "id": "mhR9E_wAPAqm",
        "colab_type": "code",
        "colab": {
          "base_uri": "https://localhost:8080/",
          "height": 558
        },
        "outputId": "38b0c300-cfed-4f67-f9a0-4457a1c01d9c"
      },
      "source": [
        "df=df.drop_duplicates()\n",
        "df"
      ],
      "execution_count": 21,
      "outputs": [
        {
          "output_type": "execute_result",
          "data": {
            "text/html": [
              "<div>\n",
              "<style scoped>\n",
              "    .dataframe tbody tr th:only-of-type {\n",
              "        vertical-align: middle;\n",
              "    }\n",
              "\n",
              "    .dataframe tbody tr th {\n",
              "        vertical-align: top;\n",
              "    }\n",
              "\n",
              "    .dataframe thead th {\n",
              "        text-align: right;\n",
              "    }\n",
              "</style>\n",
              "<table border=\"1\" class=\"dataframe\">\n",
              "  <thead>\n",
              "    <tr style=\"text-align: right;\">\n",
              "      <th></th>\n",
              "      <th>State</th>\n",
              "      <th>Covered Entity Type</th>\n",
              "      <th>Individuals Affected</th>\n",
              "      <th>Breach Submission Date</th>\n",
              "      <th>2009</th>\n",
              "      <th>2010</th>\n",
              "      <th>2011</th>\n",
              "      <th>2012</th>\n",
              "      <th>2013</th>\n",
              "      <th>2014</th>\n",
              "      <th>2015</th>\n",
              "      <th>2016</th>\n",
              "      <th>Type of Breach</th>\n",
              "      <th>Location of Breached Information</th>\n",
              "      <th>Business Associate Present</th>\n",
              "    </tr>\n",
              "  </thead>\n",
              "  <tbody>\n",
              "    <tr>\n",
              "      <th>0</th>\n",
              "      <td>OR</td>\n",
              "      <td>Healthcare Provider</td>\n",
              "      <td>151626</td>\n",
              "      <td>2015-03-18</td>\n",
              "      <td>NaN</td>\n",
              "      <td>NaN</td>\n",
              "      <td>NaN</td>\n",
              "      <td>NaN</td>\n",
              "      <td>NaN</td>\n",
              "      <td>NaN</td>\n",
              "      <td>1.0</td>\n",
              "      <td>NaN</td>\n",
              "      <td>Hacking/IT Incident</td>\n",
              "      <td>Other</td>\n",
              "      <td>No</td>\n",
              "    </tr>\n",
              "    <tr>\n",
              "      <th>1</th>\n",
              "      <td>FL</td>\n",
              "      <td>Business Associate</td>\n",
              "      <td>1831</td>\n",
              "      <td>2014-06-12</td>\n",
              "      <td>NaN</td>\n",
              "      <td>NaN</td>\n",
              "      <td>NaN</td>\n",
              "      <td>NaN</td>\n",
              "      <td>NaN</td>\n",
              "      <td>1.0</td>\n",
              "      <td>NaN</td>\n",
              "      <td>NaN</td>\n",
              "      <td>Hacking/IT Incident</td>\n",
              "      <td>Other</td>\n",
              "      <td>Yes</td>\n",
              "    </tr>\n",
              "    <tr>\n",
              "      <th>2</th>\n",
              "      <td>IN</td>\n",
              "      <td>Healthcare Provider</td>\n",
              "      <td>660</td>\n",
              "      <td>2012-02-14</td>\n",
              "      <td>NaN</td>\n",
              "      <td>NaN</td>\n",
              "      <td>NaN</td>\n",
              "      <td>1.0</td>\n",
              "      <td>NaN</td>\n",
              "      <td>NaN</td>\n",
              "      <td>NaN</td>\n",
              "      <td>NaN</td>\n",
              "      <td>Hacking/IT Incident</td>\n",
              "      <td>Other</td>\n",
              "      <td>No</td>\n",
              "    </tr>\n",
              "    <tr>\n",
              "      <th>3</th>\n",
              "      <td>CT</td>\n",
              "      <td>Health Plan</td>\n",
              "      <td>3000</td>\n",
              "      <td>2016-02-29</td>\n",
              "      <td>NaN</td>\n",
              "      <td>NaN</td>\n",
              "      <td>NaN</td>\n",
              "      <td>NaN</td>\n",
              "      <td>NaN</td>\n",
              "      <td>NaN</td>\n",
              "      <td>NaN</td>\n",
              "      <td>1.0</td>\n",
              "      <td>Hacking/IT Incident</td>\n",
              "      <td>Other</td>\n",
              "      <td>No</td>\n",
              "    </tr>\n",
              "    <tr>\n",
              "      <th>4</th>\n",
              "      <td>TN</td>\n",
              "      <td>Healthcare Provider</td>\n",
              "      <td>1100</td>\n",
              "      <td>2016-07-11</td>\n",
              "      <td>NaN</td>\n",
              "      <td>NaN</td>\n",
              "      <td>NaN</td>\n",
              "      <td>NaN</td>\n",
              "      <td>NaN</td>\n",
              "      <td>NaN</td>\n",
              "      <td>NaN</td>\n",
              "      <td>1.0</td>\n",
              "      <td>Hacking/IT Incident</td>\n",
              "      <td>Other</td>\n",
              "      <td>No</td>\n",
              "    </tr>\n",
              "    <tr>\n",
              "      <th>...</th>\n",
              "      <td>...</td>\n",
              "      <td>...</td>\n",
              "      <td>...</td>\n",
              "      <td>...</td>\n",
              "      <td>...</td>\n",
              "      <td>...</td>\n",
              "      <td>...</td>\n",
              "      <td>...</td>\n",
              "      <td>...</td>\n",
              "      <td>...</td>\n",
              "      <td>...</td>\n",
              "      <td>...</td>\n",
              "      <td>...</td>\n",
              "      <td>...</td>\n",
              "      <td>...</td>\n",
              "    </tr>\n",
              "    <tr>\n",
              "      <th>1695</th>\n",
              "      <td>TX</td>\n",
              "      <td>NaN</td>\n",
              "      <td>NaN</td>\n",
              "      <td>2013-03-19</td>\n",
              "      <td>NaN</td>\n",
              "      <td>NaN</td>\n",
              "      <td>NaN</td>\n",
              "      <td>NaN</td>\n",
              "      <td>1.0</td>\n",
              "      <td>NaN</td>\n",
              "      <td>NaN</td>\n",
              "      <td>NaN</td>\n",
              "      <td>NaN</td>\n",
              "      <td>NaN</td>\n",
              "      <td>No</td>\n",
              "    </tr>\n",
              "    <tr>\n",
              "      <th>1696</th>\n",
              "      <td>CO</td>\n",
              "      <td>NaN</td>\n",
              "      <td>NaN</td>\n",
              "      <td>2011-07-15</td>\n",
              "      <td>NaN</td>\n",
              "      <td>NaN</td>\n",
              "      <td>1.0</td>\n",
              "      <td>NaN</td>\n",
              "      <td>NaN</td>\n",
              "      <td>NaN</td>\n",
              "      <td>NaN</td>\n",
              "      <td>NaN</td>\n",
              "      <td>NaN</td>\n",
              "      <td>NaN</td>\n",
              "      <td>No</td>\n",
              "    </tr>\n",
              "    <tr>\n",
              "      <th>1697</th>\n",
              "      <td>IL</td>\n",
              "      <td>NaN</td>\n",
              "      <td>NaN</td>\n",
              "      <td>2014-12-23</td>\n",
              "      <td>NaN</td>\n",
              "      <td>NaN</td>\n",
              "      <td>NaN</td>\n",
              "      <td>NaN</td>\n",
              "      <td>NaN</td>\n",
              "      <td>NaN</td>\n",
              "      <td>NaN</td>\n",
              "      <td>NaN</td>\n",
              "      <td>NaN</td>\n",
              "      <td>NaN</td>\n",
              "      <td>No</td>\n",
              "    </tr>\n",
              "    <tr>\n",
              "      <th>1698</th>\n",
              "      <td>CA</td>\n",
              "      <td>NaN</td>\n",
              "      <td>NaN</td>\n",
              "      <td>2012-02-15</td>\n",
              "      <td>NaN</td>\n",
              "      <td>NaN</td>\n",
              "      <td>NaN</td>\n",
              "      <td>NaN</td>\n",
              "      <td>NaN</td>\n",
              "      <td>NaN</td>\n",
              "      <td>NaN</td>\n",
              "      <td>NaN</td>\n",
              "      <td>NaN</td>\n",
              "      <td>NaN</td>\n",
              "      <td>No</td>\n",
              "    </tr>\n",
              "    <tr>\n",
              "      <th>1699</th>\n",
              "      <td>CA</td>\n",
              "      <td>NaN</td>\n",
              "      <td>NaN</td>\n",
              "      <td>2013-01-23</td>\n",
              "      <td>NaN</td>\n",
              "      <td>NaN</td>\n",
              "      <td>NaN</td>\n",
              "      <td>NaN</td>\n",
              "      <td>NaN</td>\n",
              "      <td>NaN</td>\n",
              "      <td>NaN</td>\n",
              "      <td>NaN</td>\n",
              "      <td>NaN</td>\n",
              "      <td>NaN</td>\n",
              "      <td>No</td>\n",
              "    </tr>\n",
              "  </tbody>\n",
              "</table>\n",
              "<p>1697 rows × 15 columns</p>\n",
              "</div>"
            ],
            "text/plain": [
              "     State  ... Business Associate Present\n",
              "0       OR  ...                         No\n",
              "1       FL  ...                        Yes\n",
              "2       IN  ...                         No\n",
              "3       CT  ...                         No\n",
              "4       TN  ...                         No\n",
              "...    ...  ...                        ...\n",
              "1695    TX  ...                         No\n",
              "1696    CO  ...                         No\n",
              "1697    IL  ...                         No\n",
              "1698    CA  ...                         No\n",
              "1699    CA  ...                         No\n",
              "\n",
              "[1697 rows x 15 columns]"
            ]
          },
          "metadata": {
            "tags": []
          },
          "execution_count": 21
        }
      ]
    },
    {
      "cell_type": "code",
      "metadata": {
        "id": "GCOAsCLFN2ts",
        "colab_type": "code",
        "colab": {}
      },
      "source": [
        "df = df.drop(['State','Breach Submission Date','Individuals Affected'], axis = 1)"
      ],
      "execution_count": 22,
      "outputs": []
    },
    {
      "cell_type": "code",
      "metadata": {
        "id": "bbbe__y3PUS-",
        "colab_type": "code",
        "colab": {
          "base_uri": "https://localhost:8080/",
          "height": 340
        },
        "outputId": "d69f0ce5-1b02-4e7c-a345-c50994365496"
      },
      "source": [
        "df.info()"
      ],
      "execution_count": 23,
      "outputs": [
        {
          "output_type": "stream",
          "text": [
            "<class 'pandas.core.frame.DataFrame'>\n",
            "Int64Index: 1697 entries, 0 to 1699\n",
            "Data columns (total 12 columns):\n",
            " #   Column                            Non-Null Count  Dtype  \n",
            "---  ------                            --------------  -----  \n",
            " 0   Covered Entity Type               1655 non-null   object \n",
            " 1   2009                              18 non-null     float64\n",
            " 2   2010                              197 non-null    float64\n",
            " 3   2011                              196 non-null    float64\n",
            " 4   2012                              207 non-null    float64\n",
            " 5   2013                              273 non-null    float64\n",
            " 6   2014                              293 non-null    float64\n",
            " 7   2015                              269 non-null    float64\n",
            " 8   2016                              239 non-null    float64\n",
            " 9   Type of Breach                    1683 non-null   object \n",
            " 10  Location of Breached Information  1686 non-null   object \n",
            " 11  Business Associate Present        1697 non-null   object \n",
            "dtypes: float64(8), object(4)\n",
            "memory usage: 172.4+ KB\n"
          ],
          "name": "stdout"
        }
      ]
    },
    {
      "cell_type": "code",
      "metadata": {
        "id": "u15rUCfLPpSY",
        "colab_type": "code",
        "colab": {
          "base_uri": "https://localhost:8080/",
          "height": 80
        },
        "outputId": "a08e687c-953c-4129-f760-403a577bd0e9"
      },
      "source": [
        "cnt = df.describe().loc[['count']]\n",
        "cnt"
      ],
      "execution_count": 24,
      "outputs": [
        {
          "output_type": "execute_result",
          "data": {
            "text/html": [
              "<div>\n",
              "<style scoped>\n",
              "    .dataframe tbody tr th:only-of-type {\n",
              "        vertical-align: middle;\n",
              "    }\n",
              "\n",
              "    .dataframe tbody tr th {\n",
              "        vertical-align: top;\n",
              "    }\n",
              "\n",
              "    .dataframe thead th {\n",
              "        text-align: right;\n",
              "    }\n",
              "</style>\n",
              "<table border=\"1\" class=\"dataframe\">\n",
              "  <thead>\n",
              "    <tr style=\"text-align: right;\">\n",
              "      <th></th>\n",
              "      <th>2009</th>\n",
              "      <th>2010</th>\n",
              "      <th>2011</th>\n",
              "      <th>2012</th>\n",
              "      <th>2013</th>\n",
              "      <th>2014</th>\n",
              "      <th>2015</th>\n",
              "      <th>2016</th>\n",
              "    </tr>\n",
              "  </thead>\n",
              "  <tbody>\n",
              "    <tr>\n",
              "      <th>count</th>\n",
              "      <td>18.0</td>\n",
              "      <td>197.0</td>\n",
              "      <td>196.0</td>\n",
              "      <td>207.0</td>\n",
              "      <td>273.0</td>\n",
              "      <td>293.0</td>\n",
              "      <td>269.0</td>\n",
              "      <td>239.0</td>\n",
              "    </tr>\n",
              "  </tbody>\n",
              "</table>\n",
              "</div>"
            ],
            "text/plain": [
              "       2009   2010   2011   2012   2013   2014   2015   2016\n",
              "count  18.0  197.0  196.0  207.0  273.0  293.0  269.0  239.0"
            ]
          },
          "metadata": {
            "tags": []
          },
          "execution_count": 24
        }
      ]
    },
    {
      "cell_type": "code",
      "metadata": {
        "id": "HfKW4bxVPryc",
        "colab_type": "code",
        "colab": {
          "base_uri": "https://localhost:8080/",
          "height": 300
        },
        "outputId": "f1677a0c-aaa8-4f69-e2f6-76abb3038f3a"
      },
      "source": [
        "cnt.plot(kind='bar')"
      ],
      "execution_count": 25,
      "outputs": [
        {
          "output_type": "execute_result",
          "data": {
            "text/plain": [
              "<matplotlib.axes._subplots.AxesSubplot at 0x7f1c3236c390>"
            ]
          },
          "metadata": {
            "tags": []
          },
          "execution_count": 25
        },
        {
          "output_type": "display_data",
          "data": {
            "image/png": "[encoded data removed]",
            "text/plain": [
              "<Figure size 432x288 with 1 Axes>"
            ]
          },
          "metadata": {
            "tags": [],
            "needs_background": "light"
          }
        }
      ]
    },
    {
      "cell_type": "markdown",
      "metadata": {
        "id": "nvWbi-8WRTFe",
        "colab_type": "text"
      },
      "source": [
        "### Since categories in columns *'Types of Breach'* and *Location of Breached Information* are huge. So, I merged categories for ease"
      ]
    },
    {
      "cell_type": "markdown",
      "metadata": {
        "id": "dFirX7SURyGl",
        "colab_type": "text"
      },
      "source": [
        "##### *For column 'Types of Breach' :*"
      ]
    },
    {
      "cell_type": "code",
      "metadata": {
        "id": "7oKhD7mrREhZ",
        "colab_type": "code",
        "colab": {}
      },
      "source": [
        "df['Type of Breach'].replace(['Theft','Loss','Other','Loss, Theft','Unknown','Other, Theft','Other, Unknown','Loss, Other','Loss, Unknown','Loss, Other, Theft'],'Loss, Theft, Other, Unknown',inplace=True)\n",
        "df['Type of Breach'].replace(['Unauthorized Access/Disclosure','Theft, Unauthorized Access/Disclosure','Other, Unauthorized Access/Disclosure','Loss, Unauthorized Access/Disclosure','Other, Theft, Unauthorized Access/Disclosure','Improper Disposal, Unauthorized Access/Disclosure','Improper Disposal, Theft, Unauthorized Access/Disclosure','Loss, Unauthorized Access/Disclosure, Unknown'],'Unauthorized Access/Disclosure, Theft, Other, Loss,Improper Disposal',inplace=True)\n",
        "df['Type of Breach'].replace(['Hacking/IT Incident','Hacking/IT Incident, Unauthorized Access/Disclosure','Hacking/IT Incident, Theft, Unauthorized Access/Disclosure','Hacking/IT Incident, Other','Hacking/IT Incident, Other, Unauthorized Access/Disclosure','Hacking/IT Incident, Theft'],'Hacking/IT Incident, Unauthorized Access/Disclosure, Theft, Other',inplace=True)\n",
        "df['Type of Breach'].replace(['Improper Disposal','Improper Disposal, Loss','Improper Disposal, Loss, Theft','Improper Disposal, Theft'],\"Improper Disposal, Loss, Theft\",inplace=True)"
      ],
      "execution_count": 26,
      "outputs": []
    },
    {
      "cell_type": "code",
      "metadata": {
        "id": "qdBSn6NlSS_U",
        "colab_type": "code",
        "colab": {
          "base_uri": "https://localhost:8080/",
          "height": 102
        },
        "outputId": "c9b97f31-e0c9-4755-f655-e4420ba53c31"
      },
      "source": [
        "df['Type of Breach'].value_counts()"
      ],
      "execution_count": 27,
      "outputs": [
        {
          "output_type": "execute_result",
          "data": {
            "text/plain": [
              "Loss, Theft, Other, Unknown                                             952\n",
              "Unauthorized Access/Disclosure, Theft, Other, Loss,Improper Disposal    438\n",
              "Hacking/IT Incident, Unauthorized Access/Disclosure, Theft, Other       235\n",
              "Improper Disposal, Loss, Theft                                           58\n",
              "Name: Type of Breach, dtype: int64"
            ]
          },
          "metadata": {
            "tags": []
          },
          "execution_count": 27
        }
      ]
    },
    {
      "cell_type": "code",
      "metadata": {
        "id": "v3TusZgoSbJN",
        "colab_type": "code",
        "colab": {
          "base_uri": "https://localhost:8080/",
          "height": 803
        },
        "outputId": "e835e622-ddfe-4174-8b62-badf4e4a0a7a"
      },
      "source": [
        "plt.figure(figsize=(10,10))\n",
        "gph=sns.countplot(x=df[\"Type of Breach\"],data=df)\n",
        "for axes in gph.axes.flat:\n",
        "    _ = axes.set_xticklabels(axes.get_xticklabels(), rotation=90)"
      ],
      "execution_count": 28,
      "outputs": [
        {
          "output_type": "error",
          "ename": "AttributeError",
          "evalue": "ignored",
          "traceback": [
            "\u001b[0;31m---------------------------------------------------------------------------\u001b[0m",
            "\u001b[0;31mAttributeError\u001b[0m                            Traceback (most recent call last)",
            "\u001b[0;32m<ipython-input-28-3c9da4a6adeb>\u001b[0m in \u001b[0;36m<module>\u001b[0;34m()\u001b[0m\n\u001b[1;32m      1\u001b[0m \u001b[0mplt\u001b[0m\u001b[0;34m.\u001b[0m\u001b[0mfigure\u001b[0m\u001b[0;34m(\u001b[0m\u001b[0mfigsize\u001b[0m\u001b[0;34m=\u001b[0m\u001b[0;34m(\u001b[0m\u001b[0;36m10\u001b[0m\u001b[0;34m,\u001b[0m\u001b[0;36m10\u001b[0m\u001b[0;34m)\u001b[0m\u001b[0;34m)\u001b[0m\u001b[0;34m\u001b[0m\u001b[0;34m\u001b[0m\u001b[0m\n\u001b[1;32m      2\u001b[0m \u001b[0mgph\u001b[0m\u001b[0;34m=\u001b[0m\u001b[0msns\u001b[0m\u001b[0;34m.\u001b[0m\u001b[0mcountplot\u001b[0m\u001b[0;34m(\u001b[0m\u001b[0mx\u001b[0m\u001b[0;34m=\u001b[0m\u001b[0mdf\u001b[0m\u001b[0;34m[\u001b[0m\u001b[0;34m\"Type of Breach\"\u001b[0m\u001b[0;34m]\u001b[0m\u001b[0;34m,\u001b[0m\u001b[0mdata\u001b[0m\u001b[0;34m=\u001b[0m\u001b[0mdf\u001b[0m\u001b[0;34m)\u001b[0m\u001b[0;34m\u001b[0m\u001b[0;34m\u001b[0m\u001b[0m\n\u001b[0;32m----> 3\u001b[0;31m \u001b[0;32mfor\u001b[0m \u001b[0maxes\u001b[0m \u001b[0;32min\u001b[0m \u001b[0mgph\u001b[0m\u001b[0;34m.\u001b[0m\u001b[0maxes\u001b[0m\u001b[0;34m.\u001b[0m\u001b[0mflat\u001b[0m\u001b[0;34m:\u001b[0m\u001b[0;34m\u001b[0m\u001b[0;34m\u001b[0m\u001b[0m\n\u001b[0m\u001b[1;32m      4\u001b[0m     \u001b[0m_\u001b[0m \u001b[0;34m=\u001b[0m \u001b[0maxes\u001b[0m\u001b[0;34m.\u001b[0m\u001b[0mset_xticklabels\u001b[0m\u001b[0;34m(\u001b[0m\u001b[0maxes\u001b[0m\u001b[0;34m.\u001b[0m\u001b[0mget_xticklabels\u001b[0m\u001b[0;34m(\u001b[0m\u001b[0;34m)\u001b[0m\u001b[0;34m,\u001b[0m \u001b[0mrotation\u001b[0m\u001b[0;34m=\u001b[0m\u001b[0;36m90\u001b[0m\u001b[0;34m)\u001b[0m\u001b[0;34m\u001b[0m\u001b[0;34m\u001b[0m\u001b[0m\n",
            "\u001b[0;31mAttributeError\u001b[0m: 'AxesSubplot' object has no attribute 'flat'"
          ]
        },
        {
          "output_type": "display_data",
          "data": {
            "image/png": "[encoded data removed]",
            "text/plain": [
              "<Figure size 720x720 with 1 Axes>"
            ]
          },
          "metadata": {
            "tags": [],
            "needs_background": "light"
          }
        }
      ]
    },
    {
      "cell_type": "markdown",
      "metadata": {
        "id": "J9XyqaQKTrCX",
        "colab_type": "text"
      },
      "source": [
        "##### *For column 'Location of Breached Information' :*"
      ]
    },
    {
      "cell_type": "code",
      "metadata": {
        "id": "0ulOKq36SocT",
        "colab_type": "code",
        "colab": {}
      },
      "source": [
        "df['Location of Breached Information'].replace(['Desktop Computer', 'Desktop Computer, Electronic Medical Record', 'Desktop Computer, Electronic Medical Record, Email, Laptop, Network Server', 'Desktop Computer, Electronic Medical Record, Email, Laptop, Network Server, Other Portable Electronic Device', 'Desktop Computer, Electronic Medical Record, Email, Laptop, Network Server, Other, Other Portable Electronic Device', 'Desktop Computer, Electronic Medical Record, Email, Laptop, Network Server, Other, Other Portable Electronic Device, Paper/Films', 'Desktop Computer, Electronic Medical Record, Email, Network Server', 'Desktop Computer, Electronic Medical Record, Email, Network Server, Paper/Films', 'Desktop Computer, Electronic Medical Record, Laptop', 'Desktop Computer, Electronic Medical Record, Network Server', 'Desktop Computer, Electronic Medical Record, Other', 'Desktop Computer, Email', 'Desktop Computer, Email, Laptop, Network Server', 'Desktop Computer, Email, Laptop, Network Server, Other Portable Electronic Device', 'Desktop Computer, Email, Laptop, Network Server, Other, Other Portable Electronic Device', 'Desktop Computer, Email, Network Server', 'Desktop Computer, Laptop', 'Desktop Computer, Laptop, Network Server', 'Desktop Computer, Laptop, Network Server, Other Portable Electronic Device', 'Desktop Computer, Laptop, Other Portable Electronic Device', 'Desktop Computer, Laptop, Other, Other Portable Electronic Device', 'Desktop Computer, Laptop, Paper/Films', 'Desktop Computer, Network Server', 'Desktop Computer, Network Server, Other, Other Portable Electronic Device', 'Desktop Computer, Network Server, Paper/Films', 'Desktop Computer, Other', 'Desktop Computer, Other Portable Electronic Device', 'Desktop Computer, Other Portable Electronic Device, Paper/Films', 'Desktop Computer, Other, Other Portable Electronic Device', 'Desktop Computer, Other, Other Portable Electronic Device, Paper/Films', 'Desktop Computer, Paper/Films'],'Desktop Computer, Electronic Medical Record, Email, Laptop, Network Server, Other, Other Portable Electronic Device, Paper/Films',inplace=True)\n",
        "df['Location of Breached Information'].replace(['Electronic Medical Record', 'Electronic Medical Record, Laptop', 'Electronic Medical Record, Laptop, Network Server, Other, Other Portable Electronic Device', 'Electronic Medical Record, Network Server', 'Electronic Medical Record, Other', 'Electronic Medical Record, Other, Other Portable Electronic Device', 'Electronic Medical Record, Paper/Films'],'Electronic Medical Record, Laptop, Network Server, Other, Other Electronic Portable Device, Paper/Films',inplace=True)\n",
        "df['Location of Breached Information'].replace(['Email', 'Email, Laptop', 'Email, Laptop, Network Server', 'Email, Laptop, Other Portable Electronic Device', 'Email, Laptop, Paper/Films', 'Email, Network Server', 'Email, Network Server, Other Portable Electronic Device', 'Email, Other', 'Email, Other Portable Electronic Device'],'Email, Laptop, Network Server, Other, Other Portable Electronic Device, Paper/Films',inplace=True)\n",
        "df['Location of Breached Information'].replace(['Laptop', 'Laptop, Network Server', 'Laptop, Other', 'Laptop, Other Portable Electronic Device', 'Laptop, Other Portable Electronic Device, Paper/Films', 'Laptop, Paper/Films'],'Laptop, Network Server, Other, Other Portable Electronic Device, Paper/Films',inplace=True)\n",
        "df['Location of Breached Information'].replace(['Network Server', 'Network Server, Other', 'Network Server, Paper/Films'],'Network Server, Other, Paper/Films',inplace=True)\n",
        "df['Location of Breached Information'].replace(['Other','Other, Other Portable Electronic Device', 'Other, Paper/Films'],'Other, Other Portable Electronic Device, Paper/Films',inplace=True)\n",
        "df['Location of Breached Information'].replace(['Other Portable Electronic Device', 'Other Portable Electronic Device, Paper/Films'],'Other Portable Electronic Device, Paper/Films',inplace=True)\n"
      ],
      "execution_count": 29,
      "outputs": []
    },
    {
      "cell_type": "code",
      "metadata": {
        "id": "JVaXcngSUc9w",
        "colab_type": "code",
        "colab": {
          "base_uri": "https://localhost:8080/",
          "height": 925
        },
        "outputId": "1006a0a1-893f-4fe9-c34b-705808b14664"
      },
      "source": [
        "df['Location of Breached Information'].value_counts().plot(kind='bar')"
      ],
      "execution_count": 30,
      "outputs": [
        {
          "output_type": "execute_result",
          "data": {
            "text/plain": [
              "<matplotlib.axes._subplots.AxesSubplot at 0x7f1c36502748>"
            ]
          },
          "metadata": {
            "tags": []
          },
          "execution_count": 30
        },
        {
          "output_type": "display_data",
          "data": {
            "image/png": "[encoded data removed]",
            "text/plain": [
              "<Figure size 432x288 with 1 Axes>"
            ]
          },
          "metadata": {
            "tags": [],
            "needs_background": "light"
          }
        }
      ]
    },
    {
      "cell_type": "markdown",
      "metadata": {
        "id": "a1zdQeMzUnbt",
        "colab_type": "text"
      },
      "source": [
        "### Renaming Label as they are too large"
      ]
    },
    {
      "cell_type": "markdown",
      "metadata": {
        "id": "tRRyWk0rY9Y0",
        "colab_type": "text"
      },
      "source": [
        "#### Abbrevations\n",
        "\n",
        "\n",
        "*   Desktop Computer ---> D\n",
        "* Electronic Medical Record ---> E\n",
        "* Email ---> e\n",
        "* Laptop ---> L\n",
        "* Network Server ---> N\n",
        "* Other ---> O\n",
        "* Other Portable Electronic Device ---> o\n",
        "* Paper/Films ---> P"
      ]
    },
    {
      "cell_type": "markdown",
      "metadata": {
        "id": "22wx1GErYnSN",
        "colab_type": "text"
      },
      "source": [
        "##### *For column 'Types of Breach' :*"
      ]
    },
    {
      "cell_type": "code",
      "metadata": {
        "id": "vvgrJcfdVlI-",
        "colab_type": "code",
        "colab": {}
      },
      "source": [
        "df.replace('Loss, Theft, Other, Unknown','LTOU',inplace=True)\n",
        "df.replace('Unauthorized Access/Disclosure, Theft, Other, Loss,Improper Disposal','UA/DTOLIU',inplace=True)\n",
        "df.replace('Hacking/IT Incident, Unauthorized Access/Disclosure, Theft, Other','HUA/DTO',inplace=True)\n",
        "df.replace('Improper Disposal, Loss, Theft','ILT',inplace=True)"
      ],
      "execution_count": 31,
      "outputs": []
    },
    {
      "cell_type": "markdown",
      "metadata": {
        "id": "Esh9ZXXiY0Ib",
        "colab_type": "text"
      },
      "source": [
        "##### *For column 'Location of Breached Information' :*"
      ]
    },
    {
      "cell_type": "code",
      "metadata": {
        "id": "oHHZmFFKV4XC",
        "colab_type": "code",
        "colab": {}
      },
      "source": [
        "df.replace('Desktop Computer, Electronic Medical Record, Email, Laptop, Network Server, Other, Other Portable Electronic Device, Paper/Films','DEeLNOoP',inplace=True)\n",
        "df.replace('Electronic Medical Record, Laptop, Network Server, Other, Other Electronic Portable Device, Paper/Films','ELNOoP',inplace=True)\n",
        "df.replace('Email, Laptop, Network Server, Other, Other Portable Electronic Device, Paper/Films','eLNOoP',inplace=True)\n",
        "df.replace('Laptop, Network Server, Other, Other Portable Electronic Device, Paper/Films','LNOoP',inplace=True)\n",
        "df.replace('Network Server, Other, Paper/Films','NOP',inplace=True)\n",
        "df.replace('Other, Other Portable Electronic Device, Paper/Films','OoP',inplace=True)\n",
        "df.replace('Other Portable Electronic Device, Paper/Films','oP',inplace=True)\n",
        "df.replace('Paper/Films','P',inplace=True)"
      ],
      "execution_count": 32,
      "outputs": []
    },
    {
      "cell_type": "markdown",
      "metadata": {
        "id": "XdfSZp2danMN",
        "colab_type": "text"
      },
      "source": [
        "### Filling Missing Values in columns : \n",
        "##### Filling the missing values with the mode of that column:"
      ]
    },
    {
      "cell_type": "code",
      "metadata": {
        "id": "iFws0IU7Y7u0",
        "colab_type": "code",
        "colab": {
          "base_uri": "https://localhost:8080/",
          "height": 238
        },
        "outputId": "38b2ff79-ad85-4863-e62d-1b45a7b9ae47"
      },
      "source": [
        "df.isnull().sum()"
      ],
      "execution_count": 33,
      "outputs": [
        {
          "output_type": "execute_result",
          "data": {
            "text/plain": [
              "Covered Entity Type                   42\n",
              "2009                                1679\n",
              "2010                                1500\n",
              "2011                                1501\n",
              "2012                                1490\n",
              "2013                                1424\n",
              "2014                                1404\n",
              "2015                                1428\n",
              "2016                                1458\n",
              "Type of Breach                        14\n",
              "Location of Breached Information      11\n",
              "Business Associate Present             0\n",
              "dtype: int64"
            ]
          },
          "metadata": {
            "tags": []
          },
          "execution_count": 33
        }
      ]
    },
    {
      "cell_type": "code",
      "metadata": {
        "id": "q3UXgk0wcFqa",
        "colab_type": "code",
        "colab": {}
      },
      "source": [
        "m1 = df['Covered Entity Type'].mode()[0]\n",
        "df['Covered Entity Type'].fillna(m1,inplace=True)"
      ],
      "execution_count": 34,
      "outputs": []
    },
    {
      "cell_type": "code",
      "metadata": {
        "id": "N2a1TW8mcP3k",
        "colab_type": "code",
        "colab": {}
      },
      "source": [
        "m2 = df['Type of Breach'].mode()[0]\n",
        "df['Type of Breach'].fillna(m2,inplace=True)"
      ],
      "execution_count": 35,
      "outputs": []
    },
    {
      "cell_type": "code",
      "metadata": {
        "id": "h6fRV7GrdDhi",
        "colab_type": "code",
        "colab": {}
      },
      "source": [
        "m3 = df['Location of Breached Information'].mode()[0]\n",
        "df['Location of Breached Information'].fillna(m3,inplace=True)"
      ],
      "execution_count": 36,
      "outputs": []
    },
    {
      "cell_type": "markdown",
      "metadata": {
        "id": "gFo4vsb5fSDI",
        "colab_type": "text"
      },
      "source": [
        "### One Hot Encoding\n",
        "#####Since the dataset is of Categorical Data we have to encode them wit some numerical labels. To achieve this we can use:\n",
        "#####   1. Dummy Variables\n",
        "#####   2. One Hot Encoding\n",
        "#####Here, we will follow One Hot Encoding"
      ]
    },
    {
      "cell_type": "code",
      "metadata": {
        "id": "jpGgGM2GdQRA",
        "colab_type": "code",
        "colab": {}
      },
      "source": [
        "from sklearn.preprocessing import LabelEncoder\n",
        "le = LabelEncoder()"
      ],
      "execution_count": 37,
      "outputs": []
    },
    {
      "cell_type": "code",
      "metadata": {
        "id": "g3b6vX58fnSx",
        "colab_type": "code",
        "colab": {
          "base_uri": "https://localhost:8080/",
          "height": 436
        },
        "outputId": "c4220b11-837f-4262-d06a-d9c70310e178"
      },
      "source": [
        "dfle = df\n",
        "dfle['Covered Entity Type'] = le.fit_transform(dfle['Covered Entity Type'])\n",
        "dfle['Type of Breach'] = le.fit_transform(dfle['Type of Breach'])\n",
        "dfle['Location of Breached Information'] = le.fit_transform(dfle['Location of Breached Information'])\n",
        "dfle['Business Associate Present'] = le.fit_transform(dfle['Business Associate Present'])\n",
        "dfle"
      ],
      "execution_count": 38,
      "outputs": [
        {
          "output_type": "execute_result",
          "data": {
            "text/html": [
              "<div>\n",
              "<style scoped>\n",
              "    .dataframe tbody tr th:only-of-type {\n",
              "        vertical-align: middle;\n",
              "    }\n",
              "\n",
              "    .dataframe tbody tr th {\n",
              "        vertical-align: top;\n",
              "    }\n",
              "\n",
              "    .dataframe thead th {\n",
              "        text-align: right;\n",
              "    }\n",
              "</style>\n",
              "<table border=\"1\" class=\"dataframe\">\n",
              "  <thead>\n",
              "    <tr style=\"text-align: right;\">\n",
              "      <th></th>\n",
              "      <th>Covered Entity Type</th>\n",
              "      <th>2009</th>\n",
              "      <th>2010</th>\n",
              "      <th>2011</th>\n",
              "      <th>2012</th>\n",
              "      <th>2013</th>\n",
              "      <th>2014</th>\n",
              "      <th>2015</th>\n",
              "      <th>2016</th>\n",
              "      <th>Type of Breach</th>\n",
              "      <th>Location of Breached Information</th>\n",
              "      <th>Business Associate Present</th>\n",
              "    </tr>\n",
              "  </thead>\n",
              "  <tbody>\n",
              "    <tr>\n",
              "      <th>0</th>\n",
              "      <td>3</td>\n",
              "      <td>NaN</td>\n",
              "      <td>NaN</td>\n",
              "      <td>NaN</td>\n",
              "      <td>NaN</td>\n",
              "      <td>NaN</td>\n",
              "      <td>NaN</td>\n",
              "      <td>1.0</td>\n",
              "      <td>NaN</td>\n",
              "      <td>0</td>\n",
              "      <td>4</td>\n",
              "      <td>0</td>\n",
              "    </tr>\n",
              "    <tr>\n",
              "      <th>1</th>\n",
              "      <td>0</td>\n",
              "      <td>NaN</td>\n",
              "      <td>NaN</td>\n",
              "      <td>NaN</td>\n",
              "      <td>NaN</td>\n",
              "      <td>NaN</td>\n",
              "      <td>1.0</td>\n",
              "      <td>NaN</td>\n",
              "      <td>NaN</td>\n",
              "      <td>0</td>\n",
              "      <td>4</td>\n",
              "      <td>1</td>\n",
              "    </tr>\n",
              "    <tr>\n",
              "      <th>2</th>\n",
              "      <td>3</td>\n",
              "      <td>NaN</td>\n",
              "      <td>NaN</td>\n",
              "      <td>NaN</td>\n",
              "      <td>1.0</td>\n",
              "      <td>NaN</td>\n",
              "      <td>NaN</td>\n",
              "      <td>NaN</td>\n",
              "      <td>NaN</td>\n",
              "      <td>0</td>\n",
              "      <td>4</td>\n",
              "      <td>0</td>\n",
              "    </tr>\n",
              "    <tr>\n",
              "      <th>3</th>\n",
              "      <td>1</td>\n",
              "      <td>NaN</td>\n",
              "      <td>NaN</td>\n",
              "      <td>NaN</td>\n",
              "      <td>NaN</td>\n",
              "      <td>NaN</td>\n",
              "      <td>NaN</td>\n",
              "      <td>NaN</td>\n",
              "      <td>1.0</td>\n",
              "      <td>0</td>\n",
              "      <td>4</td>\n",
              "      <td>0</td>\n",
              "    </tr>\n",
              "    <tr>\n",
              "      <th>4</th>\n",
              "      <td>3</td>\n",
              "      <td>NaN</td>\n",
              "      <td>NaN</td>\n",
              "      <td>NaN</td>\n",
              "      <td>NaN</td>\n",
              "      <td>NaN</td>\n",
              "      <td>NaN</td>\n",
              "      <td>NaN</td>\n",
              "      <td>1.0</td>\n",
              "      <td>0</td>\n",
              "      <td>4</td>\n",
              "      <td>0</td>\n",
              "    </tr>\n",
              "    <tr>\n",
              "      <th>...</th>\n",
              "      <td>...</td>\n",
              "      <td>...</td>\n",
              "      <td>...</td>\n",
              "      <td>...</td>\n",
              "      <td>...</td>\n",
              "      <td>...</td>\n",
              "      <td>...</td>\n",
              "      <td>...</td>\n",
              "      <td>...</td>\n",
              "      <td>...</td>\n",
              "      <td>...</td>\n",
              "      <td>...</td>\n",
              "    </tr>\n",
              "    <tr>\n",
              "      <th>1695</th>\n",
              "      <td>3</td>\n",
              "      <td>NaN</td>\n",
              "      <td>NaN</td>\n",
              "      <td>NaN</td>\n",
              "      <td>NaN</td>\n",
              "      <td>1.0</td>\n",
              "      <td>NaN</td>\n",
              "      <td>NaN</td>\n",
              "      <td>NaN</td>\n",
              "      <td>2</td>\n",
              "      <td>5</td>\n",
              "      <td>0</td>\n",
              "    </tr>\n",
              "    <tr>\n",
              "      <th>1696</th>\n",
              "      <td>3</td>\n",
              "      <td>NaN</td>\n",
              "      <td>NaN</td>\n",
              "      <td>1.0</td>\n",
              "      <td>NaN</td>\n",
              "      <td>NaN</td>\n",
              "      <td>NaN</td>\n",
              "      <td>NaN</td>\n",
              "      <td>NaN</td>\n",
              "      <td>2</td>\n",
              "      <td>5</td>\n",
              "      <td>0</td>\n",
              "    </tr>\n",
              "    <tr>\n",
              "      <th>1697</th>\n",
              "      <td>3</td>\n",
              "      <td>NaN</td>\n",
              "      <td>NaN</td>\n",
              "      <td>NaN</td>\n",
              "      <td>NaN</td>\n",
              "      <td>NaN</td>\n",
              "      <td>NaN</td>\n",
              "      <td>NaN</td>\n",
              "      <td>NaN</td>\n",
              "      <td>2</td>\n",
              "      <td>5</td>\n",
              "      <td>0</td>\n",
              "    </tr>\n",
              "    <tr>\n",
              "      <th>1698</th>\n",
              "      <td>3</td>\n",
              "      <td>NaN</td>\n",
              "      <td>NaN</td>\n",
              "      <td>NaN</td>\n",
              "      <td>NaN</td>\n",
              "      <td>NaN</td>\n",
              "      <td>NaN</td>\n",
              "      <td>NaN</td>\n",
              "      <td>NaN</td>\n",
              "      <td>2</td>\n",
              "      <td>5</td>\n",
              "      <td>0</td>\n",
              "    </tr>\n",
              "    <tr>\n",
              "      <th>1699</th>\n",
              "      <td>3</td>\n",
              "      <td>NaN</td>\n",
              "      <td>NaN</td>\n",
              "      <td>NaN</td>\n",
              "      <td>NaN</td>\n",
              "      <td>NaN</td>\n",
              "      <td>NaN</td>\n",
              "      <td>NaN</td>\n",
              "      <td>NaN</td>\n",
              "      <td>2</td>\n",
              "      <td>5</td>\n",
              "      <td>0</td>\n",
              "    </tr>\n",
              "  </tbody>\n",
              "</table>\n",
              "<p>1697 rows × 12 columns</p>\n",
              "</div>"
            ],
            "text/plain": [
              "      Covered Entity Type  ...  Business Associate Present\n",
              "0                       3  ...                           0\n",
              "1                       0  ...                           1\n",
              "2                       3  ...                           0\n",
              "3                       1  ...                           0\n",
              "4                       3  ...                           0\n",
              "...                   ...  ...                         ...\n",
              "1695                    3  ...                           0\n",
              "1696                    3  ...                           0\n",
              "1697                    3  ...                           0\n",
              "1698                    3  ...                           0\n",
              "1699                    3  ...                           0\n",
              "\n",
              "[1697 rows x 12 columns]"
            ]
          },
          "metadata": {
            "tags": []
          },
          "execution_count": 38
        }
      ]
    },
    {
      "cell_type": "code",
      "metadata": {
        "id": "mo5RuxHuf9do",
        "colab_type": "code",
        "colab": {
          "base_uri": "https://localhost:8080/",
          "height": 419
        },
        "outputId": "a8eee233-daa1-4a4e-cc09-358348c26bfb"
      },
      "source": [
        "dfle.drop([2009,2010,2011,2012,2013,2014,2015,2016],axis=1)\n",
        "\n",
        "#Dropped these columns for ease of the model"
      ],
      "execution_count": 39,
      "outputs": [
        {
          "output_type": "execute_result",
          "data": {
            "text/html": [
              "<div>\n",
              "<style scoped>\n",
              "    .dataframe tbody tr th:only-of-type {\n",
              "        vertical-align: middle;\n",
              "    }\n",
              "\n",
              "    .dataframe tbody tr th {\n",
              "        vertical-align: top;\n",
              "    }\n",
              "\n",
              "    .dataframe thead th {\n",
              "        text-align: right;\n",
              "    }\n",
              "</style>\n",
              "<table border=\"1\" class=\"dataframe\">\n",
              "  <thead>\n",
              "    <tr style=\"text-align: right;\">\n",
              "      <th></th>\n",
              "      <th>Covered Entity Type</th>\n",
              "      <th>Type of Breach</th>\n",
              "      <th>Location of Breached Information</th>\n",
              "      <th>Business Associate Present</th>\n",
              "    </tr>\n",
              "  </thead>\n",
              "  <tbody>\n",
              "    <tr>\n",
              "      <th>0</th>\n",
              "      <td>3</td>\n",
              "      <td>0</td>\n",
              "      <td>4</td>\n",
              "      <td>0</td>\n",
              "    </tr>\n",
              "    <tr>\n",
              "      <th>1</th>\n",
              "      <td>0</td>\n",
              "      <td>0</td>\n",
              "      <td>4</td>\n",
              "      <td>1</td>\n",
              "    </tr>\n",
              "    <tr>\n",
              "      <th>2</th>\n",
              "      <td>3</td>\n",
              "      <td>0</td>\n",
              "      <td>4</td>\n",
              "      <td>0</td>\n",
              "    </tr>\n",
              "    <tr>\n",
              "      <th>3</th>\n",
              "      <td>1</td>\n",
              "      <td>0</td>\n",
              "      <td>4</td>\n",
              "      <td>0</td>\n",
              "    </tr>\n",
              "    <tr>\n",
              "      <th>4</th>\n",
              "      <td>3</td>\n",
              "      <td>0</td>\n",
              "      <td>4</td>\n",
              "      <td>0</td>\n",
              "    </tr>\n",
              "    <tr>\n",
              "      <th>...</th>\n",
              "      <td>...</td>\n",
              "      <td>...</td>\n",
              "      <td>...</td>\n",
              "      <td>...</td>\n",
              "    </tr>\n",
              "    <tr>\n",
              "      <th>1695</th>\n",
              "      <td>3</td>\n",
              "      <td>2</td>\n",
              "      <td>5</td>\n",
              "      <td>0</td>\n",
              "    </tr>\n",
              "    <tr>\n",
              "      <th>1696</th>\n",
              "      <td>3</td>\n",
              "      <td>2</td>\n",
              "      <td>5</td>\n",
              "      <td>0</td>\n",
              "    </tr>\n",
              "    <tr>\n",
              "      <th>1697</th>\n",
              "      <td>3</td>\n",
              "      <td>2</td>\n",
              "      <td>5</td>\n",
              "      <td>0</td>\n",
              "    </tr>\n",
              "    <tr>\n",
              "      <th>1698</th>\n",
              "      <td>3</td>\n",
              "      <td>2</td>\n",
              "      <td>5</td>\n",
              "      <td>0</td>\n",
              "    </tr>\n",
              "    <tr>\n",
              "      <th>1699</th>\n",
              "      <td>3</td>\n",
              "      <td>2</td>\n",
              "      <td>5</td>\n",
              "      <td>0</td>\n",
              "    </tr>\n",
              "  </tbody>\n",
              "</table>\n",
              "<p>1697 rows × 4 columns</p>\n",
              "</div>"
            ],
            "text/plain": [
              "      Covered Entity Type  ...  Business Associate Present\n",
              "0                       3  ...                           0\n",
              "1                       0  ...                           1\n",
              "2                       3  ...                           0\n",
              "3                       1  ...                           0\n",
              "4                       3  ...                           0\n",
              "...                   ...  ...                         ...\n",
              "1695                    3  ...                           0\n",
              "1696                    3  ...                           0\n",
              "1697                    3  ...                           0\n",
              "1698                    3  ...                           0\n",
              "1699                    3  ...                           0\n",
              "\n",
              "[1697 rows x 4 columns]"
            ]
          },
          "metadata": {
            "tags": []
          },
          "execution_count": 39
        }
      ]
    },
    {
      "cell_type": "code",
      "metadata": {
        "id": "IjNcCmv1hwyq",
        "colab_type": "code",
        "colab": {
          "base_uri": "https://localhost:8080/",
          "height": 136
        },
        "outputId": "d273d305-a8ea-42f1-b4b4-2eba338f7b94"
      },
      "source": [
        "X = dfle[['Covered Entity Type','Type of Breach','Location of Breached Information']].values\n",
        "X"
      ],
      "execution_count": 40,
      "outputs": [
        {
          "output_type": "execute_result",
          "data": {
            "text/plain": [
              "array([[3, 0, 4],\n",
              "       [0, 0, 4],\n",
              "       [3, 0, 4],\n",
              "       ...,\n",
              "       [3, 2, 5],\n",
              "       [3, 2, 5],\n",
              "       [3, 2, 5]])"
            ]
          },
          "metadata": {
            "tags": []
          },
          "execution_count": 40
        }
      ]
    },
    {
      "cell_type": "code",
      "metadata": {
        "id": "HudwSNTYildQ",
        "colab_type": "code",
        "colab": {
          "base_uri": "https://localhost:8080/",
          "height": 221
        },
        "outputId": "ab1073a6-514c-44df-d212-76afd233c9c3"
      },
      "source": [
        "y = dfle['Business Associate Present']\n",
        "y"
      ],
      "execution_count": 41,
      "outputs": [
        {
          "output_type": "execute_result",
          "data": {
            "text/plain": [
              "0       0\n",
              "1       1\n",
              "2       0\n",
              "3       0\n",
              "4       0\n",
              "       ..\n",
              "1695    0\n",
              "1696    0\n",
              "1697    0\n",
              "1698    0\n",
              "1699    0\n",
              "Name: Business Associate Present, Length: 1697, dtype: int64"
            ]
          },
          "metadata": {
            "tags": []
          },
          "execution_count": 41
        }
      ]
    },
    {
      "cell_type": "code",
      "metadata": {
        "id": "_Maj4CubixDP",
        "colab_type": "code",
        "colab": {}
      },
      "source": [
        "from sklearn.preprocessing import OneHotEncoder\n",
        "ohe = OneHotEncoder(categories='auto')"
      ],
      "execution_count": 42,
      "outputs": []
    },
    {
      "cell_type": "code",
      "metadata": {
        "id": "mYmJ9NHqlmTB",
        "colab_type": "code",
        "colab": {}
      },
      "source": [
        "pd.set_option('display.max_rows', 10)"
      ],
      "execution_count": 43,
      "outputs": []
    },
    {
      "cell_type": "code",
      "metadata": {
        "id": "XBtOrKi5jG_y",
        "colab_type": "code",
        "colab": {
          "base_uri": "https://localhost:8080/",
          "height": 136
        },
        "outputId": "2af5c24b-d339-418a-b71f-67cb168df0b4"
      },
      "source": [
        "X=ohe.fit_transform(X).toarray()\n",
        "X"
      ],
      "execution_count": 44,
      "outputs": [
        {
          "output_type": "execute_result",
          "data": {
            "text/plain": [
              "array([[0., 0., 0., ..., 0., 0., 0.],\n",
              "       [1., 0., 0., ..., 0., 0., 0.],\n",
              "       [0., 0., 0., ..., 0., 0., 0.],\n",
              "       ...,\n",
              "       [0., 0., 0., ..., 1., 0., 0.],\n",
              "       [0., 0., 0., ..., 1., 0., 0.],\n",
              "       [0., 0., 0., ..., 1., 0., 0.]])"
            ]
          },
          "metadata": {
            "tags": []
          },
          "execution_count": 44
        }
      ]
    },
    {
      "cell_type": "code",
      "metadata": {
        "id": "uxhHw1vhl5-U",
        "colab_type": "code",
        "colab": {
          "base_uri": "https://localhost:8080/",
          "height": 34
        },
        "outputId": "56aa426f-3d77-4af3-e54a-7f97a96a8f49"
      },
      "source": [
        "X.shape"
      ],
      "execution_count": 45,
      "outputs": [
        {
          "output_type": "execute_result",
          "data": {
            "text/plain": [
              "(1697, 16)"
            ]
          },
          "metadata": {
            "tags": []
          },
          "execution_count": 45
        }
      ]
    },
    {
      "cell_type": "code",
      "metadata": {
        "id": "PS_ktwQan4zV",
        "colab_type": "code",
        "colab": {
          "base_uri": "https://localhost:8080/",
          "height": 136
        },
        "outputId": "3e01f1ac-c201-413e-d478-ea5beac1a6e7"
      },
      "source": [
        "x1 = X[:,1:4]\n",
        "x2 = X[:,5:8]\n",
        "x3 = X[:,9:]\n",
        "X = np.concatenate((x1,x2,x3),axis=1)\n",
        "X"
      ],
      "execution_count": 46,
      "outputs": [
        {
          "output_type": "execute_result",
          "data": {
            "text/plain": [
              "array([[0., 0., 1., ..., 0., 0., 0.],\n",
              "       [0., 0., 0., ..., 0., 0., 0.],\n",
              "       [0., 0., 1., ..., 0., 0., 0.],\n",
              "       ...,\n",
              "       [0., 0., 1., ..., 1., 0., 0.],\n",
              "       [0., 0., 1., ..., 1., 0., 0.],\n",
              "       [0., 0., 1., ..., 1., 0., 0.]])"
            ]
          },
          "metadata": {
            "tags": []
          },
          "execution_count": 46
        }
      ]
    },
    {
      "cell_type": "markdown",
      "metadata": {
        "id": "q-SWxZxE0hZE",
        "colab_type": "text"
      },
      "source": [
        "### Preparing the Machine Learning Model"
      ]
    },
    {
      "cell_type": "markdown",
      "metadata": {
        "id": "6-kOGkfx1ZmF",
        "colab_type": "text"
      },
      "source": [
        "##### 60% of the datset is used in training the model and the rest in used in testing the model."
      ]
    },
    {
      "cell_type": "code",
      "metadata": {
        "id": "x6_wa4pbte08",
        "colab_type": "code",
        "colab": {}
      },
      "source": [
        "X_train, X_test, y_train, y_test = train_test_split(X, y, test_size=0.4,random_state=0)"
      ],
      "execution_count": 47,
      "outputs": []
    },
    {
      "cell_type": "markdown",
      "metadata": {
        "id": "8i3fNPk00ktm",
        "colab_type": "text"
      },
      "source": [
        "##### Using Support Vector Machine"
      ]
    },
    {
      "cell_type": "code",
      "metadata": {
        "id": "_kIxhJ5PvPDV",
        "colab_type": "code",
        "colab": {
          "base_uri": "https://localhost:8080/",
          "height": 85
        },
        "outputId": "e7e89544-959c-4cf6-8857-9017caa81d6f"
      },
      "source": [
        "model = svm.SVC(kernel='linear')\n",
        "model.fit(X_train,y_train)"
      ],
      "execution_count": 48,
      "outputs": [
        {
          "output_type": "execute_result",
          "data": {
            "text/plain": [
              "SVC(C=1.0, break_ties=False, cache_size=200, class_weight=None, coef0=0.0,\n",
              "    decision_function_shape='ovr', degree=3, gamma='scale', kernel='linear',\n",
              "    max_iter=-1, probability=False, random_state=None, shrinking=True,\n",
              "    tol=0.001, verbose=False)"
            ]
          },
          "metadata": {
            "tags": []
          },
          "execution_count": 48
        }
      ]
    },
    {
      "cell_type": "markdown",
      "metadata": {
        "id": "PiVJVw4I42GP",
        "colab_type": "text"
      },
      "source": [
        "##### Prediction matrix: It is the collection of predicted values from test dataset."
      ]
    },
    {
      "cell_type": "code",
      "metadata": {
        "id": "vUX_ul1fvtGK",
        "colab_type": "code",
        "colab": {
          "base_uri": "https://localhost:8080/",
          "height": 544
        },
        "outputId": "5687308f-ccd2-433a-e45d-cf5b6967fd14"
      },
      "source": [
        "y_pred = model.predict(X_test)\n",
        "y_pred"
      ],
      "execution_count": 49,
      "outputs": [
        {
          "output_type": "execute_result",
          "data": {
            "text/plain": [
              "array([1, 0, 0, 1, 0, 0, 0, 0, 0, 0, 0, 1, 1, 0, 0, 0, 0, 0, 0, 0, 0, 0,\n",
              "       0, 0, 0, 0, 0, 0, 0, 0, 0, 0, 0, 0, 0, 1, 0, 0, 0, 0, 0, 0, 0, 0,\n",
              "       0, 0, 1, 0, 1, 0, 0, 0, 0, 0, 1, 0, 0, 1, 0, 1, 0, 0, 0, 1, 0, 0,\n",
              "       0, 0, 0, 0, 0, 1, 0, 1, 0, 0, 0, 0, 0, 0, 0, 0, 1, 0, 0, 1, 1, 1,\n",
              "       0, 1, 0, 1, 0, 1, 0, 0, 0, 0, 1, 1, 0, 0, 0, 0, 0, 0, 0, 0, 0, 0,\n",
              "       0, 0, 0, 0, 0, 1, 0, 0, 0, 1, 0, 1, 0, 0, 0, 0, 0, 1, 0, 0, 0, 0,\n",
              "       0, 0, 0, 1, 1, 0, 0, 0, 1, 0, 0, 0, 0, 0, 0, 0, 0, 0, 0, 0, 0, 0,\n",
              "       1, 0, 0, 0, 1, 0, 1, 1, 0, 0, 0, 0, 1, 0, 1, 0, 0, 0, 0, 1, 1, 0,\n",
              "       0, 0, 0, 0, 0, 0, 0, 0, 0, 1, 0, 0, 1, 0, 0, 0, 0, 0, 0, 1, 1, 0,\n",
              "       0, 0, 0, 0, 0, 0, 0, 0, 0, 0, 0, 0, 0, 0, 0, 0, 0, 0, 0, 0, 0, 0,\n",
              "       1, 0, 0, 0, 0, 0, 0, 0, 0, 0, 0, 0, 0, 1, 0, 0, 0, 0, 0, 0, 0, 0,\n",
              "       0, 0, 0, 0, 0, 0, 0, 1, 0, 1, 0, 0, 0, 0, 0, 0, 0, 0, 1, 0, 0, 0,\n",
              "       0, 0, 1, 0, 0, 1, 0, 0, 0, 1, 0, 0, 1, 0, 0, 0, 0, 1, 0, 1, 1, 0,\n",
              "       0, 0, 0, 0, 0, 0, 0, 0, 0, 0, 0, 0, 0, 0, 0, 0, 0, 0, 0, 0, 0, 0,\n",
              "       0, 0, 0, 0, 1, 1, 0, 1, 0, 0, 0, 0, 0, 0, 0, 0, 0, 0, 0, 0, 1, 0,\n",
              "       0, 0, 0, 1, 0, 0, 1, 0, 0, 0, 0, 1, 0, 0, 0, 0, 0, 1, 0, 0, 0, 0,\n",
              "       0, 0, 0, 0, 0, 0, 0, 0, 1, 0, 0, 0, 1, 0, 0, 0, 0, 1, 0, 0, 1, 1,\n",
              "       0, 0, 0, 1, 0, 1, 0, 0, 0, 0, 0, 0, 1, 0, 1, 0, 0, 0, 0, 0, 0, 0,\n",
              "       0, 0, 0, 1, 1, 1, 0, 0, 0, 0, 1, 0, 0, 0, 0, 1, 0, 1, 0, 0, 0, 1,\n",
              "       1, 0, 0, 0, 1, 0, 0, 0, 1, 1, 0, 1, 0, 0, 0, 0, 0, 0, 0, 0, 0, 0,\n",
              "       1, 0, 0, 0, 0, 0, 0, 0, 0, 0, 0, 1, 0, 1, 1, 0, 0, 0, 0, 0, 1, 0,\n",
              "       0, 0, 0, 0, 0, 0, 0, 0, 0, 0, 1, 1, 0, 0, 0, 0, 0, 1, 0, 0, 0, 1,\n",
              "       0, 0, 0, 0, 0, 0, 0, 0, 0, 1, 0, 0, 0, 0, 0, 1, 0, 0, 1, 0, 0, 0,\n",
              "       0, 0, 0, 0, 0, 0, 0, 0, 0, 0, 0, 0, 0, 0, 0, 1, 0, 0, 0, 0, 0, 0,\n",
              "       0, 0, 1, 0, 0, 0, 0, 0, 1, 0, 0, 0, 0, 1, 0, 1, 0, 0, 0, 0, 0, 0,\n",
              "       0, 0, 0, 0, 0, 0, 1, 0, 0, 0, 0, 1, 0, 0, 1, 1, 1, 0, 0, 0, 0, 0,\n",
              "       0, 0, 0, 1, 0, 0, 1, 0, 0, 0, 0, 0, 0, 0, 0, 0, 0, 0, 0, 0, 0, 0,\n",
              "       1, 0, 0, 0, 0, 0, 0, 1, 0, 0, 0, 0, 0, 0, 1, 0, 0, 0, 0, 0, 0, 0,\n",
              "       1, 0, 0, 0, 0, 0, 0, 0, 0, 0, 0, 0, 0, 0, 0, 0, 0, 1, 1, 0, 0, 0,\n",
              "       0, 0, 0, 0, 0, 0, 0, 0, 1, 1, 0, 0, 0, 0, 0, 0, 0, 0, 0, 0, 0, 0,\n",
              "       0, 0, 0, 0, 0, 0, 0, 0, 0, 0, 0, 0, 0, 0, 0, 0, 0, 0, 0])"
            ]
          },
          "metadata": {
            "tags": []
          },
          "execution_count": 49
        }
      ]
    },
    {
      "cell_type": "markdown",
      "metadata": {
        "id": "OWgY0c8v5X77",
        "colab_type": "text"
      },
      "source": [
        "#####Confusion Matrix: It is the performance matrix for the model.\n",
        "It has True Positive, False Positive, True Negative, False Negative"
      ]
    },
    {
      "cell_type": "code",
      "metadata": {
        "id": "UVMfWiekwcRC",
        "colab_type": "code",
        "colab": {
          "base_uri": "https://localhost:8080/",
          "height": 51
        },
        "outputId": "b68fbc73-3389-4445-fcc3-7a6ace49a2c2"
      },
      "source": [
        "cm = confusion_matrix(y_test,y_pred)\n",
        "print(cm)"
      ],
      "execution_count": 50,
      "outputs": [
        {
          "output_type": "stream",
          "text": [
            "[[550   1]\n",
            " [ 15 113]]\n"
          ],
          "name": "stdout"
        }
      ]
    },
    {
      "cell_type": "code",
      "metadata": {
        "id": "l8yDDCyt6afH",
        "colab_type": "code",
        "colab": {
          "base_uri": "https://localhost:8080/",
          "height": 391
        },
        "outputId": "2cb188b0-b9f2-4bd2-9899-b1b8277e845c"
      },
      "source": [
        "f, ax = plt.subplots(figsize=(9, 6))\n",
        "sns.heatmap(cm,annot=True, fmt=\"d\", linewidths=.5, ax=ax, cmap='Wistia')"
      ],
      "execution_count": 51,
      "outputs": [
        {
          "output_type": "execute_result",
          "data": {
            "text/plain": [
              "<matplotlib.axes._subplots.AxesSubplot at 0x7f1c31feb9b0>"
            ]
          },
          "metadata": {
            "tags": []
          },
          "execution_count": 51
        },
        {
          "output_type": "display_data",
          "data": {
            "image/png": "[encoded data removed]",
            "text/plain": [
              "<Figure size 648x432 with 2 Axes>"
            ]
          },
          "metadata": {
            "tags": [],
            "needs_background": "light"
          }
        }
      ]
    },
    {
      "cell_type": "markdown",
      "metadata": {
        "id": "8NEQW0118zbZ",
        "colab_type": "text"
      },
      "source": [
        "##### Classification Report: It is the quality of the predictions of the model."
      ]
    },
    {
      "cell_type": "code",
      "metadata": {
        "id": "VQiT2_tvwn1o",
        "colab_type": "code",
        "colab": {
          "base_uri": "https://localhost:8080/",
          "height": 170
        },
        "outputId": "3099a983-396f-458a-d572-06becbcb30e3"
      },
      "source": [
        "cr = classification_report(y_test,y_pred)\n",
        "print (cr)"
      ],
      "execution_count": 52,
      "outputs": [
        {
          "output_type": "stream",
          "text": [
            "              precision    recall  f1-score   support\n",
            "\n",
            "           0       0.97      1.00      0.99       551\n",
            "           1       0.99      0.88      0.93       128\n",
            "\n",
            "    accuracy                           0.98       679\n",
            "   macro avg       0.98      0.94      0.96       679\n",
            "weighted avg       0.98      0.98      0.98       679\n",
            "\n"
          ],
          "name": "stdout"
        }
      ]
    },
    {
      "cell_type": "markdown",
      "metadata": {
        "id": "ufm1fEDO9Owm",
        "colab_type": "text"
      },
      "source": [
        "###The model has an average accuracy of 98%"
      ]
    }
  ]
}